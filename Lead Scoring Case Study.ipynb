{
 "cells": [
  {
   "cell_type": "markdown",
   "id": "717f5fa2",
   "metadata": {},
   "source": [
    "# Lead Scoring - Case Study"
   ]
  },
  {
   "cell_type": "markdown",
   "id": "5942aeea",
   "metadata": {},
   "source": [
    "## Problem Statement"
   ]
  },
  {
   "cell_type": "markdown",
   "id": "f2df8d07",
   "metadata": {},
   "source": [
    "A X education company which sells online courses to industry professionals needs help in selecting the most promising leads, who can potentially buy an course. The company wants to build a model wherein a lead score needs to be assigned to each lead such that the customers with a high lead score have a higher conversion chance and the customers with a lower lead score have a lower conversion chance.</br>\n",
    "\n",
    "Business Goal:\n",
    "1.  Biuld a logistic regression model to assign a lead score between 0 to 100 to each of the leads to target potential leads. \n",
    "2.  Address Business problems presented by a company through the model. </br>\n",
    "\n",
    "Target:</br> \n",
    "Target lead conversion rate to be around 80%"
   ]
  },
  {
   "cell_type": "markdown",
   "id": "ff3cb6dd",
   "metadata": {},
   "source": [
    "## 1. Importing Libraries and Warnings"
   ]
  },
  {
   "cell_type": "markdown",
   "id": "8de3b325",
   "metadata": {},
   "source": [
    "### 1.a. Importing warnings to ignore warnings"
   ]
  },
  {
   "cell_type": "code",
   "execution_count": 5,
   "id": "920583af",
   "metadata": {},
   "outputs": [],
   "source": [
    "import warnings\n",
    "warnings.filterwarnings('ignore')"
   ]
  },
  {
   "cell_type": "markdown",
   "id": "5b73bb5a",
   "metadata": {},
   "source": [
    "### 1.b. Importing useful packages"
   ]
  },
  {
   "cell_type": "code",
   "execution_count": 6,
   "id": "bef24704",
   "metadata": {},
   "outputs": [],
   "source": [
    "import numpy as np\n",
    "import pandas as pd\n",
    "import matplotlib.pyplot as plt\n",
    "import seaborn as sns"
   ]
  },
  {
   "cell_type": "markdown",
   "id": "31d91caa",
   "metadata": {},
   "source": [
    "### 1.c. importing packages for model building"
   ]
  },
  {
   "cell_type": "code",
   "execution_count": 7,
   "id": "603a3976",
   "metadata": {},
   "outputs": [],
   "source": [
    "from sklearn.model_selection import train_test_split\n",
    "from sklearn.preprocessing import MinMaxScaler\n",
    "from sklearn.preprocessing import StandardScaler\n",
    "import statsmodels.api as sm\n",
    "from sklearn.linear_model import LogisticRegression\n",
    "from sklearn.feature_selection import RFE\n",
    "from sklearn import metrics\n",
    "from statsmodels.stats.outliers_influence import variance_inflation_factor\n",
    "from sklearn.metrics import confusion_matrix\n",
    "from sklearn.metrics import precision_score, recall_score\n",
    "from sklearn.metrics import precision_recall_curve"
   ]
  },
  {
   "cell_type": "markdown",
   "id": "b1263fff",
   "metadata": {},
   "source": [
    "## 2. Data Loading and Understanding"
   ]
  },
  {
   "cell_type": "markdown",
   "id": "25f1639c",
   "metadata": {},
   "source": [
    "### 2.1. Data Loading"
   ]
  },
  {
   "cell_type": "code",
   "execution_count": 8,
   "id": "70e6a17c",
   "metadata": {},
   "outputs": [],
   "source": [
    "# Reading the data set and assigning to a varaible 'df_leads'\n",
    "df_leads = pd.read_csv('Leads.csv')"
   ]
  },
  {
   "cell_type": "markdown",
   "id": "622c6180",
   "metadata": {},
   "source": [
    "### 2.2. Data Understanding"
   ]
  },
  {
   "cell_type": "markdown",
   "id": "e5296dea",
   "metadata": {},
   "source": [
    "#### 2.2.i. First 5 rows of the data set"
   ]
  },
  {
   "cell_type": "code",
   "execution_count": 9,
   "id": "8ee12ea4",
   "metadata": {
    "scrolled": false
   },
   "outputs": [
    {
     "data": {
      "text/html": [
       "<div>\n",
       "<style scoped>\n",
       "    .dataframe tbody tr th:only-of-type {\n",
       "        vertical-align: middle;\n",
       "    }\n",
       "\n",
       "    .dataframe tbody tr th {\n",
       "        vertical-align: top;\n",
       "    }\n",
       "\n",
       "    .dataframe thead th {\n",
       "        text-align: right;\n",
       "    }\n",
       "</style>\n",
       "<table border=\"1\" class=\"dataframe\">\n",
       "  <thead>\n",
       "    <tr style=\"text-align: right;\">\n",
       "      <th></th>\n",
       "      <th>Prospect ID</th>\n",
       "      <th>Lead Number</th>\n",
       "      <th>Lead Origin</th>\n",
       "      <th>Lead Source</th>\n",
       "      <th>Do Not Email</th>\n",
       "      <th>Do Not Call</th>\n",
       "      <th>Converted</th>\n",
       "      <th>TotalVisits</th>\n",
       "      <th>Total Time Spent on Website</th>\n",
       "      <th>Page Views Per Visit</th>\n",
       "      <th>...</th>\n",
       "      <th>Get updates on DM Content</th>\n",
       "      <th>Lead Profile</th>\n",
       "      <th>City</th>\n",
       "      <th>Asymmetrique Activity Index</th>\n",
       "      <th>Asymmetrique Profile Index</th>\n",
       "      <th>Asymmetrique Activity Score</th>\n",
       "      <th>Asymmetrique Profile Score</th>\n",
       "      <th>I agree to pay the amount through cheque</th>\n",
       "      <th>A free copy of Mastering The Interview</th>\n",
       "      <th>Last Notable Activity</th>\n",
       "    </tr>\n",
       "  </thead>\n",
       "  <tbody>\n",
       "    <tr>\n",
       "      <th>0</th>\n",
       "      <td>7927b2df-8bba-4d29-b9a2-b6e0beafe620</td>\n",
       "      <td>660737</td>\n",
       "      <td>API</td>\n",
       "      <td>Olark Chat</td>\n",
       "      <td>No</td>\n",
       "      <td>No</td>\n",
       "      <td>0</td>\n",
       "      <td>0.0</td>\n",
       "      <td>0</td>\n",
       "      <td>0.0</td>\n",
       "      <td>...</td>\n",
       "      <td>No</td>\n",
       "      <td>Select</td>\n",
       "      <td>Select</td>\n",
       "      <td>02.Medium</td>\n",
       "      <td>02.Medium</td>\n",
       "      <td>15.0</td>\n",
       "      <td>15.0</td>\n",
       "      <td>No</td>\n",
       "      <td>No</td>\n",
       "      <td>Modified</td>\n",
       "    </tr>\n",
       "    <tr>\n",
       "      <th>1</th>\n",
       "      <td>2a272436-5132-4136-86fa-dcc88c88f482</td>\n",
       "      <td>660728</td>\n",
       "      <td>API</td>\n",
       "      <td>Organic Search</td>\n",
       "      <td>No</td>\n",
       "      <td>No</td>\n",
       "      <td>0</td>\n",
       "      <td>5.0</td>\n",
       "      <td>674</td>\n",
       "      <td>2.5</td>\n",
       "      <td>...</td>\n",
       "      <td>No</td>\n",
       "      <td>Select</td>\n",
       "      <td>Select</td>\n",
       "      <td>02.Medium</td>\n",
       "      <td>02.Medium</td>\n",
       "      <td>15.0</td>\n",
       "      <td>15.0</td>\n",
       "      <td>No</td>\n",
       "      <td>No</td>\n",
       "      <td>Email Opened</td>\n",
       "    </tr>\n",
       "    <tr>\n",
       "      <th>2</th>\n",
       "      <td>8cc8c611-a219-4f35-ad23-fdfd2656bd8a</td>\n",
       "      <td>660727</td>\n",
       "      <td>Landing Page Submission</td>\n",
       "      <td>Direct Traffic</td>\n",
       "      <td>No</td>\n",
       "      <td>No</td>\n",
       "      <td>1</td>\n",
       "      <td>2.0</td>\n",
       "      <td>1532</td>\n",
       "      <td>2.0</td>\n",
       "      <td>...</td>\n",
       "      <td>No</td>\n",
       "      <td>Potential Lead</td>\n",
       "      <td>Mumbai</td>\n",
       "      <td>02.Medium</td>\n",
       "      <td>01.High</td>\n",
       "      <td>14.0</td>\n",
       "      <td>20.0</td>\n",
       "      <td>No</td>\n",
       "      <td>Yes</td>\n",
       "      <td>Email Opened</td>\n",
       "    </tr>\n",
       "    <tr>\n",
       "      <th>3</th>\n",
       "      <td>0cc2df48-7cf4-4e39-9de9-19797f9b38cc</td>\n",
       "      <td>660719</td>\n",
       "      <td>Landing Page Submission</td>\n",
       "      <td>Direct Traffic</td>\n",
       "      <td>No</td>\n",
       "      <td>No</td>\n",
       "      <td>0</td>\n",
       "      <td>1.0</td>\n",
       "      <td>305</td>\n",
       "      <td>1.0</td>\n",
       "      <td>...</td>\n",
       "      <td>No</td>\n",
       "      <td>Select</td>\n",
       "      <td>Mumbai</td>\n",
       "      <td>02.Medium</td>\n",
       "      <td>01.High</td>\n",
       "      <td>13.0</td>\n",
       "      <td>17.0</td>\n",
       "      <td>No</td>\n",
       "      <td>No</td>\n",
       "      <td>Modified</td>\n",
       "    </tr>\n",
       "    <tr>\n",
       "      <th>4</th>\n",
       "      <td>3256f628-e534-4826-9d63-4a8b88782852</td>\n",
       "      <td>660681</td>\n",
       "      <td>Landing Page Submission</td>\n",
       "      <td>Google</td>\n",
       "      <td>No</td>\n",
       "      <td>No</td>\n",
       "      <td>1</td>\n",
       "      <td>2.0</td>\n",
       "      <td>1428</td>\n",
       "      <td>1.0</td>\n",
       "      <td>...</td>\n",
       "      <td>No</td>\n",
       "      <td>Select</td>\n",
       "      <td>Mumbai</td>\n",
       "      <td>02.Medium</td>\n",
       "      <td>01.High</td>\n",
       "      <td>15.0</td>\n",
       "      <td>18.0</td>\n",
       "      <td>No</td>\n",
       "      <td>No</td>\n",
       "      <td>Modified</td>\n",
       "    </tr>\n",
       "  </tbody>\n",
       "</table>\n",
       "<p>5 rows × 37 columns</p>\n",
       "</div>"
      ],
      "text/plain": [
       "                            Prospect ID  Lead Number              Lead Origin  \\\n",
       "0  7927b2df-8bba-4d29-b9a2-b6e0beafe620       660737                      API   \n",
       "1  2a272436-5132-4136-86fa-dcc88c88f482       660728                      API   \n",
       "2  8cc8c611-a219-4f35-ad23-fdfd2656bd8a       660727  Landing Page Submission   \n",
       "3  0cc2df48-7cf4-4e39-9de9-19797f9b38cc       660719  Landing Page Submission   \n",
       "4  3256f628-e534-4826-9d63-4a8b88782852       660681  Landing Page Submission   \n",
       "\n",
       "      Lead Source Do Not Email Do Not Call  Converted  TotalVisits  \\\n",
       "0      Olark Chat           No          No          0          0.0   \n",
       "1  Organic Search           No          No          0          5.0   \n",
       "2  Direct Traffic           No          No          1          2.0   \n",
       "3  Direct Traffic           No          No          0          1.0   \n",
       "4          Google           No          No          1          2.0   \n",
       "\n",
       "   Total Time Spent on Website  Page Views Per Visit  ...  \\\n",
       "0                            0                   0.0  ...   \n",
       "1                          674                   2.5  ...   \n",
       "2                         1532                   2.0  ...   \n",
       "3                          305                   1.0  ...   \n",
       "4                         1428                   1.0  ...   \n",
       "\n",
       "  Get updates on DM Content    Lead Profile    City  \\\n",
       "0                        No          Select  Select   \n",
       "1                        No          Select  Select   \n",
       "2                        No  Potential Lead  Mumbai   \n",
       "3                        No          Select  Mumbai   \n",
       "4                        No          Select  Mumbai   \n",
       "\n",
       "  Asymmetrique Activity Index Asymmetrique Profile Index  \\\n",
       "0                   02.Medium                  02.Medium   \n",
       "1                   02.Medium                  02.Medium   \n",
       "2                   02.Medium                    01.High   \n",
       "3                   02.Medium                    01.High   \n",
       "4                   02.Medium                    01.High   \n",
       "\n",
       "  Asymmetrique Activity Score Asymmetrique Profile Score  \\\n",
       "0                        15.0                       15.0   \n",
       "1                        15.0                       15.0   \n",
       "2                        14.0                       20.0   \n",
       "3                        13.0                       17.0   \n",
       "4                        15.0                       18.0   \n",
       "\n",
       "  I agree to pay the amount through cheque  \\\n",
       "0                                       No   \n",
       "1                                       No   \n",
       "2                                       No   \n",
       "3                                       No   \n",
       "4                                       No   \n",
       "\n",
       "  A free copy of Mastering The Interview Last Notable Activity  \n",
       "0                                     No              Modified  \n",
       "1                                     No          Email Opened  \n",
       "2                                    Yes          Email Opened  \n",
       "3                                     No              Modified  \n",
       "4                                     No              Modified  \n",
       "\n",
       "[5 rows x 37 columns]"
      ]
     },
     "execution_count": 9,
     "metadata": {},
     "output_type": "execute_result"
    }
   ],
   "source": [
    "df_leads.head()"
   ]
  },
  {
   "cell_type": "markdown",
   "id": "2a135308",
   "metadata": {},
   "source": [
    "#### 2.2.ii. Shape of the dataset"
   ]
  },
  {
   "cell_type": "code",
   "execution_count": 10,
   "id": "ca34184d",
   "metadata": {
    "scrolled": true
   },
   "outputs": [
    {
     "data": {
      "text/plain": [
       "(9240, 37)"
      ]
     },
     "execution_count": 10,
     "metadata": {},
     "output_type": "execute_result"
    }
   ],
   "source": [
    "df_leads.shape"
   ]
  },
  {
   "cell_type": "markdown",
   "id": "ab20c9c4",
   "metadata": {},
   "source": [
    "#### 2.2.iii. Complete info of the dataset"
   ]
  },
  {
   "cell_type": "code",
   "execution_count": 11,
   "id": "7add1dec",
   "metadata": {
    "scrolled": true
   },
   "outputs": [
    {
     "name": "stdout",
     "output_type": "stream",
     "text": [
      "<class 'pandas.core.frame.DataFrame'>\n",
      "RangeIndex: 9240 entries, 0 to 9239\n",
      "Data columns (total 37 columns):\n",
      " #   Column                                         Non-Null Count  Dtype  \n",
      "---  ------                                         --------------  -----  \n",
      " 0   Prospect ID                                    9240 non-null   object \n",
      " 1   Lead Number                                    9240 non-null   int64  \n",
      " 2   Lead Origin                                    9240 non-null   object \n",
      " 3   Lead Source                                    9204 non-null   object \n",
      " 4   Do Not Email                                   9240 non-null   object \n",
      " 5   Do Not Call                                    9240 non-null   object \n",
      " 6   Converted                                      9240 non-null   int64  \n",
      " 7   TotalVisits                                    9103 non-null   float64\n",
      " 8   Total Time Spent on Website                    9240 non-null   int64  \n",
      " 9   Page Views Per Visit                           9103 non-null   float64\n",
      " 10  Last Activity                                  9137 non-null   object \n",
      " 11  Country                                        6779 non-null   object \n",
      " 12  Specialization                                 7802 non-null   object \n",
      " 13  How did you hear about X Education             7033 non-null   object \n",
      " 14  What is your current occupation                6550 non-null   object \n",
      " 15  What matters most to you in choosing a course  6531 non-null   object \n",
      " 16  Search                                         9240 non-null   object \n",
      " 17  Magazine                                       9240 non-null   object \n",
      " 18  Newspaper Article                              9240 non-null   object \n",
      " 19  X Education Forums                             9240 non-null   object \n",
      " 20  Newspaper                                      9240 non-null   object \n",
      " 21  Digital Advertisement                          9240 non-null   object \n",
      " 22  Through Recommendations                        9240 non-null   object \n",
      " 23  Receive More Updates About Our Courses         9240 non-null   object \n",
      " 24  Tags                                           5887 non-null   object \n",
      " 25  Lead Quality                                   4473 non-null   object \n",
      " 26  Update me on Supply Chain Content              9240 non-null   object \n",
      " 27  Get updates on DM Content                      9240 non-null   object \n",
      " 28  Lead Profile                                   6531 non-null   object \n",
      " 29  City                                           7820 non-null   object \n",
      " 30  Asymmetrique Activity Index                    5022 non-null   object \n",
      " 31  Asymmetrique Profile Index                     5022 non-null   object \n",
      " 32  Asymmetrique Activity Score                    5022 non-null   float64\n",
      " 33  Asymmetrique Profile Score                     5022 non-null   float64\n",
      " 34  I agree to pay the amount through cheque       9240 non-null   object \n",
      " 35  A free copy of Mastering The Interview         9240 non-null   object \n",
      " 36  Last Notable Activity                          9240 non-null   object \n",
      "dtypes: float64(4), int64(3), object(30)\n",
      "memory usage: 2.6+ MB\n"
     ]
    }
   ],
   "source": [
    "df_leads.info()"
   ]
  },
  {
   "cell_type": "markdown",
   "id": "8d75736f",
   "metadata": {},
   "source": [
    "#### 2.2.iv. Statistical information of the data set"
   ]
  },
  {
   "cell_type": "code",
   "execution_count": 12,
   "id": "90fb3e0e",
   "metadata": {
    "scrolled": true
   },
   "outputs": [
    {
     "data": {
      "text/html": [
       "<div>\n",
       "<style scoped>\n",
       "    .dataframe tbody tr th:only-of-type {\n",
       "        vertical-align: middle;\n",
       "    }\n",
       "\n",
       "    .dataframe tbody tr th {\n",
       "        vertical-align: top;\n",
       "    }\n",
       "\n",
       "    .dataframe thead th {\n",
       "        text-align: right;\n",
       "    }\n",
       "</style>\n",
       "<table border=\"1\" class=\"dataframe\">\n",
       "  <thead>\n",
       "    <tr style=\"text-align: right;\">\n",
       "      <th></th>\n",
       "      <th>Lead Number</th>\n",
       "      <th>Converted</th>\n",
       "      <th>TotalVisits</th>\n",
       "      <th>Total Time Spent on Website</th>\n",
       "      <th>Page Views Per Visit</th>\n",
       "      <th>Asymmetrique Activity Score</th>\n",
       "      <th>Asymmetrique Profile Score</th>\n",
       "    </tr>\n",
       "  </thead>\n",
       "  <tbody>\n",
       "    <tr>\n",
       "      <th>count</th>\n",
       "      <td>9240.000000</td>\n",
       "      <td>9240.000000</td>\n",
       "      <td>9103.000000</td>\n",
       "      <td>9240.000000</td>\n",
       "      <td>9103.000000</td>\n",
       "      <td>5022.000000</td>\n",
       "      <td>5022.000000</td>\n",
       "    </tr>\n",
       "    <tr>\n",
       "      <th>mean</th>\n",
       "      <td>617188.435606</td>\n",
       "      <td>0.385390</td>\n",
       "      <td>3.445238</td>\n",
       "      <td>487.698268</td>\n",
       "      <td>2.362820</td>\n",
       "      <td>14.306252</td>\n",
       "      <td>16.344883</td>\n",
       "    </tr>\n",
       "    <tr>\n",
       "      <th>std</th>\n",
       "      <td>23405.995698</td>\n",
       "      <td>0.486714</td>\n",
       "      <td>4.854853</td>\n",
       "      <td>548.021466</td>\n",
       "      <td>2.161418</td>\n",
       "      <td>1.386694</td>\n",
       "      <td>1.811395</td>\n",
       "    </tr>\n",
       "    <tr>\n",
       "      <th>min</th>\n",
       "      <td>579533.000000</td>\n",
       "      <td>0.000000</td>\n",
       "      <td>0.000000</td>\n",
       "      <td>0.000000</td>\n",
       "      <td>0.000000</td>\n",
       "      <td>7.000000</td>\n",
       "      <td>11.000000</td>\n",
       "    </tr>\n",
       "    <tr>\n",
       "      <th>25%</th>\n",
       "      <td>596484.500000</td>\n",
       "      <td>0.000000</td>\n",
       "      <td>1.000000</td>\n",
       "      <td>12.000000</td>\n",
       "      <td>1.000000</td>\n",
       "      <td>14.000000</td>\n",
       "      <td>15.000000</td>\n",
       "    </tr>\n",
       "    <tr>\n",
       "      <th>50%</th>\n",
       "      <td>615479.000000</td>\n",
       "      <td>0.000000</td>\n",
       "      <td>3.000000</td>\n",
       "      <td>248.000000</td>\n",
       "      <td>2.000000</td>\n",
       "      <td>14.000000</td>\n",
       "      <td>16.000000</td>\n",
       "    </tr>\n",
       "    <tr>\n",
       "      <th>75%</th>\n",
       "      <td>637387.250000</td>\n",
       "      <td>1.000000</td>\n",
       "      <td>5.000000</td>\n",
       "      <td>936.000000</td>\n",
       "      <td>3.000000</td>\n",
       "      <td>15.000000</td>\n",
       "      <td>18.000000</td>\n",
       "    </tr>\n",
       "    <tr>\n",
       "      <th>max</th>\n",
       "      <td>660737.000000</td>\n",
       "      <td>1.000000</td>\n",
       "      <td>251.000000</td>\n",
       "      <td>2272.000000</td>\n",
       "      <td>55.000000</td>\n",
       "      <td>18.000000</td>\n",
       "      <td>20.000000</td>\n",
       "    </tr>\n",
       "  </tbody>\n",
       "</table>\n",
       "</div>"
      ],
      "text/plain": [
       "         Lead Number    Converted  TotalVisits  Total Time Spent on Website  \\\n",
       "count    9240.000000  9240.000000  9103.000000                  9240.000000   \n",
       "mean   617188.435606     0.385390     3.445238                   487.698268   \n",
       "std     23405.995698     0.486714     4.854853                   548.021466   \n",
       "min    579533.000000     0.000000     0.000000                     0.000000   \n",
       "25%    596484.500000     0.000000     1.000000                    12.000000   \n",
       "50%    615479.000000     0.000000     3.000000                   248.000000   \n",
       "75%    637387.250000     1.000000     5.000000                   936.000000   \n",
       "max    660737.000000     1.000000   251.000000                  2272.000000   \n",
       "\n",
       "       Page Views Per Visit  Asymmetrique Activity Score  \\\n",
       "count           9103.000000                  5022.000000   \n",
       "mean               2.362820                    14.306252   \n",
       "std                2.161418                     1.386694   \n",
       "min                0.000000                     7.000000   \n",
       "25%                1.000000                    14.000000   \n",
       "50%                2.000000                    14.000000   \n",
       "75%                3.000000                    15.000000   \n",
       "max               55.000000                    18.000000   \n",
       "\n",
       "       Asymmetrique Profile Score  \n",
       "count                 5022.000000  \n",
       "mean                    16.344883  \n",
       "std                      1.811395  \n",
       "min                     11.000000  \n",
       "25%                     15.000000  \n",
       "50%                     16.000000  \n",
       "75%                     18.000000  \n",
       "max                     20.000000  "
      ]
     },
     "execution_count": 12,
     "metadata": {},
     "output_type": "execute_result"
    }
   ],
   "source": [
    "df_leads.describe()"
   ]
  },
  {
   "cell_type": "markdown",
   "id": "7c66d761",
   "metadata": {},
   "source": [
    "## 3. Data Pre-processing"
   ]
  },
  {
   "cell_type": "markdown",
   "id": "cb48f973",
   "metadata": {},
   "source": [
    "### 3.1. Cleaning the dataframe"
   ]
  },
  {
   "cell_type": "markdown",
   "id": "83d083f1",
   "metadata": {},
   "source": [
    "#### 3.1.a. Values to lower case"
   ]
  },
  {
   "cell_type": "code",
   "execution_count": 13,
   "id": "896aeef4",
   "metadata": {},
   "outputs": [],
   "source": [
    "# Converting all the values to lower case\n",
    "df_leads = df_leads.applymap(lambda s:s.lower() if type(s) == str else s)"
   ]
  },
  {
   "cell_type": "markdown",
   "id": "6680137d",
   "metadata": {},
   "source": [
    "#### 3.1.b. Replacing the 'Select' with 'NaN'"
   ]
  },
  {
   "cell_type": "code",
   "execution_count": 14,
   "id": "a6721464",
   "metadata": {},
   "outputs": [],
   "source": [
    "# Replacing 'Select' with NaN (Since it means no option is selected)\n",
    "df_leads = df_leads.replace('select',np.nan)"
   ]
  },
  {
   "cell_type": "markdown",
   "id": "f76377d0",
   "metadata": {},
   "source": [
    "#### 3.1.c. Checking for unique values"
   ]
  },
  {
   "cell_type": "code",
   "execution_count": 15,
   "id": "9d94a5e0",
   "metadata": {
    "scrolled": true
   },
   "outputs": [
    {
     "data": {
      "text/plain": [
       "Prospect ID                                      9240\n",
       "Lead Number                                      9240\n",
       "Lead Origin                                         5\n",
       "Lead Source                                        20\n",
       "Do Not Email                                        2\n",
       "Do Not Call                                         2\n",
       "Converted                                           2\n",
       "TotalVisits                                        41\n",
       "Total Time Spent on Website                      1731\n",
       "Page Views Per Visit                              114\n",
       "Last Activity                                      17\n",
       "Country                                            38\n",
       "Specialization                                     18\n",
       "How did you hear about X Education                  9\n",
       "What is your current occupation                     6\n",
       "What matters most to you in choosing a course       3\n",
       "Search                                              2\n",
       "Magazine                                            1\n",
       "Newspaper Article                                   2\n",
       "X Education Forums                                  2\n",
       "Newspaper                                           2\n",
       "Digital Advertisement                               2\n",
       "Through Recommendations                             2\n",
       "Receive More Updates About Our Courses              1\n",
       "Tags                                               26\n",
       "Lead Quality                                        5\n",
       "Update me on Supply Chain Content                   1\n",
       "Get updates on DM Content                           1\n",
       "Lead Profile                                        5\n",
       "City                                                6\n",
       "Asymmetrique Activity Index                         3\n",
       "Asymmetrique Profile Index                          3\n",
       "Asymmetrique Activity Score                        12\n",
       "Asymmetrique Profile Score                         10\n",
       "I agree to pay the amount through cheque            1\n",
       "A free copy of Mastering The Interview              2\n",
       "Last Notable Activity                              16\n",
       "dtype: int64"
      ]
     },
     "execution_count": 15,
     "metadata": {},
     "output_type": "execute_result"
    }
   ],
   "source": [
    "# Checking if there are columns with one unique value since it won't affect our analysis\n",
    "df_leads.nunique()"
   ]
  },
  {
   "cell_type": "code",
   "execution_count": 16,
   "id": "a84bc152",
   "metadata": {},
   "outputs": [],
   "source": [
    "# Dropping unique valued columns\n",
    "leads= df_leads.drop(['Magazine','Receive More Updates About Our Courses','I agree to pay the amount through cheque','Get updates on DM Content','Update me on Supply Chain Content'],axis=1)"
   ]
  },
  {
   "cell_type": "markdown",
   "id": "e1a41d58",
   "metadata": {},
   "source": [
    "#### 3.1.d. Identifying and dropping the null values and unwanted columns"
   ]
  },
  {
   "cell_type": "code",
   "execution_count": 17,
   "id": "f4aecdff",
   "metadata": {
    "scrolled": true
   },
   "outputs": [
    {
     "data": {
      "text/plain": [
       "How did you hear about X Education               78.46\n",
       "Lead Profile                                     74.19\n",
       "Lead Quality                                     51.59\n",
       "Asymmetrique Profile Score                       45.65\n",
       "Asymmetrique Activity Score                      45.65\n",
       "Asymmetrique Profile Index                       45.65\n",
       "Asymmetrique Activity Index                      45.65\n",
       "City                                             39.71\n",
       "Specialization                                   36.58\n",
       "Tags                                             36.29\n",
       "What matters most to you in choosing a course    29.32\n",
       "What is your current occupation                  29.11\n",
       "Country                                          26.63\n",
       "TotalVisits                                       1.48\n",
       "Page Views Per Visit                              1.48\n",
       "Last Activity                                     1.11\n",
       "Lead Source                                       0.39\n",
       "Through Recommendations                           0.00\n",
       "A free copy of Mastering The Interview            0.00\n",
       "Prospect ID                                       0.00\n",
       "Search                                            0.00\n",
       "Digital Advertisement                             0.00\n",
       "Newspaper                                         0.00\n",
       "X Education Forums                                0.00\n",
       "Newspaper Article                                 0.00\n",
       "Lead Number                                       0.00\n",
       "Total Time Spent on Website                       0.00\n",
       "Converted                                         0.00\n",
       "Do Not Call                                       0.00\n",
       "Do Not Email                                      0.00\n",
       "Lead Origin                                       0.00\n",
       "Last Notable Activity                             0.00\n",
       "dtype: float64"
      ]
     },
     "execution_count": 17,
     "metadata": {},
     "output_type": "execute_result"
    }
   ],
   "source": [
    "# Checking null values and their percentage\n",
    "round(100*(leads.isnull().sum()/len(leads.index)), 2).sort_values(ascending=False)"
   ]
  },
  {
   "cell_type": "markdown",
   "id": "46ccacfe",
   "metadata": {},
   "source": [
    "##### The dataset has more null values indicating that the data set needs to cleaned from null values for better analysis </br> Threshold- 35%: Columns that have more than 35% null values can be dropped or eliminated."
   ]
  },
  {
   "cell_type": "code",
   "execution_count": 18,
   "id": "249f658b",
   "metadata": {},
   "outputs": [
    {
     "data": {
      "text/html": [
       "<div>\n",
       "<style scoped>\n",
       "    .dataframe tbody tr th:only-of-type {\n",
       "        vertical-align: middle;\n",
       "    }\n",
       "\n",
       "    .dataframe tbody tr th {\n",
       "        vertical-align: top;\n",
       "    }\n",
       "\n",
       "    .dataframe thead th {\n",
       "        text-align: right;\n",
       "    }\n",
       "</style>\n",
       "<table border=\"1\" class=\"dataframe\">\n",
       "  <thead>\n",
       "    <tr style=\"text-align: right;\">\n",
       "      <th></th>\n",
       "      <th>Prospect ID</th>\n",
       "      <th>Lead Origin</th>\n",
       "      <th>Lead Source</th>\n",
       "      <th>Do Not Email</th>\n",
       "      <th>Do Not Call</th>\n",
       "      <th>Converted</th>\n",
       "      <th>TotalVisits</th>\n",
       "      <th>Total Time Spent on Website</th>\n",
       "      <th>Page Views Per Visit</th>\n",
       "      <th>Last Activity</th>\n",
       "      <th>...</th>\n",
       "      <th>What is your current occupation</th>\n",
       "      <th>What matters most to you in choosing a course</th>\n",
       "      <th>Search</th>\n",
       "      <th>Newspaper Article</th>\n",
       "      <th>X Education Forums</th>\n",
       "      <th>Newspaper</th>\n",
       "      <th>Digital Advertisement</th>\n",
       "      <th>Through Recommendations</th>\n",
       "      <th>A free copy of Mastering The Interview</th>\n",
       "      <th>Last Notable Activity</th>\n",
       "    </tr>\n",
       "  </thead>\n",
       "  <tbody>\n",
       "    <tr>\n",
       "      <th>0</th>\n",
       "      <td>7927b2df-8bba-4d29-b9a2-b6e0beafe620</td>\n",
       "      <td>api</td>\n",
       "      <td>olark chat</td>\n",
       "      <td>no</td>\n",
       "      <td>no</td>\n",
       "      <td>0</td>\n",
       "      <td>0.0</td>\n",
       "      <td>0</td>\n",
       "      <td>0.0</td>\n",
       "      <td>page visited on website</td>\n",
       "      <td>...</td>\n",
       "      <td>unemployed</td>\n",
       "      <td>better career prospects</td>\n",
       "      <td>no</td>\n",
       "      <td>no</td>\n",
       "      <td>no</td>\n",
       "      <td>no</td>\n",
       "      <td>no</td>\n",
       "      <td>no</td>\n",
       "      <td>no</td>\n",
       "      <td>modified</td>\n",
       "    </tr>\n",
       "    <tr>\n",
       "      <th>1</th>\n",
       "      <td>2a272436-5132-4136-86fa-dcc88c88f482</td>\n",
       "      <td>api</td>\n",
       "      <td>organic search</td>\n",
       "      <td>no</td>\n",
       "      <td>no</td>\n",
       "      <td>0</td>\n",
       "      <td>5.0</td>\n",
       "      <td>674</td>\n",
       "      <td>2.5</td>\n",
       "      <td>email opened</td>\n",
       "      <td>...</td>\n",
       "      <td>unemployed</td>\n",
       "      <td>better career prospects</td>\n",
       "      <td>no</td>\n",
       "      <td>no</td>\n",
       "      <td>no</td>\n",
       "      <td>no</td>\n",
       "      <td>no</td>\n",
       "      <td>no</td>\n",
       "      <td>no</td>\n",
       "      <td>email opened</td>\n",
       "    </tr>\n",
       "    <tr>\n",
       "      <th>2</th>\n",
       "      <td>8cc8c611-a219-4f35-ad23-fdfd2656bd8a</td>\n",
       "      <td>landing page submission</td>\n",
       "      <td>direct traffic</td>\n",
       "      <td>no</td>\n",
       "      <td>no</td>\n",
       "      <td>1</td>\n",
       "      <td>2.0</td>\n",
       "      <td>1532</td>\n",
       "      <td>2.0</td>\n",
       "      <td>email opened</td>\n",
       "      <td>...</td>\n",
       "      <td>student</td>\n",
       "      <td>better career prospects</td>\n",
       "      <td>no</td>\n",
       "      <td>no</td>\n",
       "      <td>no</td>\n",
       "      <td>no</td>\n",
       "      <td>no</td>\n",
       "      <td>no</td>\n",
       "      <td>yes</td>\n",
       "      <td>email opened</td>\n",
       "    </tr>\n",
       "    <tr>\n",
       "      <th>3</th>\n",
       "      <td>0cc2df48-7cf4-4e39-9de9-19797f9b38cc</td>\n",
       "      <td>landing page submission</td>\n",
       "      <td>direct traffic</td>\n",
       "      <td>no</td>\n",
       "      <td>no</td>\n",
       "      <td>0</td>\n",
       "      <td>1.0</td>\n",
       "      <td>305</td>\n",
       "      <td>1.0</td>\n",
       "      <td>unreachable</td>\n",
       "      <td>...</td>\n",
       "      <td>unemployed</td>\n",
       "      <td>better career prospects</td>\n",
       "      <td>no</td>\n",
       "      <td>no</td>\n",
       "      <td>no</td>\n",
       "      <td>no</td>\n",
       "      <td>no</td>\n",
       "      <td>no</td>\n",
       "      <td>no</td>\n",
       "      <td>modified</td>\n",
       "    </tr>\n",
       "    <tr>\n",
       "      <th>4</th>\n",
       "      <td>3256f628-e534-4826-9d63-4a8b88782852</td>\n",
       "      <td>landing page submission</td>\n",
       "      <td>google</td>\n",
       "      <td>no</td>\n",
       "      <td>no</td>\n",
       "      <td>1</td>\n",
       "      <td>2.0</td>\n",
       "      <td>1428</td>\n",
       "      <td>1.0</td>\n",
       "      <td>converted to lead</td>\n",
       "      <td>...</td>\n",
       "      <td>unemployed</td>\n",
       "      <td>better career prospects</td>\n",
       "      <td>no</td>\n",
       "      <td>no</td>\n",
       "      <td>no</td>\n",
       "      <td>no</td>\n",
       "      <td>no</td>\n",
       "      <td>no</td>\n",
       "      <td>no</td>\n",
       "      <td>modified</td>\n",
       "    </tr>\n",
       "  </tbody>\n",
       "</table>\n",
       "<p>5 rows × 22 columns</p>\n",
       "</div>"
      ],
      "text/plain": [
       "                            Prospect ID              Lead Origin  \\\n",
       "0  7927b2df-8bba-4d29-b9a2-b6e0beafe620                      api   \n",
       "1  2a272436-5132-4136-86fa-dcc88c88f482                      api   \n",
       "2  8cc8c611-a219-4f35-ad23-fdfd2656bd8a  landing page submission   \n",
       "3  0cc2df48-7cf4-4e39-9de9-19797f9b38cc  landing page submission   \n",
       "4  3256f628-e534-4826-9d63-4a8b88782852  landing page submission   \n",
       "\n",
       "      Lead Source Do Not Email Do Not Call  Converted  TotalVisits  \\\n",
       "0      olark chat           no          no          0          0.0   \n",
       "1  organic search           no          no          0          5.0   \n",
       "2  direct traffic           no          no          1          2.0   \n",
       "3  direct traffic           no          no          0          1.0   \n",
       "4          google           no          no          1          2.0   \n",
       "\n",
       "   Total Time Spent on Website  Page Views Per Visit            Last Activity  \\\n",
       "0                            0                   0.0  page visited on website   \n",
       "1                          674                   2.5             email opened   \n",
       "2                         1532                   2.0             email opened   \n",
       "3                          305                   1.0              unreachable   \n",
       "4                         1428                   1.0        converted to lead   \n",
       "\n",
       "   ... What is your current occupation  \\\n",
       "0  ...                      unemployed   \n",
       "1  ...                      unemployed   \n",
       "2  ...                         student   \n",
       "3  ...                      unemployed   \n",
       "4  ...                      unemployed   \n",
       "\n",
       "  What matters most to you in choosing a course Search Newspaper Article  \\\n",
       "0                       better career prospects     no                no   \n",
       "1                       better career prospects     no                no   \n",
       "2                       better career prospects     no                no   \n",
       "3                       better career prospects     no                no   \n",
       "4                       better career prospects     no                no   \n",
       "\n",
       "  X Education Forums Newspaper Digital Advertisement Through Recommendations  \\\n",
       "0                 no        no                    no                      no   \n",
       "1                 no        no                    no                      no   \n",
       "2                 no        no                    no                      no   \n",
       "3                 no        no                    no                      no   \n",
       "4                 no        no                    no                      no   \n",
       "\n",
       "  A free copy of Mastering The Interview Last Notable Activity  \n",
       "0                                     no              modified  \n",
       "1                                     no          email opened  \n",
       "2                                    yes          email opened  \n",
       "3                                     no              modified  \n",
       "4                                     no              modified  \n",
       "\n",
       "[5 rows x 22 columns]"
      ]
     },
     "execution_count": 18,
     "metadata": {},
     "output_type": "execute_result"
    }
   ],
   "source": [
    "# Dropping those columns having null percentage more than 35%\n",
    "leads = leads.drop(['Asymmetrique Profile Index','Asymmetrique Activity Index','Asymmetrique Activity Score','Asymmetrique Profile Score','Lead Profile','Tags','Lead Quality','How did you hear about X Education','City','Lead Number'],axis=1)\n",
    "leads.head()"
   ]
  },
  {
   "cell_type": "code",
   "execution_count": 19,
   "id": "87893d9e",
   "metadata": {},
   "outputs": [
    {
     "data": {
      "text/plain": [
       "Specialization                                   36.58\n",
       "What matters most to you in choosing a course    29.32\n",
       "What is your current occupation                  29.11\n",
       "Country                                          26.63\n",
       "TotalVisits                                       1.48\n",
       "Page Views Per Visit                              1.48\n",
       "Last Activity                                     1.11\n",
       "Lead Source                                       0.39\n",
       "Newspaper Article                                 0.00\n",
       "A free copy of Mastering The Interview            0.00\n",
       "Through Recommendations                           0.00\n",
       "Digital Advertisement                             0.00\n",
       "Newspaper                                         0.00\n",
       "X Education Forums                                0.00\n",
       "Prospect ID                                       0.00\n",
       "Search                                            0.00\n",
       "Lead Origin                                       0.00\n",
       "Total Time Spent on Website                       0.00\n",
       "Converted                                         0.00\n",
       "Do Not Call                                       0.00\n",
       "Do Not Email                                      0.00\n",
       "Last Notable Activity                             0.00\n",
       "dtype: float64"
      ]
     },
     "execution_count": 19,
     "metadata": {},
     "output_type": "execute_result"
    }
   ],
   "source": [
    "# Rechecking the percentage of missing values\n",
    "round(100*(leads.isnull().sum()/len(leads.index)), 2).sort_values(ascending=False)"
   ]
  },
  {
   "cell_type": "markdown",
   "id": "719594fc",
   "metadata": {},
   "source": [
    "### 3.2. Imputing the missing values"
   ]
  },
  {
   "cell_type": "markdown",
   "id": "e4b4adcf",
   "metadata": {},
   "source": [
    "#### 3.2.a. Imputing values for Specialization, What matters most to you in choosing a course, Country and What is your current occupation"
   ]
  },
  {
   "cell_type": "code",
   "execution_count": 20,
   "id": "6be4127b",
   "metadata": {},
   "outputs": [],
   "source": [
    "leads['Specialization'] = leads['Specialization'].fillna('not provided') \n",
    "leads['What matters most to you in choosing a course'] = leads['What matters most to you in choosing a course'].fillna('not provided')\n",
    "leads['Country'] = leads['Country'].fillna('not provided')\n",
    "leads['What is your current occupation'] = leads['What is your current occupation'].fillna('not provided')"
   ]
  },
  {
   "cell_type": "markdown",
   "id": "1ea3950e",
   "metadata": {},
   "source": [
    "#### 3.2.b. Imputing the values for Country"
   ]
  },
  {
   "cell_type": "code",
   "execution_count": 21,
   "id": "4ae5a8bb",
   "metadata": {
    "scrolled": true
   },
   "outputs": [
    {
     "data": {
      "text/plain": [
       "india                   6492\n",
       "not provided            2461\n",
       "united states             69\n",
       "united arab emirates      53\n",
       "singapore                 24\n",
       "saudi arabia              21\n",
       "united kingdom            15\n",
       "australia                 13\n",
       "qatar                     10\n",
       "bahrain                    7\n",
       "hong kong                  7\n",
       "oman                       6\n",
       "france                     6\n",
       "unknown                    5\n",
       "kuwait                     4\n",
       "south africa               4\n",
       "canada                     4\n",
       "nigeria                    4\n",
       "germany                    4\n",
       "sweden                     3\n",
       "philippines                2\n",
       "uganda                     2\n",
       "italy                      2\n",
       "bangladesh                 2\n",
       "netherlands                2\n",
       "asia/pacific region        2\n",
       "china                      2\n",
       "belgium                    2\n",
       "ghana                      2\n",
       "kenya                      1\n",
       "sri lanka                  1\n",
       "tanzania                   1\n",
       "malaysia                   1\n",
       "liberia                    1\n",
       "switzerland                1\n",
       "denmark                    1\n",
       "russia                     1\n",
       "vietnam                    1\n",
       "indonesia                  1\n",
       "Name: Country, dtype: int64"
      ]
     },
     "execution_count": 21,
     "metadata": {},
     "output_type": "execute_result"
    }
   ],
   "source": [
    "# Checking the values for Country\n",
    "leads[\"Country\"].value_counts()"
   ]
  },
  {
   "cell_type": "code",
   "execution_count": 22,
   "id": "8f1bf01e",
   "metadata": {},
   "outputs": [
    {
     "data": {
      "text/plain": [
       "india            6492\n",
       "not provided     2461\n",
       "outside india     287\n",
       "Name: Country, dtype: int64"
      ]
     },
     "execution_count": 22,
     "metadata": {},
     "output_type": "execute_result"
    }
   ],
   "source": [
    "def slots(x):\n",
    "    category = \"\"\n",
    "    if x == \"india\":\n",
    "        category = \"india\"\n",
    "    elif x == \"not provided\":\n",
    "        category = \"not provided\"\n",
    "    else:\n",
    "        category = \"outside india\"\n",
    "    return category\n",
    "\n",
    "leads['Country'] = leads.apply(lambda x:slots(x['Country']), axis = 1)\n",
    "leads['Country'].value_counts()"
   ]
  },
  {
   "cell_type": "code",
   "execution_count": 23,
   "id": "5db51563",
   "metadata": {
    "scrolled": false
   },
   "outputs": [
    {
     "data": {
      "text/plain": [
       "Prospect ID                                      0.00\n",
       "Lead Origin                                      0.00\n",
       "Lead Source                                      0.39\n",
       "Do Not Email                                     0.00\n",
       "Do Not Call                                      0.00\n",
       "Converted                                        0.00\n",
       "TotalVisits                                      1.48\n",
       "Total Time Spent on Website                      0.00\n",
       "Page Views Per Visit                             1.48\n",
       "Last Activity                                    1.11\n",
       "Country                                          0.00\n",
       "Specialization                                   0.00\n",
       "What is your current occupation                  0.00\n",
       "What matters most to you in choosing a course    0.00\n",
       "Search                                           0.00\n",
       "Newspaper Article                                0.00\n",
       "X Education Forums                               0.00\n",
       "Newspaper                                        0.00\n",
       "Digital Advertisement                            0.00\n",
       "Through Recommendations                          0.00\n",
       "A free copy of Mastering The Interview           0.00\n",
       "Last Notable Activity                            0.00\n",
       "dtype: float64"
      ]
     },
     "execution_count": 23,
     "metadata": {},
     "output_type": "execute_result"
    }
   ],
   "source": [
    "# Rechecking the percentage of missing values\n",
    "round(100*(leads.isnull().sum()/len(leads.index)), 2)"
   ]
  },
  {
   "cell_type": "code",
   "execution_count": 24,
   "id": "83b4160f",
   "metadata": {},
   "outputs": [
    {
     "data": {
      "text/plain": [
       "1.48"
      ]
     },
     "execution_count": 24,
     "metadata": {},
     "output_type": "execute_result"
    }
   ],
   "source": [
    "# Checking the percent of lose if the null values are removed\n",
    "round(100*(sum(leads.isnull().sum(axis=1) > 1)/leads.shape[0]),2)"
   ]
  },
  {
   "cell_type": "code",
   "execution_count": 25,
   "id": "4b258a58",
   "metadata": {},
   "outputs": [],
   "source": [
    "leads = leads[leads.isnull().sum(axis=1) <1]"
   ]
  },
  {
   "cell_type": "code",
   "execution_count": 131,
   "id": "198fe67b",
   "metadata": {},
   "outputs": [
    {
     "data": {
      "text/plain": [
       "100.0"
      ]
     },
     "execution_count": 131,
     "metadata": {},
     "output_type": "execute_result"
    }
   ],
   "source": [
    "# Code for checking number of rows left in percent\n",
    "round(100*(leads.shape[0])/(leads.shape[0]),2)"
   ]
  },
  {
   "cell_type": "code",
   "execution_count": 132,
   "id": "e3535293",
   "metadata": {},
   "outputs": [
    {
     "data": {
      "text/plain": [
       "Prospect ID                                      0.0\n",
       "Lead Origin                                      0.0\n",
       "Lead Source                                      0.0\n",
       "Do Not Email                                     0.0\n",
       "Do Not Call                                      0.0\n",
       "Converted                                        0.0\n",
       "TotalVisits                                      0.0\n",
       "Total Time Spent on Website                      0.0\n",
       "Page Views Per Visit                             0.0\n",
       "Last Activity                                    0.0\n",
       "Country                                          0.0\n",
       "Specialization                                   0.0\n",
       "What is your current occupation                  0.0\n",
       "What matters most to you in choosing a course    0.0\n",
       "Search                                           0.0\n",
       "Newspaper Article                                0.0\n",
       "X Education Forums                               0.0\n",
       "Newspaper                                        0.0\n",
       "Digital Advertisement                            0.0\n",
       "Through Recommendations                          0.0\n",
       "A free copy of Mastering The Interview           0.0\n",
       "Last Notable Activity                            0.0\n",
       "dtype: float64"
      ]
     },
     "execution_count": 132,
     "metadata": {},
     "output_type": "execute_result"
    }
   ],
   "source": [
    "# Rechecking the percentage of missing values\n",
    "round(100*(leads.isnull().sum()/len(leads.index)), 2)"
   ]
  },
  {
   "cell_type": "code",
   "execution_count": 28,
   "id": "56585ec7",
   "metadata": {},
   "outputs": [
    {
     "data": {
      "text/plain": [
       "(9074, 21)"
      ]
     },
     "execution_count": 28,
     "metadata": {},
     "output_type": "execute_result"
    }
   ],
   "source": [
    "# Removing Id values since they are unique for everyone\n",
    "leads_final = leads.drop('Prospect ID',1)\n",
    "leads_final.shape"
   ]
  },
  {
   "cell_type": "markdown",
   "id": "24446fe6",
   "metadata": {},
   "source": [
    "## 4. Exploratory Data Analysis"
   ]
  },
  {
   "cell_type": "markdown",
   "id": "f56f0a92",
   "metadata": {},
   "source": [
    "### 4.1. Visualising Target variable"
   ]
  },
  {
   "cell_type": "code",
   "execution_count": 29,
   "id": "0f8bb100",
   "metadata": {},
   "outputs": [
    {
     "data": {
      "image/png": "[encoded data removed]",
      "text/plain": [
       "<Figure size 720x360 with 1 Axes>"
      ]
     },
     "metadata": {},
     "output_type": "display_data"
    }
   ],
   "source": [
    "# Target variable is 'Converted', hence visualizing the data distribution\n",
    "plt.figure(figsize=(10,5))\n",
    "plt.pie(leads_final.Converted.value_counts(normalize=True)*100, labels=['No (Target=0)','Yes (Target=1)'], shadow=True, autopct=\"%1.f%%\")\n",
    "plt.title(\"Lead Target\")\n",
    "plt.show()"
   ]
  },
  {
   "cell_type": "markdown",
   "id": "cc45da51",
   "metadata": {},
   "source": [
    "##### Conclusion:\n",
    "From the above graph it can be concluded that around 62% people have not converted and around 38% have converted."
   ]
  },
  {
   "cell_type": "markdown",
   "id": "67c9c670",
   "metadata": {},
   "source": [
    "### 4.2. Univariate, Bivariate and Multivariate analysis"
   ]
  },
  {
   "cell_type": "markdown",
   "id": "2e6c957c",
   "metadata": {},
   "source": [
    "#### 4.2.a. Lead origin"
   ]
  },
  {
   "cell_type": "code",
   "execution_count": 30,
   "id": "b4e9af20",
   "metadata": {},
   "outputs": [
    {
     "data": {
      "image/png": "[encoded data removed]",
      "text/plain": [
       "<Figure size 720x360 with 1 Axes>"
      ]
     },
     "metadata": {
      "needs_background": "light"
     },
     "output_type": "display_data"
    }
   ],
   "source": [
    "# Plotting the lead origin graph\n",
    "plt.figure(figsize=(10,5))\n",
    "sns.countplot(x='Lead Origin', hue='Converted', data=leads_final)\n",
    "plt.title(\"Lead origin\")\n",
    "plt.xticks(rotation=90)\n",
    "plt.show()"
   ]
  },
  {
   "cell_type": "markdown",
   "id": "d070b60f",
   "metadata": {},
   "source": [
    "##### Conclusion: \n",
    "1.  Customers who were identified as Lead from Landing Page submission, constitute the majority of the leads.\n",
    "2.  Customers originating from Lead Add Form have high probability of conversion. These Customers are very few in number.\n",
    "3.  Lead origin-API & Lead Import have the least conversion rate. Customers from Lead Import are very few in number.</br>\n",
    "To improve overall lead conversion rate, we need to focus more on improving lead converion rate of Customers originating from API and Landing Page Submission and generate more leads from Lead Add Form."
   ]
  },
  {
   "cell_type": "markdown",
   "id": "74487f02",
   "metadata": {},
   "source": [
    "#### 4.2.b. Lead Source"
   ]
  },
  {
   "cell_type": "code",
   "execution_count": 31,
   "id": "96e303ce",
   "metadata": {
    "scrolled": false
   },
   "outputs": [
    {
     "data": {
      "image/png": "[encoded data removed]",
      "text/plain": [
       "<Figure size 1080x504 with 1 Axes>"
      ]
     },
     "metadata": {
      "needs_background": "light"
     },
     "output_type": "display_data"
    }
   ],
   "source": [
    "# Plotting the graph for Lead Source\n",
    "plt.figure(figsize=(15,7))\n",
    "sns.countplot(x = 'Lead Source', hue = 'Converted', data = leads_final)\n",
    "plt.title(\"Lead Source\")\n",
    "plt.xticks(rotation = 90)\n",
    "plt.show()"
   ]
  },
  {
   "cell_type": "markdown",
   "id": "d8254a99",
   "metadata": {},
   "source": [
    "##### Conclusion:\n",
    "1.  Majority source of the lead is Google & Direct Traffic. \n",
    "2.  Lead source from Google has highest probabilty of conversion. \n",
    "3.  leads with source Reference has maximum probabilty of conversion."
   ]
  },
  {
   "cell_type": "markdown",
   "id": "eb95cc76",
   "metadata": {},
   "source": [
    "#### 4.2.c. Do Not Email and Do Not Call"
   ]
  },
  {
   "cell_type": "code",
   "execution_count": 32,
   "id": "baf5f7d8",
   "metadata": {},
   "outputs": [
    {
     "data": {
      "image/png": "[encoded data removed]",
      "text/plain": [
       "<Figure size 1080x360 with 2 Axes>"
      ]
     },
     "metadata": {
      "needs_background": "light"
     },
     "output_type": "display_data"
    }
   ],
   "source": [
    "# Checking the Do Not Email and Do Not Call\n",
    "fig, axs = plt.subplots(1,2,figsize = (15,5))\n",
    "sns.countplot(x = 'Do Not Email', hue = 'Converted', data = leads_final, ax = axs[0])\n",
    "sns.countplot(x = 'Do Not Call', hue = 'Converted', data = leads_final, ax = axs[1])\n",
    "plt.show()"
   ]
  },
  {
   "cell_type": "markdown",
   "id": "acc3ab42",
   "metadata": {},
   "source": [
    "##### Conclusion:\n",
    "1.  Customers who opt for Do Not Mail have lower conversion rate.\n",
    "2.  Customers who do not opt for Do Not Mail have higher conversion rate which is around 40%. These constitute the majority of the leads.\n",
    "3.  Customers who do not opt for Do Not call have Higher conversion rate which is around 38%.These constitute the majority of the leads."
   ]
  },
  {
   "cell_type": "markdown",
   "id": "37f160fd",
   "metadata": {},
   "source": [
    "#### 4.2.d. Last Activity"
   ]
  },
  {
   "cell_type": "code",
   "execution_count": 33,
   "id": "904af1a2",
   "metadata": {},
   "outputs": [
    {
     "data": {
      "image/png": "[encoded data removed]",
      "text/plain": [
       "<Figure size 1080x360 with 1 Axes>"
      ]
     },
     "metadata": {
      "needs_background": "light"
     },
     "output_type": "display_data"
    }
   ],
   "source": [
    "# Plotting the graph for Last Activity\n",
    "plt.figure(figsize=(15,5))\n",
    "sns.countplot(x='Last Activity', hue='Converted', data=leads_final)\n",
    "plt.xticks(rotation=90)\n",
    "plt.show()"
   ]
  },
  {
   "cell_type": "markdown",
   "id": "e42ce6df",
   "metadata": {},
   "source": [
    "##### Conclusion:\n",
    "Customers who last activity was SMS Sent have higher conversion rate which is around 63Customers who last activity was Email Opened constitute majority of the customers. They have around 36% of conversion rate.\n",
    "\n",
    "To improve overall lead conversion rate, we need to focus more on improving lead converion rate of Customers whose last activity was Email Opened and generate more leads from the ones whose last activity was SMS Sent."
   ]
  },
  {
   "cell_type": "markdown",
   "id": "8b77363f",
   "metadata": {},
   "source": [
    "#### 4.2.e. Specialization"
   ]
  },
  {
   "cell_type": "code",
   "execution_count": 34,
   "id": "0d122cdc",
   "metadata": {
    "scrolled": false
   },
   "outputs": [
    {
     "data": {
      "image/png": "[encoded data removed]",
      "text/plain": [
       "<Figure size 1080x576 with 1 Axes>"
      ]
     },
     "metadata": {
      "needs_background": "light"
     },
     "output_type": "display_data"
    }
   ],
   "source": [
    "# Plotting the graph for specialization\n",
    "plt.figure(figsize=(15,8))\n",
    "sns.countplot(x='Specialization', hue='Converted', data=leads_final)\n",
    "plt.title(\"Specialization\")\n",
    "plt.xticks(rotation=90)\n",
    "plt.show()"
   ]
  },
  {
   "cell_type": "markdown",
   "id": "444c6dc3",
   "metadata": {},
   "source": [
    "##### Conclusion:\n",
    "1.  Maximum Leads have specialisation as Management & Others. \n",
    "2.  Leads with specialisation as Rural & Agribusiness have least probabilty of conversion."
   ]
  },
  {
   "cell_type": "markdown",
   "id": "a558941a",
   "metadata": {},
   "source": [
    "#### 4.2.f. Current Occupation"
   ]
  },
  {
   "cell_type": "code",
   "execution_count": 35,
   "id": "51f957a1",
   "metadata": {},
   "outputs": [
    {
     "data": {
      "image/png": "[encoded data removed]",
      "text/plain": [
       "<Figure size 864x360 with 1 Axes>"
      ]
     },
     "metadata": {
      "needs_background": "light"
     },
     "output_type": "display_data"
    }
   ],
   "source": [
    "# Plotting the graph for Current Occupation\n",
    "plt.figure(figsize=(12,5))\n",
    "sns.countplot(x='What is your current occupation', hue='Converted', data=leads_final)\n",
    "plt.title(\"Current Occupation\")\n",
    "plt.xticks(rotation=90)\n",
    "plt.show()"
   ]
  },
  {
   "cell_type": "markdown",
   "id": "185a9936",
   "metadata": {},
   "source": [
    "##### Conclusion:\n",
    "1.  Maximum Leads have occupation as Unemployed.\n",
    "2.  Very few leads are Housewives"
   ]
  },
  {
   "cell_type": "markdown",
   "id": "36a96462",
   "metadata": {},
   "source": [
    "#### 4.2.g. What maters most to you in choosing a course"
   ]
  },
  {
   "cell_type": "code",
   "execution_count": 36,
   "id": "9cc7885d",
   "metadata": {},
   "outputs": [
    {
     "data": {
      "image/png": "[encoded data removed]",
      "text/plain": [
       "<Figure size 1080x360 with 1 Axes>"
      ]
     },
     "metadata": {
      "needs_background": "light"
     },
     "output_type": "display_data"
    }
   ],
   "source": [
    "# Plotting the graph for What maters most to you in choosing a course\n",
    "plt.figure(figsize=(15,5))\n",
    "sns.countplot(x='What matters most to you in choosing a course', hue='Converted', data=leads_final)\n",
    "plt.title(\"What maters most to you in choosing a course\")\n",
    "plt.show()"
   ]
  },
  {
   "cell_type": "markdown",
   "id": "015f6827",
   "metadata": {},
   "source": [
    "##### Conclusion:\n",
    "Number of Leads to whom better career aspects matters most in choosing a career are more & have higher probabilty of conversion."
   ]
  },
  {
   "cell_type": "markdown",
   "id": "8a149401",
   "metadata": {},
   "source": [
    "#### 4.2. h. Search, Magazine, Newspaper Article, X Education Forums, Newspaper, Digital Advertisement, Recommnedations"
   ]
  },
  {
   "cell_type": "code",
   "execution_count": 37,
   "id": "ae81e7af",
   "metadata": {},
   "outputs": [
    {
     "data": {
      "image/png": "[encoded data removed]",
      "text/plain": [
       "<Figure size 720x360 with 2 Axes>"
      ]
     },
     "metadata": {
      "needs_background": "light"
     },
     "output_type": "display_data"
    }
   ],
   "source": [
    "plt.figure(figsize=(10,5))\n",
    "\n",
    "# Search\n",
    "plt.subplot(1,2,1)\n",
    "sns.countplot(x='Search', hue='Converted', data=leads_final)\n",
    "plt.title(\"Search\")\n",
    "\n",
    "# Magazine\n",
    "plt.subplot(1,2,2)\n",
    "sns.countplot(x='Newspaper Article', hue='Converted', data=leads_final)\n",
    "plt.title(\"Newspaper Article\")\n",
    "\n",
    "plt.show()"
   ]
  },
  {
   "cell_type": "code",
   "execution_count": 38,
   "id": "4bb6584d",
   "metadata": {},
   "outputs": [
    {
     "data": {
      "image/png": "[encoded data removed]",
      "text/plain": [
       "<Figure size 720x360 with 2 Axes>"
      ]
     },
     "metadata": {
      "needs_background": "light"
     },
     "output_type": "display_data"
    }
   ],
   "source": [
    "plt.figure(figsize=(10,5))\n",
    "\n",
    "# Newspaper Article\n",
    "plt.subplot(1,2,1)\n",
    "sns.countplot(x='X Education Forums', hue='Converted', data=leads)\n",
    "plt.title(\"X Education Forums\")\n",
    "\n",
    "# X Education Forums\n",
    "plt.subplot(1,2,2)\n",
    "sns.countplot(x='Newspaper', hue='Converted', data=leads)\n",
    "plt.title(\"Newspaper\")\n",
    "\n",
    "plt.show()"
   ]
  },
  {
   "cell_type": "code",
   "execution_count": 39,
   "id": "85eb476f",
   "metadata": {},
   "outputs": [
    {
     "data": {
      "image/png": "[encoded data removed]",
      "text/plain": [
       "<Figure size 720x360 with 2 Axes>"
      ]
     },
     "metadata": {
      "needs_background": "light"
     },
     "output_type": "display_data"
    }
   ],
   "source": [
    "plt.figure(figsize=(10,5))\n",
    "\n",
    "# Newspaper\n",
    "plt.subplot(1,2,1)\n",
    "sns.countplot(x='Digital Advertisement', hue='Converted', data=leads_final)\n",
    "plt.title(\"Digital Advertisement\")\n",
    "\n",
    "#  Digital Advertisement \n",
    "plt.subplot(1,2,2)\n",
    "sns.countplot(x='Through Recommendations', hue='Converted', data=leads_final)\n",
    "plt.title(\"Recommendations\")\n",
    "\n",
    "plt.show()"
   ]
  },
  {
   "cell_type": "markdown",
   "id": "dcfe86af",
   "metadata": {},
   "source": [
    "##### Conclusion:\n",
    "Customers who have seen the add of the education company in any form, are very few in number. Nothing meaningful insight can be concluded from the plot that will impove the overall lead conversion rate."
   ]
  },
  {
   "cell_type": "markdown",
   "id": "589c4cf0",
   "metadata": {},
   "source": [
    "##### 4.2.i. A Free Copy Of Mastering the Interview"
   ]
  },
  {
   "cell_type": "code",
   "execution_count": 40,
   "id": "1907cf37",
   "metadata": {},
   "outputs": [
    {
     "data": {
      "image/png": "[encoded data removed]",
      "text/plain": [
       "<Figure size 1080x360 with 1 Axes>"
      ]
     },
     "metadata": {
      "needs_background": "light"
     },
     "output_type": "display_data"
    }
   ],
   "source": [
    "# Plotting graph for A Free Copy Of Mastering the Interview\n",
    "plt.figure(figsize=(15,5))\n",
    "sns.countplot(x='A free copy of Mastering The Interview', hue='Converted', data=leads_final)\n",
    "plt.title(\"A Free Copy Of Mastering the Interview\")\n",
    "plt.show()"
   ]
  },
  {
   "cell_type": "markdown",
   "id": "0d5304fd",
   "metadata": {},
   "source": [
    "##### Conclusion:\n",
    "Customers who ask for afree copy of mastering the interview are less in number but the conversion probabilty for both type of customers is similar."
   ]
  },
  {
   "cell_type": "markdown",
   "id": "19d69c06",
   "metadata": {},
   "source": [
    "#### 4.2.j. Last Notable Activity"
   ]
  },
  {
   "cell_type": "code",
   "execution_count": 41,
   "id": "a4f934e6",
   "metadata": {},
   "outputs": [
    {
     "data": {
      "image/png": "[encoded data removed]",
      "text/plain": [
       "<Figure size 1080x576 with 1 Axes>"
      ]
     },
     "metadata": {
      "needs_background": "light"
     },
     "output_type": "display_data"
    }
   ],
   "source": [
    "# Plotting a graph for Last Notable Activity\n",
    "plt.figure(figsize=(15,8))\n",
    "sns.countplot(x='Last Notable Activity', hue='Converted', data=leads_final)\n",
    "plt.title(\"Last Notable Activity\")\n",
    "plt.xticks(rotation=90)\n",
    "plt.show()"
   ]
  },
  {
   "cell_type": "markdown",
   "id": "64b211b8",
   "metadata": {},
   "source": [
    "##### Conclusion:\n",
    "1.  Customers whose last notable activity was Modified are more in number.\n",
    "2.  Customers whose last notable activity was SMS Sent have higher probability of conversion."
   ]
  },
  {
   "cell_type": "markdown",
   "id": "d7b5aeb1",
   "metadata": {},
   "source": [
    "### 4.3. Visualizing and handling the outliers"
   ]
  },
  {
   "cell_type": "markdown",
   "id": "941a6a08",
   "metadata": {},
   "source": [
    "#### 4.3.a. Total Visits"
   ]
  },
  {
   "cell_type": "code",
   "execution_count": 42,
   "id": "de8b0e74",
   "metadata": {},
   "outputs": [
    {
     "data": {
      "image/png": "[encoded data removed]",
      "text/plain": [
       "<Figure size 720x360 with 1 Axes>"
      ]
     },
     "metadata": {
      "needs_background": "light"
     },
     "output_type": "display_data"
    }
   ],
   "source": [
    "# Plotting the graph for Total Visits\n",
    "plt.figure(figsize=(10,5))\n",
    "sns.boxplot(y='TotalVisits', x=\"Converted\", data=leads_final)\n",
    "plt.title(\"Total Visits\")\n",
    "plt.show()"
   ]
  },
  {
   "cell_type": "code",
   "execution_count": 43,
   "id": "350a85b0",
   "metadata": {
    "scrolled": false
   },
   "outputs": [
    {
     "data": {
      "text/plain": [
       "count    9074.000000\n",
       "mean        3.456028\n",
       "std         4.858802\n",
       "min         0.000000\n",
       "5%          0.000000\n",
       "25%         1.000000\n",
       "50%         3.000000\n",
       "75%         5.000000\n",
       "90%         7.000000\n",
       "95%        10.000000\n",
       "99%        17.000000\n",
       "max       251.000000\n",
       "Name: TotalVisits, dtype: float64"
      ]
     },
     "execution_count": 43,
     "metadata": {},
     "output_type": "execute_result"
    }
   ],
   "source": [
    "# Checking the data of the column via percentiles\n",
    "leads_final['TotalVisits'].describe(percentiles=[0.05,.25, .5, .75, .90, .95, .99])"
   ]
  },
  {
   "cell_type": "code",
   "execution_count": 44,
   "id": "e889194f",
   "metadata": {},
   "outputs": [
    {
     "data": {
      "text/plain": [
       "count    9074.000000\n",
       "mean        3.456028\n",
       "std         4.858802\n",
       "min         0.000000\n",
       "5%          0.000000\n",
       "25%         1.000000\n",
       "50%         3.000000\n",
       "75%         5.000000\n",
       "90%         7.000000\n",
       "95%        10.000000\n",
       "99%        17.000000\n",
       "max       251.000000\n",
       "Name: TotalVisits, dtype: float64"
      ]
     },
     "execution_count": 44,
     "metadata": {},
     "output_type": "execute_result"
    }
   ],
   "source": [
    "# Treating outliers to the 99th percentile\n",
    "leads_final['TotalVisits'].describe(percentiles=[0.05,.25, .5, .75, .90, .95, .99])"
   ]
  },
  {
   "cell_type": "code",
   "execution_count": 45,
   "id": "2af92fe8",
   "metadata": {},
   "outputs": [],
   "source": [
    "perc = leads_final['TotalVisits'].quantile([0,0.95]).values\n",
    "leads_final['TotalVisits'][leads_final['TotalVisits'] >= perc[1]] = perc[1]"
   ]
  },
  {
   "cell_type": "code",
   "execution_count": 46,
   "id": "bb1d8168",
   "metadata": {},
   "outputs": [
    {
     "data": {
      "image/png": "[encoded data removed]",
      "text/plain": [
       "<Figure size 432x288 with 1 Axes>"
      ]
     },
     "metadata": {
      "needs_background": "light"
     },
     "output_type": "display_data"
    }
   ],
   "source": [
    "# Plotting the graph after treating the outliers\n",
    "sns.boxplot(leads_final['TotalVisits'])\n",
    "plt.show()"
   ]
  },
  {
   "cell_type": "code",
   "execution_count": 47,
   "id": "56b07eaf",
   "metadata": {
    "scrolled": false
   },
   "outputs": [
    {
     "data": {
      "image/png": "[encoded data removed]",
      "text/plain": [
       "<Figure size 432x288 with 1 Axes>"
      ]
     },
     "metadata": {
      "needs_background": "light"
     },
     "output_type": "display_data"
    }
   ],
   "source": [
    "# Plotting the graph of the column with target variable\n",
    "sns.boxplot(y='TotalVisits',x='Converted',data=leads_final)\n",
    "plt.show()"
   ]
  },
  {
   "cell_type": "markdown",
   "id": "568f86c2",
   "metadata": {},
   "source": [
    "#### 4.3.b. Total time Spent"
   ]
  },
  {
   "cell_type": "code",
   "execution_count": 48,
   "id": "cb3e4ea0",
   "metadata": {
    "scrolled": true
   },
   "outputs": [
    {
     "data": {
      "image/png": "[encoded data removed]",
      "text/plain": [
       "<Figure size 432x288 with 1 Axes>"
      ]
     },
     "metadata": {
      "needs_background": "light"
     },
     "output_type": "display_data"
    }
   ],
   "source": [
    "# Plotting the graph for Total time spent\n",
    "sns.boxplot(leads_final['Total Time Spent on Website'])\n",
    "plt.show()"
   ]
  },
  {
   "cell_type": "code",
   "execution_count": 49,
   "id": "b23ab003",
   "metadata": {},
   "outputs": [
    {
     "data": {
      "image/png": "[encoded data removed]",
      "text/plain": [
       "<Figure size 432x288 with 1 Axes>"
      ]
     },
     "metadata": {
      "needs_background": "light"
     },
     "output_type": "display_data"
    }
   ],
   "source": [
    "# Checking the column with target variable\n",
    "sns.boxplot(y='Total Time Spent on Website',x='Converted',data=leads_final)\n",
    "plt.show()"
   ]
  },
  {
   "cell_type": "markdown",
   "id": "53e13c9e",
   "metadata": {},
   "source": [
    "##### Conclusion:\n",
    "Leads who spend more time on the website have higher conversion rates."
   ]
  },
  {
   "cell_type": "markdown",
   "id": "ccc8a6c4",
   "metadata": {},
   "source": [
    "##### 4.3.c. Views Per visit"
   ]
  },
  {
   "cell_type": "code",
   "execution_count": 50,
   "id": "7606684c",
   "metadata": {},
   "outputs": [
    {
     "data": {
      "image/png": "[encoded data removed]",
      "text/plain": [
       "<Figure size 432x288 with 1 Axes>"
      ]
     },
     "metadata": {
      "needs_background": "light"
     },
     "output_type": "display_data"
    }
   ],
   "source": [
    "# Plotting for Views per visit\n",
    "sns.boxplot(leads_final['Page Views Per Visit'])\n",
    "plt.show()"
   ]
  },
  {
   "cell_type": "code",
   "execution_count": 51,
   "id": "9c5c0cc5",
   "metadata": {},
   "outputs": [
    {
     "data": {
      "image/png": "[encoded data removed]",
      "text/plain": [
       "<Figure size 432x288 with 1 Axes>"
      ]
     },
     "metadata": {
      "needs_background": "light"
     },
     "output_type": "display_data"
    }
   ],
   "source": [
    "# Since there are many outliers, we can the outliers inside the 95th percentile\n",
    "perc = leads_final['Page Views Per Visit'].quantile([0,0.95]).values\n",
    "leads_final['Page Views Per Visit'][leads_final['Page Views Per Visit'] >= perc[1]] = perc[1]\n",
    "sns.boxplot(leads_final['Page Views Per Visit'])\n",
    "plt.show()"
   ]
  },
  {
   "cell_type": "code",
   "execution_count": 52,
   "id": "294b9ac7",
   "metadata": {
    "scrolled": false
   },
   "outputs": [
    {
     "data": {
      "image/png": "[encoded data removed]",
      "text/plain": [
       "<Figure size 432x288 with 1 Axes>"
      ]
     },
     "metadata": {
      "needs_background": "light"
     },
     "output_type": "display_data"
    }
   ],
   "source": [
    "# Checking the column with the target variable\n",
    "sns.boxplot(y='Page Views Per Visit',x='Converted',data=leads_final)\n",
    "plt.show()"
   ]
  },
  {
   "cell_type": "markdown",
   "id": "d09ea4f5",
   "metadata": {},
   "source": [
    "### 4.4. Correlation"
   ]
  },
  {
   "cell_type": "code",
   "execution_count": 53,
   "id": "906386a5",
   "metadata": {},
   "outputs": [],
   "source": [
    "# Checking the correlation between variables\n",
    "leads_final_corr = leads_final.corr()"
   ]
  },
  {
   "cell_type": "code",
   "execution_count": 54,
   "id": "e34b3d93",
   "metadata": {},
   "outputs": [
    {
     "data": {
      "image/png": "[encoded data removed]",
      "text/plain": [
       "<Figure size 720x360 with 2 Axes>"
      ]
     },
     "metadata": {
      "needs_background": "light"
     },
     "output_type": "display_data"
    }
   ],
   "source": [
    "# Plotting the graph via heatmap to see correlation\n",
    "plt.figure(figsize=(10,5))\n",
    "sns.heatmap(leads_final_corr, cmap='BuGn', annot=True)\n",
    "plt.show()"
   ]
  },
  {
   "cell_type": "markdown",
   "id": "eea65dbc",
   "metadata": {},
   "source": [
    "##### Conclusion:\n",
    "From the above graph we can conclude that all the variables are multicollinear in nature. The correlation between the Total Visits and Page Views Per visit is high. "
   ]
  },
  {
   "cell_type": "markdown",
   "id": "b0e9030b",
   "metadata": {},
   "source": [
    "## 5. Dummy Variables"
   ]
  },
  {
   "cell_type": "code",
   "execution_count": 55,
   "id": "334f8407",
   "metadata": {},
   "outputs": [
    {
     "data": {
      "text/plain": [
       "Index(['Lead Origin', 'Lead Source', 'Do Not Email', 'Do Not Call',\n",
       "       'Last Activity', 'Country', 'Specialization',\n",
       "       'What is your current occupation',\n",
       "       'What matters most to you in choosing a course', 'Search',\n",
       "       'Newspaper Article', 'X Education Forums', 'Newspaper',\n",
       "       'Digital Advertisement', 'Through Recommendations',\n",
       "       'A free copy of Mastering The Interview', 'Last Notable Activity'],\n",
       "      dtype='object')"
      ]
     },
     "execution_count": 55,
     "metadata": {},
     "output_type": "execute_result"
    }
   ],
   "source": [
    "leads_final.loc[:, leads_final.dtypes == 'object'].columns"
   ]
  },
  {
   "cell_type": "code",
   "execution_count": 56,
   "id": "0ec2d4c6",
   "metadata": {
    "scrolled": true
   },
   "outputs": [
    {
     "data": {
      "text/html": [
       "<div>\n",
       "<style scoped>\n",
       "    .dataframe tbody tr th:only-of-type {\n",
       "        vertical-align: middle;\n",
       "    }\n",
       "\n",
       "    .dataframe tbody tr th {\n",
       "        vertical-align: top;\n",
       "    }\n",
       "\n",
       "    .dataframe thead th {\n",
       "        text-align: right;\n",
       "    }\n",
       "</style>\n",
       "<table border=\"1\" class=\"dataframe\">\n",
       "  <thead>\n",
       "    <tr style=\"text-align: right;\">\n",
       "      <th></th>\n",
       "      <th>Lead Origin</th>\n",
       "      <th>Lead Source</th>\n",
       "      <th>Do Not Email</th>\n",
       "      <th>Do Not Call</th>\n",
       "      <th>Converted</th>\n",
       "      <th>TotalVisits</th>\n",
       "      <th>Total Time Spent on Website</th>\n",
       "      <th>Page Views Per Visit</th>\n",
       "      <th>Last Activity</th>\n",
       "      <th>Country</th>\n",
       "      <th>...</th>\n",
       "      <th>Last Notable Activity_form submitted on website</th>\n",
       "      <th>Last Notable Activity_had a phone conversation</th>\n",
       "      <th>Last Notable Activity_modified</th>\n",
       "      <th>Last Notable Activity_olark chat conversation</th>\n",
       "      <th>Last Notable Activity_page visited on website</th>\n",
       "      <th>Last Notable Activity_resubscribed to emails</th>\n",
       "      <th>Last Notable Activity_sms sent</th>\n",
       "      <th>Last Notable Activity_unreachable</th>\n",
       "      <th>Last Notable Activity_unsubscribed</th>\n",
       "      <th>Last Notable Activity_view in browser link clicked</th>\n",
       "    </tr>\n",
       "  </thead>\n",
       "  <tbody>\n",
       "    <tr>\n",
       "      <th>0</th>\n",
       "      <td>api</td>\n",
       "      <td>olark chat</td>\n",
       "      <td>no</td>\n",
       "      <td>no</td>\n",
       "      <td>0</td>\n",
       "      <td>0.0</td>\n",
       "      <td>0</td>\n",
       "      <td>0.00</td>\n",
       "      <td>page visited on website</td>\n",
       "      <td>not provided</td>\n",
       "      <td>...</td>\n",
       "      <td>0</td>\n",
       "      <td>0</td>\n",
       "      <td>1</td>\n",
       "      <td>0</td>\n",
       "      <td>0</td>\n",
       "      <td>0</td>\n",
       "      <td>0</td>\n",
       "      <td>0</td>\n",
       "      <td>0</td>\n",
       "      <td>0</td>\n",
       "    </tr>\n",
       "    <tr>\n",
       "      <th>1</th>\n",
       "      <td>api</td>\n",
       "      <td>organic search</td>\n",
       "      <td>no</td>\n",
       "      <td>no</td>\n",
       "      <td>0</td>\n",
       "      <td>5.0</td>\n",
       "      <td>674</td>\n",
       "      <td>2.50</td>\n",
       "      <td>email opened</td>\n",
       "      <td>india</td>\n",
       "      <td>...</td>\n",
       "      <td>0</td>\n",
       "      <td>0</td>\n",
       "      <td>0</td>\n",
       "      <td>0</td>\n",
       "      <td>0</td>\n",
       "      <td>0</td>\n",
       "      <td>0</td>\n",
       "      <td>0</td>\n",
       "      <td>0</td>\n",
       "      <td>0</td>\n",
       "    </tr>\n",
       "    <tr>\n",
       "      <th>2</th>\n",
       "      <td>landing page submission</td>\n",
       "      <td>direct traffic</td>\n",
       "      <td>no</td>\n",
       "      <td>no</td>\n",
       "      <td>1</td>\n",
       "      <td>2.0</td>\n",
       "      <td>1532</td>\n",
       "      <td>2.00</td>\n",
       "      <td>email opened</td>\n",
       "      <td>india</td>\n",
       "      <td>...</td>\n",
       "      <td>0</td>\n",
       "      <td>0</td>\n",
       "      <td>0</td>\n",
       "      <td>0</td>\n",
       "      <td>0</td>\n",
       "      <td>0</td>\n",
       "      <td>0</td>\n",
       "      <td>0</td>\n",
       "      <td>0</td>\n",
       "      <td>0</td>\n",
       "    </tr>\n",
       "    <tr>\n",
       "      <th>3</th>\n",
       "      <td>landing page submission</td>\n",
       "      <td>direct traffic</td>\n",
       "      <td>no</td>\n",
       "      <td>no</td>\n",
       "      <td>0</td>\n",
       "      <td>1.0</td>\n",
       "      <td>305</td>\n",
       "      <td>1.00</td>\n",
       "      <td>unreachable</td>\n",
       "      <td>india</td>\n",
       "      <td>...</td>\n",
       "      <td>0</td>\n",
       "      <td>0</td>\n",
       "      <td>1</td>\n",
       "      <td>0</td>\n",
       "      <td>0</td>\n",
       "      <td>0</td>\n",
       "      <td>0</td>\n",
       "      <td>0</td>\n",
       "      <td>0</td>\n",
       "      <td>0</td>\n",
       "    </tr>\n",
       "    <tr>\n",
       "      <th>4</th>\n",
       "      <td>landing page submission</td>\n",
       "      <td>google</td>\n",
       "      <td>no</td>\n",
       "      <td>no</td>\n",
       "      <td>1</td>\n",
       "      <td>2.0</td>\n",
       "      <td>1428</td>\n",
       "      <td>1.00</td>\n",
       "      <td>converted to lead</td>\n",
       "      <td>india</td>\n",
       "      <td>...</td>\n",
       "      <td>0</td>\n",
       "      <td>0</td>\n",
       "      <td>1</td>\n",
       "      <td>0</td>\n",
       "      <td>0</td>\n",
       "      <td>0</td>\n",
       "      <td>0</td>\n",
       "      <td>0</td>\n",
       "      <td>0</td>\n",
       "      <td>0</td>\n",
       "    </tr>\n",
       "    <tr>\n",
       "      <th>...</th>\n",
       "      <td>...</td>\n",
       "      <td>...</td>\n",
       "      <td>...</td>\n",
       "      <td>...</td>\n",
       "      <td>...</td>\n",
       "      <td>...</td>\n",
       "      <td>...</td>\n",
       "      <td>...</td>\n",
       "      <td>...</td>\n",
       "      <td>...</td>\n",
       "      <td>...</td>\n",
       "      <td>...</td>\n",
       "      <td>...</td>\n",
       "      <td>...</td>\n",
       "      <td>...</td>\n",
       "      <td>...</td>\n",
       "      <td>...</td>\n",
       "      <td>...</td>\n",
       "      <td>...</td>\n",
       "      <td>...</td>\n",
       "      <td>...</td>\n",
       "    </tr>\n",
       "    <tr>\n",
       "      <th>9235</th>\n",
       "      <td>landing page submission</td>\n",
       "      <td>direct traffic</td>\n",
       "      <td>yes</td>\n",
       "      <td>no</td>\n",
       "      <td>1</td>\n",
       "      <td>8.0</td>\n",
       "      <td>1845</td>\n",
       "      <td>2.67</td>\n",
       "      <td>email marked spam</td>\n",
       "      <td>outside india</td>\n",
       "      <td>...</td>\n",
       "      <td>0</td>\n",
       "      <td>0</td>\n",
       "      <td>0</td>\n",
       "      <td>0</td>\n",
       "      <td>0</td>\n",
       "      <td>0</td>\n",
       "      <td>0</td>\n",
       "      <td>0</td>\n",
       "      <td>0</td>\n",
       "      <td>0</td>\n",
       "    </tr>\n",
       "    <tr>\n",
       "      <th>9236</th>\n",
       "      <td>landing page submission</td>\n",
       "      <td>direct traffic</td>\n",
       "      <td>no</td>\n",
       "      <td>no</td>\n",
       "      <td>0</td>\n",
       "      <td>2.0</td>\n",
       "      <td>238</td>\n",
       "      <td>2.00</td>\n",
       "      <td>sms sent</td>\n",
       "      <td>india</td>\n",
       "      <td>...</td>\n",
       "      <td>0</td>\n",
       "      <td>0</td>\n",
       "      <td>0</td>\n",
       "      <td>0</td>\n",
       "      <td>0</td>\n",
       "      <td>0</td>\n",
       "      <td>1</td>\n",
       "      <td>0</td>\n",
       "      <td>0</td>\n",
       "      <td>0</td>\n",
       "    </tr>\n",
       "    <tr>\n",
       "      <th>9237</th>\n",
       "      <td>landing page submission</td>\n",
       "      <td>direct traffic</td>\n",
       "      <td>yes</td>\n",
       "      <td>no</td>\n",
       "      <td>0</td>\n",
       "      <td>2.0</td>\n",
       "      <td>199</td>\n",
       "      <td>2.00</td>\n",
       "      <td>sms sent</td>\n",
       "      <td>india</td>\n",
       "      <td>...</td>\n",
       "      <td>0</td>\n",
       "      <td>0</td>\n",
       "      <td>0</td>\n",
       "      <td>0</td>\n",
       "      <td>0</td>\n",
       "      <td>0</td>\n",
       "      <td>1</td>\n",
       "      <td>0</td>\n",
       "      <td>0</td>\n",
       "      <td>0</td>\n",
       "    </tr>\n",
       "    <tr>\n",
       "      <th>9238</th>\n",
       "      <td>landing page submission</td>\n",
       "      <td>google</td>\n",
       "      <td>no</td>\n",
       "      <td>no</td>\n",
       "      <td>1</td>\n",
       "      <td>3.0</td>\n",
       "      <td>499</td>\n",
       "      <td>3.00</td>\n",
       "      <td>sms sent</td>\n",
       "      <td>india</td>\n",
       "      <td>...</td>\n",
       "      <td>0</td>\n",
       "      <td>0</td>\n",
       "      <td>0</td>\n",
       "      <td>0</td>\n",
       "      <td>0</td>\n",
       "      <td>0</td>\n",
       "      <td>1</td>\n",
       "      <td>0</td>\n",
       "      <td>0</td>\n",
       "      <td>0</td>\n",
       "    </tr>\n",
       "    <tr>\n",
       "      <th>9239</th>\n",
       "      <td>landing page submission</td>\n",
       "      <td>direct traffic</td>\n",
       "      <td>no</td>\n",
       "      <td>no</td>\n",
       "      <td>1</td>\n",
       "      <td>6.0</td>\n",
       "      <td>1279</td>\n",
       "      <td>3.00</td>\n",
       "      <td>sms sent</td>\n",
       "      <td>outside india</td>\n",
       "      <td>...</td>\n",
       "      <td>0</td>\n",
       "      <td>0</td>\n",
       "      <td>1</td>\n",
       "      <td>0</td>\n",
       "      <td>0</td>\n",
       "      <td>0</td>\n",
       "      <td>0</td>\n",
       "      <td>0</td>\n",
       "      <td>0</td>\n",
       "      <td>0</td>\n",
       "    </tr>\n",
       "  </tbody>\n",
       "</table>\n",
       "<p>9074 rows × 100 columns</p>\n",
       "</div>"
      ],
      "text/plain": [
       "                  Lead Origin     Lead Source Do Not Email Do Not Call  \\\n",
       "0                         api      olark chat           no          no   \n",
       "1                         api  organic search           no          no   \n",
       "2     landing page submission  direct traffic           no          no   \n",
       "3     landing page submission  direct traffic           no          no   \n",
       "4     landing page submission          google           no          no   \n",
       "...                       ...             ...          ...         ...   \n",
       "9235  landing page submission  direct traffic          yes          no   \n",
       "9236  landing page submission  direct traffic           no          no   \n",
       "9237  landing page submission  direct traffic          yes          no   \n",
       "9238  landing page submission          google           no          no   \n",
       "9239  landing page submission  direct traffic           no          no   \n",
       "\n",
       "      Converted  TotalVisits  Total Time Spent on Website  \\\n",
       "0             0          0.0                            0   \n",
       "1             0          5.0                          674   \n",
       "2             1          2.0                         1532   \n",
       "3             0          1.0                          305   \n",
       "4             1          2.0                         1428   \n",
       "...         ...          ...                          ...   \n",
       "9235          1          8.0                         1845   \n",
       "9236          0          2.0                          238   \n",
       "9237          0          2.0                          199   \n",
       "9238          1          3.0                          499   \n",
       "9239          1          6.0                         1279   \n",
       "\n",
       "      Page Views Per Visit            Last Activity        Country  ...  \\\n",
       "0                     0.00  page visited on website   not provided  ...   \n",
       "1                     2.50             email opened          india  ...   \n",
       "2                     2.00             email opened          india  ...   \n",
       "3                     1.00              unreachable          india  ...   \n",
       "4                     1.00        converted to lead          india  ...   \n",
       "...                    ...                      ...            ...  ...   \n",
       "9235                  2.67        email marked spam  outside india  ...   \n",
       "9236                  2.00                 sms sent          india  ...   \n",
       "9237                  2.00                 sms sent          india  ...   \n",
       "9238                  3.00                 sms sent          india  ...   \n",
       "9239                  3.00                 sms sent  outside india  ...   \n",
       "\n",
       "     Last Notable Activity_form submitted on website  \\\n",
       "0                                                  0   \n",
       "1                                                  0   \n",
       "2                                                  0   \n",
       "3                                                  0   \n",
       "4                                                  0   \n",
       "...                                              ...   \n",
       "9235                                               0   \n",
       "9236                                               0   \n",
       "9237                                               0   \n",
       "9238                                               0   \n",
       "9239                                               0   \n",
       "\n",
       "     Last Notable Activity_had a phone conversation  \\\n",
       "0                                                 0   \n",
       "1                                                 0   \n",
       "2                                                 0   \n",
       "3                                                 0   \n",
       "4                                                 0   \n",
       "...                                             ...   \n",
       "9235                                              0   \n",
       "9236                                              0   \n",
       "9237                                              0   \n",
       "9238                                              0   \n",
       "9239                                              0   \n",
       "\n",
       "     Last Notable Activity_modified  \\\n",
       "0                                 1   \n",
       "1                                 0   \n",
       "2                                 0   \n",
       "3                                 1   \n",
       "4                                 1   \n",
       "...                             ...   \n",
       "9235                              0   \n",
       "9236                              0   \n",
       "9237                              0   \n",
       "9238                              0   \n",
       "9239                              1   \n",
       "\n",
       "     Last Notable Activity_olark chat conversation  \\\n",
       "0                                                0   \n",
       "1                                                0   \n",
       "2                                                0   \n",
       "3                                                0   \n",
       "4                                                0   \n",
       "...                                            ...   \n",
       "9235                                             0   \n",
       "9236                                             0   \n",
       "9237                                             0   \n",
       "9238                                             0   \n",
       "9239                                             0   \n",
       "\n",
       "     Last Notable Activity_page visited on website  \\\n",
       "0                                                0   \n",
       "1                                                0   \n",
       "2                                                0   \n",
       "3                                                0   \n",
       "4                                                0   \n",
       "...                                            ...   \n",
       "9235                                             0   \n",
       "9236                                             0   \n",
       "9237                                             0   \n",
       "9238                                             0   \n",
       "9239                                             0   \n",
       "\n",
       "     Last Notable Activity_resubscribed to emails  \\\n",
       "0                                               0   \n",
       "1                                               0   \n",
       "2                                               0   \n",
       "3                                               0   \n",
       "4                                               0   \n",
       "...                                           ...   \n",
       "9235                                            0   \n",
       "9236                                            0   \n",
       "9237                                            0   \n",
       "9238                                            0   \n",
       "9239                                            0   \n",
       "\n",
       "     Last Notable Activity_sms sent Last Notable Activity_unreachable  \\\n",
       "0                                 0                                 0   \n",
       "1                                 0                                 0   \n",
       "2                                 0                                 0   \n",
       "3                                 0                                 0   \n",
       "4                                 0                                 0   \n",
       "...                             ...                               ...   \n",
       "9235                              0                                 0   \n",
       "9236                              1                                 0   \n",
       "9237                              1                                 0   \n",
       "9238                              1                                 0   \n",
       "9239                              0                                 0   \n",
       "\n",
       "     Last Notable Activity_unsubscribed  \\\n",
       "0                                     0   \n",
       "1                                     0   \n",
       "2                                     0   \n",
       "3                                     0   \n",
       "4                                     0   \n",
       "...                                 ...   \n",
       "9235                                  0   \n",
       "9236                                  0   \n",
       "9237                                  0   \n",
       "9238                                  0   \n",
       "9239                                  0   \n",
       "\n",
       "     Last Notable Activity_view in browser link clicked  \n",
       "0                                                     0  \n",
       "1                                                     0  \n",
       "2                                                     0  \n",
       "3                                                     0  \n",
       "4                                                     0  \n",
       "...                                                 ...  \n",
       "9235                                                  0  \n",
       "9236                                                  0  \n",
       "9237                                                  0  \n",
       "9238                                                  0  \n",
       "9239                                                  0  \n",
       "\n",
       "[9074 rows x 100 columns]"
      ]
     },
     "execution_count": 56,
     "metadata": {},
     "output_type": "execute_result"
    }
   ],
   "source": [
    "# Create dummy variables using the 'get_dummies'\n",
    "dummy_leads = pd.get_dummies(leads_final[['Lead Origin','Specialization' ,'Lead Source', 'Do Not Email', 'Last Activity', 'What is your current occupation','A free copy of Mastering The Interview', 'Last Notable Activity']], drop_first=True)\n",
    "\n",
    "# Add the results to the original dataframe\n",
    "leads_final_dum = pd.concat([leads_final, dummy_leads], axis=1)\n",
    "leads_final_dum"
   ]
  },
  {
   "cell_type": "code",
   "execution_count": 57,
   "id": "89de8c26",
   "metadata": {},
   "outputs": [
    {
     "data": {
      "text/html": [
       "<div>\n",
       "<style scoped>\n",
       "    .dataframe tbody tr th:only-of-type {\n",
       "        vertical-align: middle;\n",
       "    }\n",
       "\n",
       "    .dataframe tbody tr th {\n",
       "        vertical-align: top;\n",
       "    }\n",
       "\n",
       "    .dataframe thead th {\n",
       "        text-align: right;\n",
       "    }\n",
       "</style>\n",
       "<table border=\"1\" class=\"dataframe\">\n",
       "  <thead>\n",
       "    <tr style=\"text-align: right;\">\n",
       "      <th></th>\n",
       "      <th>Converted</th>\n",
       "      <th>TotalVisits</th>\n",
       "      <th>Total Time Spent on Website</th>\n",
       "      <th>Page Views Per Visit</th>\n",
       "      <th>Lead Origin_landing page submission</th>\n",
       "      <th>Lead Origin_lead add form</th>\n",
       "      <th>Lead Origin_lead import</th>\n",
       "      <th>Specialization_business administration</th>\n",
       "      <th>Specialization_e-business</th>\n",
       "      <th>Specialization_e-commerce</th>\n",
       "      <th>...</th>\n",
       "      <th>Last Notable Activity_form submitted on website</th>\n",
       "      <th>Last Notable Activity_had a phone conversation</th>\n",
       "      <th>Last Notable Activity_modified</th>\n",
       "      <th>Last Notable Activity_olark chat conversation</th>\n",
       "      <th>Last Notable Activity_page visited on website</th>\n",
       "      <th>Last Notable Activity_resubscribed to emails</th>\n",
       "      <th>Last Notable Activity_sms sent</th>\n",
       "      <th>Last Notable Activity_unreachable</th>\n",
       "      <th>Last Notable Activity_unsubscribed</th>\n",
       "      <th>Last Notable Activity_view in browser link clicked</th>\n",
       "    </tr>\n",
       "  </thead>\n",
       "  <tbody>\n",
       "    <tr>\n",
       "      <th>0</th>\n",
       "      <td>0</td>\n",
       "      <td>0.0</td>\n",
       "      <td>0</td>\n",
       "      <td>0.00</td>\n",
       "      <td>0</td>\n",
       "      <td>0</td>\n",
       "      <td>0</td>\n",
       "      <td>0</td>\n",
       "      <td>0</td>\n",
       "      <td>0</td>\n",
       "      <td>...</td>\n",
       "      <td>0</td>\n",
       "      <td>0</td>\n",
       "      <td>1</td>\n",
       "      <td>0</td>\n",
       "      <td>0</td>\n",
       "      <td>0</td>\n",
       "      <td>0</td>\n",
       "      <td>0</td>\n",
       "      <td>0</td>\n",
       "      <td>0</td>\n",
       "    </tr>\n",
       "    <tr>\n",
       "      <th>1</th>\n",
       "      <td>0</td>\n",
       "      <td>5.0</td>\n",
       "      <td>674</td>\n",
       "      <td>2.50</td>\n",
       "      <td>0</td>\n",
       "      <td>0</td>\n",
       "      <td>0</td>\n",
       "      <td>0</td>\n",
       "      <td>0</td>\n",
       "      <td>0</td>\n",
       "      <td>...</td>\n",
       "      <td>0</td>\n",
       "      <td>0</td>\n",
       "      <td>0</td>\n",
       "      <td>0</td>\n",
       "      <td>0</td>\n",
       "      <td>0</td>\n",
       "      <td>0</td>\n",
       "      <td>0</td>\n",
       "      <td>0</td>\n",
       "      <td>0</td>\n",
       "    </tr>\n",
       "    <tr>\n",
       "      <th>2</th>\n",
       "      <td>1</td>\n",
       "      <td>2.0</td>\n",
       "      <td>1532</td>\n",
       "      <td>2.00</td>\n",
       "      <td>1</td>\n",
       "      <td>0</td>\n",
       "      <td>0</td>\n",
       "      <td>1</td>\n",
       "      <td>0</td>\n",
       "      <td>0</td>\n",
       "      <td>...</td>\n",
       "      <td>0</td>\n",
       "      <td>0</td>\n",
       "      <td>0</td>\n",
       "      <td>0</td>\n",
       "      <td>0</td>\n",
       "      <td>0</td>\n",
       "      <td>0</td>\n",
       "      <td>0</td>\n",
       "      <td>0</td>\n",
       "      <td>0</td>\n",
       "    </tr>\n",
       "    <tr>\n",
       "      <th>3</th>\n",
       "      <td>0</td>\n",
       "      <td>1.0</td>\n",
       "      <td>305</td>\n",
       "      <td>1.00</td>\n",
       "      <td>1</td>\n",
       "      <td>0</td>\n",
       "      <td>0</td>\n",
       "      <td>0</td>\n",
       "      <td>0</td>\n",
       "      <td>0</td>\n",
       "      <td>...</td>\n",
       "      <td>0</td>\n",
       "      <td>0</td>\n",
       "      <td>1</td>\n",
       "      <td>0</td>\n",
       "      <td>0</td>\n",
       "      <td>0</td>\n",
       "      <td>0</td>\n",
       "      <td>0</td>\n",
       "      <td>0</td>\n",
       "      <td>0</td>\n",
       "    </tr>\n",
       "    <tr>\n",
       "      <th>4</th>\n",
       "      <td>1</td>\n",
       "      <td>2.0</td>\n",
       "      <td>1428</td>\n",
       "      <td>1.00</td>\n",
       "      <td>1</td>\n",
       "      <td>0</td>\n",
       "      <td>0</td>\n",
       "      <td>0</td>\n",
       "      <td>0</td>\n",
       "      <td>0</td>\n",
       "      <td>...</td>\n",
       "      <td>0</td>\n",
       "      <td>0</td>\n",
       "      <td>1</td>\n",
       "      <td>0</td>\n",
       "      <td>0</td>\n",
       "      <td>0</td>\n",
       "      <td>0</td>\n",
       "      <td>0</td>\n",
       "      <td>0</td>\n",
       "      <td>0</td>\n",
       "    </tr>\n",
       "    <tr>\n",
       "      <th>...</th>\n",
       "      <td>...</td>\n",
       "      <td>...</td>\n",
       "      <td>...</td>\n",
       "      <td>...</td>\n",
       "      <td>...</td>\n",
       "      <td>...</td>\n",
       "      <td>...</td>\n",
       "      <td>...</td>\n",
       "      <td>...</td>\n",
       "      <td>...</td>\n",
       "      <td>...</td>\n",
       "      <td>...</td>\n",
       "      <td>...</td>\n",
       "      <td>...</td>\n",
       "      <td>...</td>\n",
       "      <td>...</td>\n",
       "      <td>...</td>\n",
       "      <td>...</td>\n",
       "      <td>...</td>\n",
       "      <td>...</td>\n",
       "      <td>...</td>\n",
       "    </tr>\n",
       "    <tr>\n",
       "      <th>9235</th>\n",
       "      <td>1</td>\n",
       "      <td>8.0</td>\n",
       "      <td>1845</td>\n",
       "      <td>2.67</td>\n",
       "      <td>1</td>\n",
       "      <td>0</td>\n",
       "      <td>0</td>\n",
       "      <td>0</td>\n",
       "      <td>0</td>\n",
       "      <td>0</td>\n",
       "      <td>...</td>\n",
       "      <td>0</td>\n",
       "      <td>0</td>\n",
       "      <td>0</td>\n",
       "      <td>0</td>\n",
       "      <td>0</td>\n",
       "      <td>0</td>\n",
       "      <td>0</td>\n",
       "      <td>0</td>\n",
       "      <td>0</td>\n",
       "      <td>0</td>\n",
       "    </tr>\n",
       "    <tr>\n",
       "      <th>9236</th>\n",
       "      <td>0</td>\n",
       "      <td>2.0</td>\n",
       "      <td>238</td>\n",
       "      <td>2.00</td>\n",
       "      <td>1</td>\n",
       "      <td>0</td>\n",
       "      <td>0</td>\n",
       "      <td>0</td>\n",
       "      <td>0</td>\n",
       "      <td>0</td>\n",
       "      <td>...</td>\n",
       "      <td>0</td>\n",
       "      <td>0</td>\n",
       "      <td>0</td>\n",
       "      <td>0</td>\n",
       "      <td>0</td>\n",
       "      <td>0</td>\n",
       "      <td>1</td>\n",
       "      <td>0</td>\n",
       "      <td>0</td>\n",
       "      <td>0</td>\n",
       "    </tr>\n",
       "    <tr>\n",
       "      <th>9237</th>\n",
       "      <td>0</td>\n",
       "      <td>2.0</td>\n",
       "      <td>199</td>\n",
       "      <td>2.00</td>\n",
       "      <td>1</td>\n",
       "      <td>0</td>\n",
       "      <td>0</td>\n",
       "      <td>1</td>\n",
       "      <td>0</td>\n",
       "      <td>0</td>\n",
       "      <td>...</td>\n",
       "      <td>0</td>\n",
       "      <td>0</td>\n",
       "      <td>0</td>\n",
       "      <td>0</td>\n",
       "      <td>0</td>\n",
       "      <td>0</td>\n",
       "      <td>1</td>\n",
       "      <td>0</td>\n",
       "      <td>0</td>\n",
       "      <td>0</td>\n",
       "    </tr>\n",
       "    <tr>\n",
       "      <th>9238</th>\n",
       "      <td>1</td>\n",
       "      <td>3.0</td>\n",
       "      <td>499</td>\n",
       "      <td>3.00</td>\n",
       "      <td>1</td>\n",
       "      <td>0</td>\n",
       "      <td>0</td>\n",
       "      <td>0</td>\n",
       "      <td>0</td>\n",
       "      <td>0</td>\n",
       "      <td>...</td>\n",
       "      <td>0</td>\n",
       "      <td>0</td>\n",
       "      <td>0</td>\n",
       "      <td>0</td>\n",
       "      <td>0</td>\n",
       "      <td>0</td>\n",
       "      <td>1</td>\n",
       "      <td>0</td>\n",
       "      <td>0</td>\n",
       "      <td>0</td>\n",
       "    </tr>\n",
       "    <tr>\n",
       "      <th>9239</th>\n",
       "      <td>1</td>\n",
       "      <td>6.0</td>\n",
       "      <td>1279</td>\n",
       "      <td>3.00</td>\n",
       "      <td>1</td>\n",
       "      <td>0</td>\n",
       "      <td>0</td>\n",
       "      <td>0</td>\n",
       "      <td>0</td>\n",
       "      <td>0</td>\n",
       "      <td>...</td>\n",
       "      <td>0</td>\n",
       "      <td>0</td>\n",
       "      <td>1</td>\n",
       "      <td>0</td>\n",
       "      <td>0</td>\n",
       "      <td>0</td>\n",
       "      <td>0</td>\n",
       "      <td>0</td>\n",
       "      <td>0</td>\n",
       "      <td>0</td>\n",
       "    </tr>\n",
       "  </tbody>\n",
       "</table>\n",
       "<p>9074 rows × 81 columns</p>\n",
       "</div>"
      ],
      "text/plain": [
       "      Converted  TotalVisits  Total Time Spent on Website  \\\n",
       "0             0          0.0                            0   \n",
       "1             0          5.0                          674   \n",
       "2             1          2.0                         1532   \n",
       "3             0          1.0                          305   \n",
       "4             1          2.0                         1428   \n",
       "...         ...          ...                          ...   \n",
       "9235          1          8.0                         1845   \n",
       "9236          0          2.0                          238   \n",
       "9237          0          2.0                          199   \n",
       "9238          1          3.0                          499   \n",
       "9239          1          6.0                         1279   \n",
       "\n",
       "      Page Views Per Visit  Lead Origin_landing page submission  \\\n",
       "0                     0.00                                    0   \n",
       "1                     2.50                                    0   \n",
       "2                     2.00                                    1   \n",
       "3                     1.00                                    1   \n",
       "4                     1.00                                    1   \n",
       "...                    ...                                  ...   \n",
       "9235                  2.67                                    1   \n",
       "9236                  2.00                                    1   \n",
       "9237                  2.00                                    1   \n",
       "9238                  3.00                                    1   \n",
       "9239                  3.00                                    1   \n",
       "\n",
       "      Lead Origin_lead add form  Lead Origin_lead import  \\\n",
       "0                             0                        0   \n",
       "1                             0                        0   \n",
       "2                             0                        0   \n",
       "3                             0                        0   \n",
       "4                             0                        0   \n",
       "...                         ...                      ...   \n",
       "9235                          0                        0   \n",
       "9236                          0                        0   \n",
       "9237                          0                        0   \n",
       "9238                          0                        0   \n",
       "9239                          0                        0   \n",
       "\n",
       "      Specialization_business administration  Specialization_e-business  \\\n",
       "0                                          0                          0   \n",
       "1                                          0                          0   \n",
       "2                                          1                          0   \n",
       "3                                          0                          0   \n",
       "4                                          0                          0   \n",
       "...                                      ...                        ...   \n",
       "9235                                       0                          0   \n",
       "9236                                       0                          0   \n",
       "9237                                       1                          0   \n",
       "9238                                       0                          0   \n",
       "9239                                       0                          0   \n",
       "\n",
       "      Specialization_e-commerce  ...  \\\n",
       "0                             0  ...   \n",
       "1                             0  ...   \n",
       "2                             0  ...   \n",
       "3                             0  ...   \n",
       "4                             0  ...   \n",
       "...                         ...  ...   \n",
       "9235                          0  ...   \n",
       "9236                          0  ...   \n",
       "9237                          0  ...   \n",
       "9238                          0  ...   \n",
       "9239                          0  ...   \n",
       "\n",
       "      Last Notable Activity_form submitted on website  \\\n",
       "0                                                   0   \n",
       "1                                                   0   \n",
       "2                                                   0   \n",
       "3                                                   0   \n",
       "4                                                   0   \n",
       "...                                               ...   \n",
       "9235                                                0   \n",
       "9236                                                0   \n",
       "9237                                                0   \n",
       "9238                                                0   \n",
       "9239                                                0   \n",
       "\n",
       "      Last Notable Activity_had a phone conversation  \\\n",
       "0                                                  0   \n",
       "1                                                  0   \n",
       "2                                                  0   \n",
       "3                                                  0   \n",
       "4                                                  0   \n",
       "...                                              ...   \n",
       "9235                                               0   \n",
       "9236                                               0   \n",
       "9237                                               0   \n",
       "9238                                               0   \n",
       "9239                                               0   \n",
       "\n",
       "      Last Notable Activity_modified  \\\n",
       "0                                  1   \n",
       "1                                  0   \n",
       "2                                  0   \n",
       "3                                  1   \n",
       "4                                  1   \n",
       "...                              ...   \n",
       "9235                               0   \n",
       "9236                               0   \n",
       "9237                               0   \n",
       "9238                               0   \n",
       "9239                               1   \n",
       "\n",
       "      Last Notable Activity_olark chat conversation  \\\n",
       "0                                                 0   \n",
       "1                                                 0   \n",
       "2                                                 0   \n",
       "3                                                 0   \n",
       "4                                                 0   \n",
       "...                                             ...   \n",
       "9235                                              0   \n",
       "9236                                              0   \n",
       "9237                                              0   \n",
       "9238                                              0   \n",
       "9239                                              0   \n",
       "\n",
       "      Last Notable Activity_page visited on website  \\\n",
       "0                                                 0   \n",
       "1                                                 0   \n",
       "2                                                 0   \n",
       "3                                                 0   \n",
       "4                                                 0   \n",
       "...                                             ...   \n",
       "9235                                              0   \n",
       "9236                                              0   \n",
       "9237                                              0   \n",
       "9238                                              0   \n",
       "9239                                              0   \n",
       "\n",
       "      Last Notable Activity_resubscribed to emails  \\\n",
       "0                                                0   \n",
       "1                                                0   \n",
       "2                                                0   \n",
       "3                                                0   \n",
       "4                                                0   \n",
       "...                                            ...   \n",
       "9235                                             0   \n",
       "9236                                             0   \n",
       "9237                                             0   \n",
       "9238                                             0   \n",
       "9239                                             0   \n",
       "\n",
       "      Last Notable Activity_sms sent  Last Notable Activity_unreachable  \\\n",
       "0                                  0                                  0   \n",
       "1                                  0                                  0   \n",
       "2                                  0                                  0   \n",
       "3                                  0                                  0   \n",
       "4                                  0                                  0   \n",
       "...                              ...                                ...   \n",
       "9235                               0                                  0   \n",
       "9236                               1                                  0   \n",
       "9237                               1                                  0   \n",
       "9238                               1                                  0   \n",
       "9239                               0                                  0   \n",
       "\n",
       "      Last Notable Activity_unsubscribed  \\\n",
       "0                                      0   \n",
       "1                                      0   \n",
       "2                                      0   \n",
       "3                                      0   \n",
       "4                                      0   \n",
       "...                                  ...   \n",
       "9235                                   0   \n",
       "9236                                   0   \n",
       "9237                                   0   \n",
       "9238                                   0   \n",
       "9239                                   0   \n",
       "\n",
       "      Last Notable Activity_view in browser link clicked  \n",
       "0                                                     0   \n",
       "1                                                     0   \n",
       "2                                                     0   \n",
       "3                                                     0   \n",
       "4                                                     0   \n",
       "...                                                 ...   \n",
       "9235                                                  0   \n",
       "9236                                                  0   \n",
       "9237                                                  0   \n",
       "9238                                                  0   \n",
       "9239                                                  0   \n",
       "\n",
       "[9074 rows x 81 columns]"
      ]
     },
     "execution_count": 57,
     "metadata": {},
     "output_type": "execute_result"
    }
   ],
   "source": [
    "# Dropping the unwanted columns \n",
    "leads_final_dum = leads_final_dum.drop(['What is your current occupation_not provided','Lead Origin', 'Lead Source', 'Do Not Email', 'Do Not Call','Last Activity', 'Country', 'Specialization', 'Specialization_not provided','What is your current occupation','What matters most to you in choosing a course', 'Search','Newspaper Article', 'X Education Forums', 'Newspaper','Digital Advertisement', 'Through Recommendations','A free copy of Mastering The Interview', 'Last Notable Activity'], 1)\n",
    "leads_final_dum"
   ]
  },
  {
   "cell_type": "markdown",
   "id": "8baec779",
   "metadata": {},
   "source": [
    "## 6. Splitting the data"
   ]
  },
  {
   "cell_type": "markdown",
   "id": "41063a62",
   "metadata": {},
   "source": [
    "### 6.1. Splitting the data into Train and test Data sets"
   ]
  },
  {
   "cell_type": "code",
   "execution_count": 58,
   "id": "606ec045",
   "metadata": {},
   "outputs": [
    {
     "data": {
      "text/html": [
       "<div>\n",
       "<style scoped>\n",
       "    .dataframe tbody tr th:only-of-type {\n",
       "        vertical-align: middle;\n",
       "    }\n",
       "\n",
       "    .dataframe tbody tr th {\n",
       "        vertical-align: top;\n",
       "    }\n",
       "\n",
       "    .dataframe thead th {\n",
       "        text-align: right;\n",
       "    }\n",
       "</style>\n",
       "<table border=\"1\" class=\"dataframe\">\n",
       "  <thead>\n",
       "    <tr style=\"text-align: right;\">\n",
       "      <th></th>\n",
       "      <th>TotalVisits</th>\n",
       "      <th>Total Time Spent on Website</th>\n",
       "      <th>Page Views Per Visit</th>\n",
       "      <th>Lead Origin_landing page submission</th>\n",
       "      <th>Lead Origin_lead add form</th>\n",
       "      <th>Lead Origin_lead import</th>\n",
       "      <th>Specialization_business administration</th>\n",
       "      <th>Specialization_e-business</th>\n",
       "      <th>Specialization_e-commerce</th>\n",
       "      <th>Specialization_finance management</th>\n",
       "      <th>...</th>\n",
       "      <th>Last Notable Activity_form submitted on website</th>\n",
       "      <th>Last Notable Activity_had a phone conversation</th>\n",
       "      <th>Last Notable Activity_modified</th>\n",
       "      <th>Last Notable Activity_olark chat conversation</th>\n",
       "      <th>Last Notable Activity_page visited on website</th>\n",
       "      <th>Last Notable Activity_resubscribed to emails</th>\n",
       "      <th>Last Notable Activity_sms sent</th>\n",
       "      <th>Last Notable Activity_unreachable</th>\n",
       "      <th>Last Notable Activity_unsubscribed</th>\n",
       "      <th>Last Notable Activity_view in browser link clicked</th>\n",
       "    </tr>\n",
       "  </thead>\n",
       "  <tbody>\n",
       "    <tr>\n",
       "      <th>0</th>\n",
       "      <td>0.0</td>\n",
       "      <td>0</td>\n",
       "      <td>0.0</td>\n",
       "      <td>0</td>\n",
       "      <td>0</td>\n",
       "      <td>0</td>\n",
       "      <td>0</td>\n",
       "      <td>0</td>\n",
       "      <td>0</td>\n",
       "      <td>0</td>\n",
       "      <td>...</td>\n",
       "      <td>0</td>\n",
       "      <td>0</td>\n",
       "      <td>1</td>\n",
       "      <td>0</td>\n",
       "      <td>0</td>\n",
       "      <td>0</td>\n",
       "      <td>0</td>\n",
       "      <td>0</td>\n",
       "      <td>0</td>\n",
       "      <td>0</td>\n",
       "    </tr>\n",
       "    <tr>\n",
       "      <th>1</th>\n",
       "      <td>5.0</td>\n",
       "      <td>674</td>\n",
       "      <td>2.5</td>\n",
       "      <td>0</td>\n",
       "      <td>0</td>\n",
       "      <td>0</td>\n",
       "      <td>0</td>\n",
       "      <td>0</td>\n",
       "      <td>0</td>\n",
       "      <td>0</td>\n",
       "      <td>...</td>\n",
       "      <td>0</td>\n",
       "      <td>0</td>\n",
       "      <td>0</td>\n",
       "      <td>0</td>\n",
       "      <td>0</td>\n",
       "      <td>0</td>\n",
       "      <td>0</td>\n",
       "      <td>0</td>\n",
       "      <td>0</td>\n",
       "      <td>0</td>\n",
       "    </tr>\n",
       "    <tr>\n",
       "      <th>2</th>\n",
       "      <td>2.0</td>\n",
       "      <td>1532</td>\n",
       "      <td>2.0</td>\n",
       "      <td>1</td>\n",
       "      <td>0</td>\n",
       "      <td>0</td>\n",
       "      <td>1</td>\n",
       "      <td>0</td>\n",
       "      <td>0</td>\n",
       "      <td>0</td>\n",
       "      <td>...</td>\n",
       "      <td>0</td>\n",
       "      <td>0</td>\n",
       "      <td>0</td>\n",
       "      <td>0</td>\n",
       "      <td>0</td>\n",
       "      <td>0</td>\n",
       "      <td>0</td>\n",
       "      <td>0</td>\n",
       "      <td>0</td>\n",
       "      <td>0</td>\n",
       "    </tr>\n",
       "    <tr>\n",
       "      <th>3</th>\n",
       "      <td>1.0</td>\n",
       "      <td>305</td>\n",
       "      <td>1.0</td>\n",
       "      <td>1</td>\n",
       "      <td>0</td>\n",
       "      <td>0</td>\n",
       "      <td>0</td>\n",
       "      <td>0</td>\n",
       "      <td>0</td>\n",
       "      <td>0</td>\n",
       "      <td>...</td>\n",
       "      <td>0</td>\n",
       "      <td>0</td>\n",
       "      <td>1</td>\n",
       "      <td>0</td>\n",
       "      <td>0</td>\n",
       "      <td>0</td>\n",
       "      <td>0</td>\n",
       "      <td>0</td>\n",
       "      <td>0</td>\n",
       "      <td>0</td>\n",
       "    </tr>\n",
       "    <tr>\n",
       "      <th>4</th>\n",
       "      <td>2.0</td>\n",
       "      <td>1428</td>\n",
       "      <td>1.0</td>\n",
       "      <td>1</td>\n",
       "      <td>0</td>\n",
       "      <td>0</td>\n",
       "      <td>0</td>\n",
       "      <td>0</td>\n",
       "      <td>0</td>\n",
       "      <td>0</td>\n",
       "      <td>...</td>\n",
       "      <td>0</td>\n",
       "      <td>0</td>\n",
       "      <td>1</td>\n",
       "      <td>0</td>\n",
       "      <td>0</td>\n",
       "      <td>0</td>\n",
       "      <td>0</td>\n",
       "      <td>0</td>\n",
       "      <td>0</td>\n",
       "      <td>0</td>\n",
       "    </tr>\n",
       "  </tbody>\n",
       "</table>\n",
       "<p>5 rows × 80 columns</p>\n",
       "</div>"
      ],
      "text/plain": [
       "   TotalVisits  Total Time Spent on Website  Page Views Per Visit  \\\n",
       "0          0.0                            0                   0.0   \n",
       "1          5.0                          674                   2.5   \n",
       "2          2.0                         1532                   2.0   \n",
       "3          1.0                          305                   1.0   \n",
       "4          2.0                         1428                   1.0   \n",
       "\n",
       "   Lead Origin_landing page submission  Lead Origin_lead add form  \\\n",
       "0                                    0                          0   \n",
       "1                                    0                          0   \n",
       "2                                    1                          0   \n",
       "3                                    1                          0   \n",
       "4                                    1                          0   \n",
       "\n",
       "   Lead Origin_lead import  Specialization_business administration  \\\n",
       "0                        0                                       0   \n",
       "1                        0                                       0   \n",
       "2                        0                                       1   \n",
       "3                        0                                       0   \n",
       "4                        0                                       0   \n",
       "\n",
       "   Specialization_e-business  Specialization_e-commerce  \\\n",
       "0                          0                          0   \n",
       "1                          0                          0   \n",
       "2                          0                          0   \n",
       "3                          0                          0   \n",
       "4                          0                          0   \n",
       "\n",
       "   Specialization_finance management  ...  \\\n",
       "0                                  0  ...   \n",
       "1                                  0  ...   \n",
       "2                                  0  ...   \n",
       "3                                  0  ...   \n",
       "4                                  0  ...   \n",
       "\n",
       "   Last Notable Activity_form submitted on website  \\\n",
       "0                                                0   \n",
       "1                                                0   \n",
       "2                                                0   \n",
       "3                                                0   \n",
       "4                                                0   \n",
       "\n",
       "   Last Notable Activity_had a phone conversation  \\\n",
       "0                                               0   \n",
       "1                                               0   \n",
       "2                                               0   \n",
       "3                                               0   \n",
       "4                                               0   \n",
       "\n",
       "   Last Notable Activity_modified  \\\n",
       "0                               1   \n",
       "1                               0   \n",
       "2                               0   \n",
       "3                               1   \n",
       "4                               1   \n",
       "\n",
       "   Last Notable Activity_olark chat conversation  \\\n",
       "0                                              0   \n",
       "1                                              0   \n",
       "2                                              0   \n",
       "3                                              0   \n",
       "4                                              0   \n",
       "\n",
       "   Last Notable Activity_page visited on website  \\\n",
       "0                                              0   \n",
       "1                                              0   \n",
       "2                                              0   \n",
       "3                                              0   \n",
       "4                                              0   \n",
       "\n",
       "   Last Notable Activity_resubscribed to emails  \\\n",
       "0                                             0   \n",
       "1                                             0   \n",
       "2                                             0   \n",
       "3                                             0   \n",
       "4                                             0   \n",
       "\n",
       "   Last Notable Activity_sms sent  Last Notable Activity_unreachable  \\\n",
       "0                               0                                  0   \n",
       "1                               0                                  0   \n",
       "2                               0                                  0   \n",
       "3                               0                                  0   \n",
       "4                               0                                  0   \n",
       "\n",
       "   Last Notable Activity_unsubscribed  \\\n",
       "0                                   0   \n",
       "1                                   0   \n",
       "2                                   0   \n",
       "3                                   0   \n",
       "4                                   0   \n",
       "\n",
       "   Last Notable Activity_view in browser link clicked  \n",
       "0                                                  0   \n",
       "1                                                  0   \n",
       "2                                                  0   \n",
       "3                                                  0   \n",
       "4                                                  0   \n",
       "\n",
       "[5 rows x 80 columns]"
      ]
     },
     "execution_count": 58,
     "metadata": {},
     "output_type": "execute_result"
    }
   ],
   "source": [
    "# Dropping the Converted column from X axis \n",
    "X = leads_final_dum.drop(['Converted'], 1)\n",
    "X.head()"
   ]
  },
  {
   "cell_type": "code",
   "execution_count": 59,
   "id": "307dfb8d",
   "metadata": {},
   "outputs": [
    {
     "data": {
      "text/plain": [
       "0    0\n",
       "1    0\n",
       "2    1\n",
       "3    0\n",
       "4    1\n",
       "Name: Converted, dtype: int64"
      ]
     },
     "execution_count": 59,
     "metadata": {},
     "output_type": "execute_result"
    }
   ],
   "source": [
    "# Assigning the target variable in y axis\n",
    "y = leads_final_dum['Converted']\n",
    "y.head()"
   ]
  },
  {
   "cell_type": "code",
   "execution_count": 60,
   "id": "2c8f0626",
   "metadata": {},
   "outputs": [],
   "source": [
    "# Splittng the dataset into 70% and 30% for train and test respectively\n",
    "X_train, X_test, y_train, y_test = train_test_split(X, y, train_size=0.7, test_size=0.3, random_state=10)"
   ]
  },
  {
   "cell_type": "code",
   "execution_count": 61,
   "id": "8b39e85b",
   "metadata": {},
   "outputs": [
    {
     "name": "stdout",
     "output_type": "stream",
     "text": [
      "X_train (6351, 80) \n",
      "\n",
      "y_train (6351,)\n"
     ]
    }
   ],
   "source": [
    "# Checking the shape of train data set\n",
    "print(\"X_train\", X_train.shape,'\\n')\n",
    "print(\"y_train\", y_train.shape)"
   ]
  },
  {
   "cell_type": "code",
   "execution_count": 62,
   "id": "b6d823a9",
   "metadata": {},
   "outputs": [
    {
     "name": "stdout",
     "output_type": "stream",
     "text": [
      "X_test (2723, 80) \n",
      "\n",
      "y_test (2723,)\n"
     ]
    }
   ],
   "source": [
    "# Checking the shape of test data set\n",
    "print(\"X_test\", X_test.shape,'\\n')\n",
    "print(\"y_test\", y_test.shape)"
   ]
  },
  {
   "cell_type": "markdown",
   "id": "82d01f3c",
   "metadata": {},
   "source": [
    "## 7. Scaling the data"
   ]
  },
  {
   "cell_type": "markdown",
   "id": "3785a68b",
   "metadata": {},
   "source": [
    "### 7.1. Scaling and Fitting the data"
   ]
  },
  {
   "cell_type": "code",
   "execution_count": 63,
   "id": "08ee950a",
   "metadata": {},
   "outputs": [],
   "source": [
    "# Using MinMax Scaler for scaling the features\n",
    "scaler = MinMaxScaler()"
   ]
  },
  {
   "cell_type": "code",
   "execution_count": 64,
   "id": "68630671",
   "metadata": {},
   "outputs": [],
   "source": [
    "# Applying the scaler and fitting on the data to the numerical features\n",
    "X_train[['TotalVisits', 'Page Views Per Visit', 'Total Time Spent on Website']] = scaler.fit_transform(X_train[['TotalVisits', 'Page Views Per Visit', 'Total Time Spent on Website']])"
   ]
  },
  {
   "cell_type": "code",
   "execution_count": 65,
   "id": "cb34715b",
   "metadata": {},
   "outputs": [
    {
     "data": {
      "text/html": [
       "<div>\n",
       "<style scoped>\n",
       "    .dataframe tbody tr th:only-of-type {\n",
       "        vertical-align: middle;\n",
       "    }\n",
       "\n",
       "    .dataframe tbody tr th {\n",
       "        vertical-align: top;\n",
       "    }\n",
       "\n",
       "    .dataframe thead th {\n",
       "        text-align: right;\n",
       "    }\n",
       "</style>\n",
       "<table border=\"1\" class=\"dataframe\">\n",
       "  <thead>\n",
       "    <tr style=\"text-align: right;\">\n",
       "      <th></th>\n",
       "      <th>TotalVisits</th>\n",
       "      <th>Total Time Spent on Website</th>\n",
       "      <th>Page Views Per Visit</th>\n",
       "      <th>Lead Origin_landing page submission</th>\n",
       "      <th>Lead Origin_lead add form</th>\n",
       "      <th>Lead Origin_lead import</th>\n",
       "      <th>Specialization_business administration</th>\n",
       "      <th>Specialization_e-business</th>\n",
       "      <th>Specialization_e-commerce</th>\n",
       "      <th>Specialization_finance management</th>\n",
       "      <th>...</th>\n",
       "      <th>Last Notable Activity_form submitted on website</th>\n",
       "      <th>Last Notable Activity_had a phone conversation</th>\n",
       "      <th>Last Notable Activity_modified</th>\n",
       "      <th>Last Notable Activity_olark chat conversation</th>\n",
       "      <th>Last Notable Activity_page visited on website</th>\n",
       "      <th>Last Notable Activity_resubscribed to emails</th>\n",
       "      <th>Last Notable Activity_sms sent</th>\n",
       "      <th>Last Notable Activity_unreachable</th>\n",
       "      <th>Last Notable Activity_unsubscribed</th>\n",
       "      <th>Last Notable Activity_view in browser link clicked</th>\n",
       "    </tr>\n",
       "  </thead>\n",
       "  <tbody>\n",
       "    <tr>\n",
       "      <th>1289</th>\n",
       "      <td>0.2</td>\n",
       "      <td>0.612676</td>\n",
       "      <td>0.333333</td>\n",
       "      <td>1</td>\n",
       "      <td>0</td>\n",
       "      <td>0</td>\n",
       "      <td>0</td>\n",
       "      <td>0</td>\n",
       "      <td>0</td>\n",
       "      <td>1</td>\n",
       "      <td>...</td>\n",
       "      <td>0</td>\n",
       "      <td>0</td>\n",
       "      <td>0</td>\n",
       "      <td>0</td>\n",
       "      <td>0</td>\n",
       "      <td>0</td>\n",
       "      <td>0</td>\n",
       "      <td>0</td>\n",
       "      <td>0</td>\n",
       "      <td>0</td>\n",
       "    </tr>\n",
       "    <tr>\n",
       "      <th>3604</th>\n",
       "      <td>0.0</td>\n",
       "      <td>0.000000</td>\n",
       "      <td>0.000000</td>\n",
       "      <td>0</td>\n",
       "      <td>0</td>\n",
       "      <td>0</td>\n",
       "      <td>0</td>\n",
       "      <td>0</td>\n",
       "      <td>0</td>\n",
       "      <td>0</td>\n",
       "      <td>...</td>\n",
       "      <td>0</td>\n",
       "      <td>0</td>\n",
       "      <td>0</td>\n",
       "      <td>0</td>\n",
       "      <td>1</td>\n",
       "      <td>0</td>\n",
       "      <td>0</td>\n",
       "      <td>0</td>\n",
       "      <td>0</td>\n",
       "      <td>0</td>\n",
       "    </tr>\n",
       "    <tr>\n",
       "      <th>5584</th>\n",
       "      <td>0.6</td>\n",
       "      <td>0.751761</td>\n",
       "      <td>1.000000</td>\n",
       "      <td>1</td>\n",
       "      <td>0</td>\n",
       "      <td>0</td>\n",
       "      <td>0</td>\n",
       "      <td>0</td>\n",
       "      <td>0</td>\n",
       "      <td>0</td>\n",
       "      <td>...</td>\n",
       "      <td>0</td>\n",
       "      <td>0</td>\n",
       "      <td>0</td>\n",
       "      <td>0</td>\n",
       "      <td>0</td>\n",
       "      <td>0</td>\n",
       "      <td>0</td>\n",
       "      <td>0</td>\n",
       "      <td>0</td>\n",
       "      <td>0</td>\n",
       "    </tr>\n",
       "    <tr>\n",
       "      <th>7679</th>\n",
       "      <td>0.0</td>\n",
       "      <td>0.000000</td>\n",
       "      <td>0.000000</td>\n",
       "      <td>0</td>\n",
       "      <td>0</td>\n",
       "      <td>0</td>\n",
       "      <td>0</td>\n",
       "      <td>0</td>\n",
       "      <td>0</td>\n",
       "      <td>0</td>\n",
       "      <td>...</td>\n",
       "      <td>0</td>\n",
       "      <td>0</td>\n",
       "      <td>0</td>\n",
       "      <td>0</td>\n",
       "      <td>0</td>\n",
       "      <td>0</td>\n",
       "      <td>0</td>\n",
       "      <td>0</td>\n",
       "      <td>0</td>\n",
       "      <td>0</td>\n",
       "    </tr>\n",
       "    <tr>\n",
       "      <th>7563</th>\n",
       "      <td>0.2</td>\n",
       "      <td>0.787852</td>\n",
       "      <td>0.333333</td>\n",
       "      <td>1</td>\n",
       "      <td>0</td>\n",
       "      <td>0</td>\n",
       "      <td>0</td>\n",
       "      <td>0</td>\n",
       "      <td>0</td>\n",
       "      <td>0</td>\n",
       "      <td>...</td>\n",
       "      <td>0</td>\n",
       "      <td>0</td>\n",
       "      <td>1</td>\n",
       "      <td>0</td>\n",
       "      <td>0</td>\n",
       "      <td>0</td>\n",
       "      <td>0</td>\n",
       "      <td>0</td>\n",
       "      <td>0</td>\n",
       "      <td>0</td>\n",
       "    </tr>\n",
       "  </tbody>\n",
       "</table>\n",
       "<p>5 rows × 80 columns</p>\n",
       "</div>"
      ],
      "text/plain": [
       "      TotalVisits  Total Time Spent on Website  Page Views Per Visit  \\\n",
       "1289          0.2                     0.612676              0.333333   \n",
       "3604          0.0                     0.000000              0.000000   \n",
       "5584          0.6                     0.751761              1.000000   \n",
       "7679          0.0                     0.000000              0.000000   \n",
       "7563          0.2                     0.787852              0.333333   \n",
       "\n",
       "      Lead Origin_landing page submission  Lead Origin_lead add form  \\\n",
       "1289                                    1                          0   \n",
       "3604                                    0                          0   \n",
       "5584                                    1                          0   \n",
       "7679                                    0                          0   \n",
       "7563                                    1                          0   \n",
       "\n",
       "      Lead Origin_lead import  Specialization_business administration  \\\n",
       "1289                        0                                       0   \n",
       "3604                        0                                       0   \n",
       "5584                        0                                       0   \n",
       "7679                        0                                       0   \n",
       "7563                        0                                       0   \n",
       "\n",
       "      Specialization_e-business  Specialization_e-commerce  \\\n",
       "1289                          0                          0   \n",
       "3604                          0                          0   \n",
       "5584                          0                          0   \n",
       "7679                          0                          0   \n",
       "7563                          0                          0   \n",
       "\n",
       "      Specialization_finance management  ...  \\\n",
       "1289                                  1  ...   \n",
       "3604                                  0  ...   \n",
       "5584                                  0  ...   \n",
       "7679                                  0  ...   \n",
       "7563                                  0  ...   \n",
       "\n",
       "      Last Notable Activity_form submitted on website  \\\n",
       "1289                                                0   \n",
       "3604                                                0   \n",
       "5584                                                0   \n",
       "7679                                                0   \n",
       "7563                                                0   \n",
       "\n",
       "      Last Notable Activity_had a phone conversation  \\\n",
       "1289                                               0   \n",
       "3604                                               0   \n",
       "5584                                               0   \n",
       "7679                                               0   \n",
       "7563                                               0   \n",
       "\n",
       "      Last Notable Activity_modified  \\\n",
       "1289                               0   \n",
       "3604                               0   \n",
       "5584                               0   \n",
       "7679                               0   \n",
       "7563                               1   \n",
       "\n",
       "      Last Notable Activity_olark chat conversation  \\\n",
       "1289                                              0   \n",
       "3604                                              0   \n",
       "5584                                              0   \n",
       "7679                                              0   \n",
       "7563                                              0   \n",
       "\n",
       "      Last Notable Activity_page visited on website  \\\n",
       "1289                                              0   \n",
       "3604                                              1   \n",
       "5584                                              0   \n",
       "7679                                              0   \n",
       "7563                                              0   \n",
       "\n",
       "      Last Notable Activity_resubscribed to emails  \\\n",
       "1289                                             0   \n",
       "3604                                             0   \n",
       "5584                                             0   \n",
       "7679                                             0   \n",
       "7563                                             0   \n",
       "\n",
       "      Last Notable Activity_sms sent  Last Notable Activity_unreachable  \\\n",
       "1289                               0                                  0   \n",
       "3604                               0                                  0   \n",
       "5584                               0                                  0   \n",
       "7679                               0                                  0   \n",
       "7563                               0                                  0   \n",
       "\n",
       "      Last Notable Activity_unsubscribed  \\\n",
       "1289                                   0   \n",
       "3604                                   0   \n",
       "5584                                   0   \n",
       "7679                                   0   \n",
       "7563                                   0   \n",
       "\n",
       "      Last Notable Activity_view in browser link clicked  \n",
       "1289                                                  0   \n",
       "3604                                                  0   \n",
       "5584                                                  0   \n",
       "7679                                                  0   \n",
       "7563                                                  0   \n",
       "\n",
       "[5 rows x 80 columns]"
      ]
     },
     "execution_count": 65,
     "metadata": {},
     "output_type": "execute_result"
    }
   ],
   "source": [
    "# Checking the head of the data after fitting \n",
    "X_train.head()"
   ]
  },
  {
   "cell_type": "markdown",
   "id": "1964a73b",
   "metadata": {},
   "source": [
    "##### Since there are a lot of variables it is difficult to drop variable. We'll do it after RFE"
   ]
  },
  {
   "cell_type": "markdown",
   "id": "cb9f99f0",
   "metadata": {},
   "source": [
    "## 8. Model Building "
   ]
  },
  {
   "cell_type": "markdown",
   "id": "fb96dbc0",
   "metadata": {},
   "source": [
    "### 8.1. Feature selection using RFE"
   ]
  },
  {
   "cell_type": "code",
   "execution_count": 66,
   "id": "31b91ae5",
   "metadata": {
    "scrolled": true
   },
   "outputs": [
    {
     "data": {
      "text/plain": [
       "[('TotalVisits', False, 4),\n",
       " ('Total Time Spent on Website', True, 1),\n",
       " ('Page Views Per Visit', False, 5),\n",
       " ('Lead Origin_landing page submission', False, 28),\n",
       " ('Lead Origin_lead add form', True, 1),\n",
       " ('Lead Origin_lead import', False, 41),\n",
       " ('Specialization_business administration', False, 35),\n",
       " ('Specialization_e-business', False, 31),\n",
       " ('Specialization_e-commerce', False, 23),\n",
       " ('Specialization_finance management', False, 32),\n",
       " ('Specialization_healthcare management', False, 26),\n",
       " ('Specialization_hospitality management', False, 43),\n",
       " ('Specialization_human resource management', False, 33),\n",
       " ('Specialization_international business', False, 38),\n",
       " ('Specialization_it projects management', False, 30),\n",
       " ('Specialization_marketing management', False, 22),\n",
       " ('Specialization_media and advertising', False, 39),\n",
       " ('Specialization_operations management', False, 27),\n",
       " ('Specialization_retail management', False, 61),\n",
       " ('Specialization_rural and agribusiness', False, 25),\n",
       " ('Specialization_services excellence', False, 24),\n",
       " ('Specialization_supply chain management', False, 29),\n",
       " ('Specialization_travel and tourism', False, 37),\n",
       " ('Lead Source_blog', False, 48),\n",
       " ('Lead Source_click2call', False, 63),\n",
       " ('Lead Source_direct traffic', True, 1),\n",
       " ('Lead Source_facebook', False, 42),\n",
       " ('Lead Source_google', False, 2),\n",
       " ('Lead Source_live chat', False, 49),\n",
       " ('Lead Source_nc_edm', False, 64),\n",
       " ('Lead Source_olark chat', False, 19),\n",
       " ('Lead Source_organic search', True, 1),\n",
       " ('Lead Source_pay per click ads', False, 65),\n",
       " ('Lead Source_press_release', False, 52),\n",
       " ('Lead Source_reference', False, 18),\n",
       " ('Lead Source_referral sites', False, 3),\n",
       " ('Lead Source_social media', False, 20),\n",
       " ('Lead Source_testone', False, 44),\n",
       " ('Lead Source_welearn', False, 47),\n",
       " ('Lead Source_welearnblog_home', False, 51),\n",
       " ('Lead Source_welingak website', True, 1),\n",
       " ('Lead Source_youtubechannel', False, 50),\n",
       " ('Do Not Email_yes', True, 1),\n",
       " ('Last Activity_converted to lead', False, 14),\n",
       " ('Last Activity_email bounced', False, 12),\n",
       " ('Last Activity_email link clicked', False, 58),\n",
       " ('Last Activity_email marked spam', False, 36),\n",
       " ('Last Activity_email opened', False, 62),\n",
       " ('Last Activity_email received', False, 57),\n",
       " ('Last Activity_form submitted on website', False, 34),\n",
       " ('Last Activity_had a phone conversation', False, 6),\n",
       " ('Last Activity_olark chat conversation', True, 1),\n",
       " ('Last Activity_page visited on website', False, 15),\n",
       " ('Last Activity_resubscribed to emails', False, 17),\n",
       " ('Last Activity_sms sent', True, 1),\n",
       " ('Last Activity_unreachable', False, 16),\n",
       " ('Last Activity_unsubscribed', False, 56),\n",
       " ('Last Activity_view in browser link clicked', False, 53),\n",
       " ('Last Activity_visited booth in tradeshow', False, 55),\n",
       " ('What is your current occupation_housewife', True, 1),\n",
       " ('What is your current occupation_other', True, 1),\n",
       " ('What is your current occupation_student', True, 1),\n",
       " ('What is your current occupation_unemployed', True, 1),\n",
       " ('What is your current occupation_working professional', True, 1),\n",
       " ('A free copy of Mastering The Interview_yes', False, 54),\n",
       " ('Last Notable Activity_email bounced', False, 45),\n",
       " ('Last Notable Activity_email link clicked', False, 11),\n",
       " ('Last Notable Activity_email marked spam', False, 40),\n",
       " ('Last Notable Activity_email opened', False, 13),\n",
       " ('Last Notable Activity_email received', False, 60),\n",
       " ('Last Notable Activity_form submitted on website', False, 59),\n",
       " ('Last Notable Activity_had a phone conversation', True, 1),\n",
       " ('Last Notable Activity_modified', False, 8),\n",
       " ('Last Notable Activity_olark chat conversation', False, 10),\n",
       " ('Last Notable Activity_page visited on website', False, 9),\n",
       " ('Last Notable Activity_resubscribed to emails', False, 7),\n",
       " ('Last Notable Activity_sms sent', False, 46),\n",
       " ('Last Notable Activity_unreachable', True, 1),\n",
       " ('Last Notable Activity_unsubscribed', False, 21),\n",
       " ('Last Notable Activity_view in browser link clicked', False, 66)]"
      ]
     },
     "execution_count": 66,
     "metadata": {},
     "output_type": "execute_result"
    }
   ],
   "source": [
    "# Building the model\n",
    "logreg = LogisticRegression()\n",
    "\n",
    "rfe = RFE(estimator=logreg, n_features_to_select=15)\n",
    "rfe = rfe.fit(X_train, y_train)\n",
    "\n",
    "list(zip(X_train.columns, rfe.support_, rfe.ranking_))"
   ]
  },
  {
   "cell_type": "code",
   "execution_count": 67,
   "id": "2102bddd",
   "metadata": {},
   "outputs": [],
   "source": [
    "# Put all the columns selected by RFE in the variable 'column'\n",
    "column = X_train.columns[rfe.support_]"
   ]
  },
  {
   "cell_type": "markdown",
   "id": "81c36040",
   "metadata": {},
   "source": [
    "All the variables selected by RFE, next statistics part (p-values and the VIFs)"
   ]
  },
  {
   "cell_type": "code",
   "execution_count": 68,
   "id": "66f628dc",
   "metadata": {},
   "outputs": [],
   "source": [
    "# Selecting columns selected by RFE\n",
    "X_train = X_train[column]"
   ]
  },
  {
   "cell_type": "code",
   "execution_count": 69,
   "id": "c13341f0",
   "metadata": {},
   "outputs": [
    {
     "data": {
      "text/html": [
       "<table class=\"simpletable\">\n",
       "<caption>Generalized Linear Model Regression Results</caption>\n",
       "<tr>\n",
       "  <th>Dep. Variable:</th>       <td>Converted</td>    <th>  No. Observations:  </th>  <td>  6351</td> \n",
       "</tr>\n",
       "<tr>\n",
       "  <th>Model:</th>                  <td>GLM</td>       <th>  Df Residuals:      </th>  <td>  6335</td> \n",
       "</tr>\n",
       "<tr>\n",
       "  <th>Model Family:</th>        <td>Binomial</td>     <th>  Df Model:          </th>  <td>    15</td> \n",
       "</tr>\n",
       "<tr>\n",
       "  <th>Link Function:</th>         <td>Logit</td>      <th>  Scale:             </th> <td>  1.0000</td>\n",
       "</tr>\n",
       "<tr>\n",
       "  <th>Method:</th>                <td>IRLS</td>       <th>  Log-Likelihood:    </th> <td> -2704.3</td>\n",
       "</tr>\n",
       "<tr>\n",
       "  <th>Date:</th>            <td>Tue, 03 Jan 2023</td> <th>  Deviance:          </th> <td>  5408.6</td>\n",
       "</tr>\n",
       "<tr>\n",
       "  <th>Time:</th>                <td>22:08:11</td>     <th>  Pearson chi2:      </th> <td>6.31e+03</td>\n",
       "</tr>\n",
       "<tr>\n",
       "  <th>No. Iterations:</th>         <td>21</td>        <th>  Pseudo R-squ. (CS):</th>  <td>0.3830</td> \n",
       "</tr>\n",
       "<tr>\n",
       "  <th>Covariance Type:</th>     <td>nonrobust</td>    <th>                     </th>     <td> </td>   \n",
       "</tr>\n",
       "</table>\n",
       "<table class=\"simpletable\">\n",
       "<tr>\n",
       "                            <td></td>                              <th>coef</th>     <th>std err</th>      <th>z</th>      <th>P>|z|</th>  <th>[0.025</th>    <th>0.975]</th>  \n",
       "</tr>\n",
       "<tr>\n",
       "  <th>const</th>                                                <td>   -2.5714</td> <td>    0.093</td> <td>  -27.737</td> <td> 0.000</td> <td>   -2.753</td> <td>   -2.390</td>\n",
       "</tr>\n",
       "<tr>\n",
       "  <th>Total Time Spent on Website</th>                          <td>    3.9100</td> <td>    0.147</td> <td>   26.617</td> <td> 0.000</td> <td>    3.622</td> <td>    4.198</td>\n",
       "</tr>\n",
       "<tr>\n",
       "  <th>Lead Origin_lead add form</th>                            <td>    2.9011</td> <td>    0.219</td> <td>   13.271</td> <td> 0.000</td> <td>    2.473</td> <td>    3.330</td>\n",
       "</tr>\n",
       "<tr>\n",
       "  <th>Lead Source_direct traffic</th>                           <td>   -0.6698</td> <td>    0.081</td> <td>   -8.311</td> <td> 0.000</td> <td>   -0.828</td> <td>   -0.512</td>\n",
       "</tr>\n",
       "<tr>\n",
       "  <th>Lead Source_organic search</th>                           <td>   -0.4298</td> <td>    0.102</td> <td>   -4.210</td> <td> 0.000</td> <td>   -0.630</td> <td>   -0.230</td>\n",
       "</tr>\n",
       "<tr>\n",
       "  <th>Lead Source_welingak website</th>                         <td>    2.5670</td> <td>    1.032</td> <td>    2.488</td> <td> 0.013</td> <td>    0.545</td> <td>    4.589</td>\n",
       "</tr>\n",
       "<tr>\n",
       "  <th>Do Not Email_yes</th>                                     <td>   -1.3430</td> <td>    0.167</td> <td>   -8.058</td> <td> 0.000</td> <td>   -1.670</td> <td>   -1.016</td>\n",
       "</tr>\n",
       "<tr>\n",
       "  <th>Last Activity_olark chat conversation</th>                <td>   -1.0514</td> <td>    0.165</td> <td>   -6.368</td> <td> 0.000</td> <td>   -1.375</td> <td>   -0.728</td>\n",
       "</tr>\n",
       "<tr>\n",
       "  <th>Last Activity_sms sent</th>                               <td>    1.2805</td> <td>    0.073</td> <td>   17.589</td> <td> 0.000</td> <td>    1.138</td> <td>    1.423</td>\n",
       "</tr>\n",
       "<tr>\n",
       "  <th>What is your current occupation_housewife</th>            <td>   24.1648</td> <td> 1.92e+04</td> <td>    0.001</td> <td> 0.999</td> <td>-3.75e+04</td> <td> 3.76e+04</td>\n",
       "</tr>\n",
       "<tr>\n",
       "  <th>What is your current occupation_other</th>                <td>    2.3197</td> <td>    0.754</td> <td>    3.077</td> <td> 0.002</td> <td>    0.842</td> <td>    3.797</td>\n",
       "</tr>\n",
       "<tr>\n",
       "  <th>What is your current occupation_student</th>              <td>    1.3007</td> <td>    0.226</td> <td>    5.752</td> <td> 0.000</td> <td>    0.858</td> <td>    1.744</td>\n",
       "</tr>\n",
       "<tr>\n",
       "  <th>What is your current occupation_unemployed</th>           <td>    1.1104</td> <td>    0.085</td> <td>   13.108</td> <td> 0.000</td> <td>    0.944</td> <td>    1.276</td>\n",
       "</tr>\n",
       "<tr>\n",
       "  <th>What is your current occupation_working professional</th> <td>    3.5799</td> <td>    0.203</td> <td>   17.615</td> <td> 0.000</td> <td>    3.182</td> <td>    3.978</td>\n",
       "</tr>\n",
       "<tr>\n",
       "  <th>Last Notable Activity_had a phone conversation</th>       <td>   22.7790</td> <td> 1.41e+04</td> <td>    0.002</td> <td> 0.999</td> <td>-2.75e+04</td> <td> 2.76e+04</td>\n",
       "</tr>\n",
       "<tr>\n",
       "  <th>Last Notable Activity_unreachable</th>                    <td>    1.7274</td> <td>    0.612</td> <td>    2.823</td> <td> 0.005</td> <td>    0.528</td> <td>    2.927</td>\n",
       "</tr>\n",
       "</table>"
      ],
      "text/plain": [
       "<class 'statsmodels.iolib.summary.Summary'>\n",
       "\"\"\"\n",
       "                 Generalized Linear Model Regression Results                  \n",
       "==============================================================================\n",
       "Dep. Variable:              Converted   No. Observations:                 6351\n",
       "Model:                            GLM   Df Residuals:                     6335\n",
       "Model Family:                Binomial   Df Model:                           15\n",
       "Link Function:                  Logit   Scale:                          1.0000\n",
       "Method:                          IRLS   Log-Likelihood:                -2704.3\n",
       "Date:                Tue, 03 Jan 2023   Deviance:                       5408.6\n",
       "Time:                        22:08:11   Pearson chi2:                 6.31e+03\n",
       "No. Iterations:                    21   Pseudo R-squ. (CS):             0.3830\n",
       "Covariance Type:            nonrobust                                         \n",
       "========================================================================================================================\n",
       "                                                           coef    std err          z      P>|z|      [0.025      0.975]\n",
       "------------------------------------------------------------------------------------------------------------------------\n",
       "const                                                   -2.5714      0.093    -27.737      0.000      -2.753      -2.390\n",
       "Total Time Spent on Website                              3.9100      0.147     26.617      0.000       3.622       4.198\n",
       "Lead Origin_lead add form                                2.9011      0.219     13.271      0.000       2.473       3.330\n",
       "Lead Source_direct traffic                              -0.6698      0.081     -8.311      0.000      -0.828      -0.512\n",
       "Lead Source_organic search                              -0.4298      0.102     -4.210      0.000      -0.630      -0.230\n",
       "Lead Source_welingak website                             2.5670      1.032      2.488      0.013       0.545       4.589\n",
       "Do Not Email_yes                                        -1.3430      0.167     -8.058      0.000      -1.670      -1.016\n",
       "Last Activity_olark chat conversation                   -1.0514      0.165     -6.368      0.000      -1.375      -0.728\n",
       "Last Activity_sms sent                                   1.2805      0.073     17.589      0.000       1.138       1.423\n",
       "What is your current occupation_housewife               24.1648   1.92e+04      0.001      0.999   -3.75e+04    3.76e+04\n",
       "What is your current occupation_other                    2.3197      0.754      3.077      0.002       0.842       3.797\n",
       "What is your current occupation_student                  1.3007      0.226      5.752      0.000       0.858       1.744\n",
       "What is your current occupation_unemployed               1.1104      0.085     13.108      0.000       0.944       1.276\n",
       "What is your current occupation_working professional     3.5799      0.203     17.615      0.000       3.182       3.978\n",
       "Last Notable Activity_had a phone conversation          22.7790   1.41e+04      0.002      0.999   -2.75e+04    2.76e+04\n",
       "Last Notable Activity_unreachable                        1.7274      0.612      2.823      0.005       0.528       2.927\n",
       "========================================================================================================================\n",
       "\"\"\""
      ]
     },
     "execution_count": 69,
     "metadata": {},
     "output_type": "execute_result"
    }
   ],
   "source": [
    "X_train_sm = sm.add_constant(X_train)\n",
    "logm1 = sm.GLM(y_train, X_train_sm, family = sm.families.Binomial())\n",
    "res = logm1.fit()\n",
    "res.summary()"
   ]
  },
  {
   "cell_type": "markdown",
   "id": "cb183e74",
   "metadata": {},
   "source": [
    "### 8.2. VIF"
   ]
  },
  {
   "cell_type": "markdown",
   "id": "7e263a8a",
   "metadata": {},
   "source": [
    "#### 8.2.a. Model - 1"
   ]
  },
  {
   "cell_type": "code",
   "execution_count": 70,
   "id": "ad1f7b16",
   "metadata": {},
   "outputs": [
    {
     "data": {
      "text/html": [
       "<div>\n",
       "<style scoped>\n",
       "    .dataframe tbody tr th:only-of-type {\n",
       "        vertical-align: middle;\n",
       "    }\n",
       "\n",
       "    .dataframe tbody tr th {\n",
       "        vertical-align: top;\n",
       "    }\n",
       "\n",
       "    .dataframe thead th {\n",
       "        text-align: right;\n",
       "    }\n",
       "</style>\n",
       "<table border=\"1\" class=\"dataframe\">\n",
       "  <thead>\n",
       "    <tr style=\"text-align: right;\">\n",
       "      <th></th>\n",
       "      <th>Features</th>\n",
       "      <th>VIF</th>\n",
       "    </tr>\n",
       "  </thead>\n",
       "  <tbody>\n",
       "    <tr>\n",
       "      <th>11</th>\n",
       "      <td>What is your current occupation_unemployed</td>\n",
       "      <td>2.17</td>\n",
       "    </tr>\n",
       "    <tr>\n",
       "      <th>0</th>\n",
       "      <td>Total Time Spent on Website</td>\n",
       "      <td>1.90</td>\n",
       "    </tr>\n",
       "    <tr>\n",
       "      <th>1</th>\n",
       "      <td>Lead Origin_lead add form</td>\n",
       "      <td>1.57</td>\n",
       "    </tr>\n",
       "    <tr>\n",
       "      <th>2</th>\n",
       "      <td>Lead Source_direct traffic</td>\n",
       "      <td>1.51</td>\n",
       "    </tr>\n",
       "    <tr>\n",
       "      <th>7</th>\n",
       "      <td>Last Activity_sms sent</td>\n",
       "      <td>1.51</td>\n",
       "    </tr>\n",
       "    <tr>\n",
       "      <th>4</th>\n",
       "      <td>Lead Source_welingak website</td>\n",
       "      <td>1.31</td>\n",
       "    </tr>\n",
       "    <tr>\n",
       "      <th>12</th>\n",
       "      <td>What is your current occupation_working profes...</td>\n",
       "      <td>1.30</td>\n",
       "    </tr>\n",
       "    <tr>\n",
       "      <th>3</th>\n",
       "      <td>Lead Source_organic search</td>\n",
       "      <td>1.23</td>\n",
       "    </tr>\n",
       "    <tr>\n",
       "      <th>5</th>\n",
       "      <td>Do Not Email_yes</td>\n",
       "      <td>1.09</td>\n",
       "    </tr>\n",
       "    <tr>\n",
       "      <th>6</th>\n",
       "      <td>Last Activity_olark chat conversation</td>\n",
       "      <td>1.05</td>\n",
       "    </tr>\n",
       "    <tr>\n",
       "      <th>10</th>\n",
       "      <td>What is your current occupation_student</td>\n",
       "      <td>1.05</td>\n",
       "    </tr>\n",
       "    <tr>\n",
       "      <th>9</th>\n",
       "      <td>What is your current occupation_other</td>\n",
       "      <td>1.01</td>\n",
       "    </tr>\n",
       "    <tr>\n",
       "      <th>14</th>\n",
       "      <td>Last Notable Activity_unreachable</td>\n",
       "      <td>1.01</td>\n",
       "    </tr>\n",
       "    <tr>\n",
       "      <th>8</th>\n",
       "      <td>What is your current occupation_housewife</td>\n",
       "      <td>1.00</td>\n",
       "    </tr>\n",
       "    <tr>\n",
       "      <th>13</th>\n",
       "      <td>Last Notable Activity_had a phone conversation</td>\n",
       "      <td>1.00</td>\n",
       "    </tr>\n",
       "  </tbody>\n",
       "</table>\n",
       "</div>"
      ],
      "text/plain": [
       "                                             Features   VIF\n",
       "11         What is your current occupation_unemployed  2.17\n",
       "0                         Total Time Spent on Website  1.90\n",
       "1                           Lead Origin_lead add form  1.57\n",
       "2                          Lead Source_direct traffic  1.51\n",
       "7                              Last Activity_sms sent  1.51\n",
       "4                        Lead Source_welingak website  1.31\n",
       "12  What is your current occupation_working profes...  1.30\n",
       "3                          Lead Source_organic search  1.23\n",
       "5                                    Do Not Email_yes  1.09\n",
       "6               Last Activity_olark chat conversation  1.05\n",
       "10            What is your current occupation_student  1.05\n",
       "9               What is your current occupation_other  1.01\n",
       "14                  Last Notable Activity_unreachable  1.01\n",
       "8           What is your current occupation_housewife  1.00\n",
       "13     Last Notable Activity_had a phone conversation  1.00"
      ]
     },
     "execution_count": 70,
     "metadata": {},
     "output_type": "execute_result"
    }
   ],
   "source": [
    "# Making a VIF dataframe for all the present variables\n",
    "vif = pd.DataFrame()\n",
    "vif['Features'] = X_train.columns\n",
    "vif['VIF'] = [variance_inflation_factor(X_train.values, i) for i in range(X_train.shape[1])]\n",
    "vif['VIF'] = round(vif['VIF'], 2)\n",
    "vif = vif.sort_values(by = \"VIF\", ascending = False)\n",
    "vif"
   ]
  },
  {
   "cell_type": "code",
   "execution_count": 71,
   "id": "7d206b4f",
   "metadata": {},
   "outputs": [],
   "source": [
    "# The VIF values seem fine but the p-values aren't. So removing 'Last Notable Activity had a phone conversation.'\n",
    "\n",
    "# Dropping the column\n",
    "X_train.drop('Last Notable Activity_had a phone conversation', axis = 1, inplace = True)"
   ]
  },
  {
   "cell_type": "markdown",
   "id": "66326d25",
   "metadata": {},
   "source": [
    "#### 8.2.b. Model - 2"
   ]
  },
  {
   "cell_type": "code",
   "execution_count": 72,
   "id": "21425fc4",
   "metadata": {},
   "outputs": [
    {
     "data": {
      "text/html": [
       "<table class=\"simpletable\">\n",
       "<caption>Generalized Linear Model Regression Results</caption>\n",
       "<tr>\n",
       "  <th>Dep. Variable:</th>       <td>Converted</td>    <th>  No. Observations:  </th>  <td>  6351</td> \n",
       "</tr>\n",
       "<tr>\n",
       "  <th>Model:</th>                  <td>GLM</td>       <th>  Df Residuals:      </th>  <td>  6336</td> \n",
       "</tr>\n",
       "<tr>\n",
       "  <th>Model Family:</th>        <td>Binomial</td>     <th>  Df Model:          </th>  <td>    14</td> \n",
       "</tr>\n",
       "<tr>\n",
       "  <th>Link Function:</th>         <td>Logit</td>      <th>  Scale:             </th> <td>  1.0000</td>\n",
       "</tr>\n",
       "<tr>\n",
       "  <th>Method:</th>                <td>IRLS</td>       <th>  Log-Likelihood:    </th> <td> -2711.0</td>\n",
       "</tr>\n",
       "<tr>\n",
       "  <th>Date:</th>            <td>Tue, 03 Jan 2023</td> <th>  Deviance:          </th> <td>  5422.0</td>\n",
       "</tr>\n",
       "<tr>\n",
       "  <th>Time:</th>                <td>22:08:11</td>     <th>  Pearson chi2:      </th> <td>6.31e+03</td>\n",
       "</tr>\n",
       "<tr>\n",
       "  <th>No. Iterations:</th>         <td>20</td>        <th>  Pseudo R-squ. (CS):</th>  <td>0.3817</td> \n",
       "</tr>\n",
       "<tr>\n",
       "  <th>Covariance Type:</th>     <td>nonrobust</td>    <th>                     </th>     <td> </td>   \n",
       "</tr>\n",
       "</table>\n",
       "<table class=\"simpletable\">\n",
       "<tr>\n",
       "                            <td></td>                              <th>coef</th>     <th>std err</th>      <th>z</th>      <th>P>|z|</th>  <th>[0.025</th>    <th>0.975]</th>  \n",
       "</tr>\n",
       "<tr>\n",
       "  <th>const</th>                                                <td>   -2.5656</td> <td>    0.093</td> <td>  -27.710</td> <td> 0.000</td> <td>   -2.747</td> <td>   -2.384</td>\n",
       "</tr>\n",
       "<tr>\n",
       "  <th>Total Time Spent on Website</th>                          <td>    3.9068</td> <td>    0.147</td> <td>   26.637</td> <td> 0.000</td> <td>    3.619</td> <td>    4.194</td>\n",
       "</tr>\n",
       "<tr>\n",
       "  <th>Lead Origin_lead add form</th>                            <td>    2.8927</td> <td>    0.219</td> <td>   13.236</td> <td> 0.000</td> <td>    2.464</td> <td>    3.321</td>\n",
       "</tr>\n",
       "<tr>\n",
       "  <th>Lead Source_direct traffic</th>                           <td>   -0.6760</td> <td>    0.081</td> <td>   -8.395</td> <td> 0.000</td> <td>   -0.834</td> <td>   -0.518</td>\n",
       "</tr>\n",
       "<tr>\n",
       "  <th>Lead Source_organic search</th>                           <td>   -0.4296</td> <td>    0.102</td> <td>   -4.215</td> <td> 0.000</td> <td>   -0.629</td> <td>   -0.230</td>\n",
       "</tr>\n",
       "<tr>\n",
       "  <th>Lead Source_welingak website</th>                         <td>    2.5673</td> <td>    1.032</td> <td>    2.488</td> <td> 0.013</td> <td>    0.545</td> <td>    4.589</td>\n",
       "</tr>\n",
       "<tr>\n",
       "  <th>Do Not Email_yes</th>                                     <td>   -1.3463</td> <td>    0.167</td> <td>   -8.082</td> <td> 0.000</td> <td>   -1.673</td> <td>   -1.020</td>\n",
       "</tr>\n",
       "<tr>\n",
       "  <th>Last Activity_olark chat conversation</th>                <td>   -1.0600</td> <td>    0.165</td> <td>   -6.422</td> <td> 0.000</td> <td>   -1.384</td> <td>   -0.736</td>\n",
       "</tr>\n",
       "<tr>\n",
       "  <th>Last Activity_sms sent</th>                               <td>    1.2733</td> <td>    0.073</td> <td>   17.505</td> <td> 0.000</td> <td>    1.131</td> <td>    1.416</td>\n",
       "</tr>\n",
       "<tr>\n",
       "  <th>What is your current occupation_housewife</th>            <td>   23.1609</td> <td> 1.16e+04</td> <td>    0.002</td> <td> 0.998</td> <td>-2.27e+04</td> <td> 2.28e+04</td>\n",
       "</tr>\n",
       "<tr>\n",
       "  <th>What is your current occupation_other</th>                <td>    2.3203</td> <td>    0.754</td> <td>    3.077</td> <td> 0.002</td> <td>    0.842</td> <td>    3.798</td>\n",
       "</tr>\n",
       "<tr>\n",
       "  <th>What is your current occupation_student</th>              <td>    1.3005</td> <td>    0.226</td> <td>    5.753</td> <td> 0.000</td> <td>    0.857</td> <td>    1.744</td>\n",
       "</tr>\n",
       "<tr>\n",
       "  <th>What is your current occupation_unemployed</th>           <td>    1.1165</td> <td>    0.085</td> <td>   13.189</td> <td> 0.000</td> <td>    0.951</td> <td>    1.282</td>\n",
       "</tr>\n",
       "<tr>\n",
       "  <th>What is your current occupation_working professional</th> <td>    3.5811</td> <td>    0.203</td> <td>   17.628</td> <td> 0.000</td> <td>    3.183</td> <td>    3.979</td>\n",
       "</tr>\n",
       "<tr>\n",
       "  <th>Last Notable Activity_unreachable</th>                    <td>    1.7195</td> <td>    0.612</td> <td>    2.809</td> <td> 0.005</td> <td>    0.520</td> <td>    2.919</td>\n",
       "</tr>\n",
       "</table>"
      ],
      "text/plain": [
       "<class 'statsmodels.iolib.summary.Summary'>\n",
       "\"\"\"\n",
       "                 Generalized Linear Model Regression Results                  \n",
       "==============================================================================\n",
       "Dep. Variable:              Converted   No. Observations:                 6351\n",
       "Model:                            GLM   Df Residuals:                     6336\n",
       "Model Family:                Binomial   Df Model:                           14\n",
       "Link Function:                  Logit   Scale:                          1.0000\n",
       "Method:                          IRLS   Log-Likelihood:                -2711.0\n",
       "Date:                Tue, 03 Jan 2023   Deviance:                       5422.0\n",
       "Time:                        22:08:11   Pearson chi2:                 6.31e+03\n",
       "No. Iterations:                    20   Pseudo R-squ. (CS):             0.3817\n",
       "Covariance Type:            nonrobust                                         \n",
       "========================================================================================================================\n",
       "                                                           coef    std err          z      P>|z|      [0.025      0.975]\n",
       "------------------------------------------------------------------------------------------------------------------------\n",
       "const                                                   -2.5656      0.093    -27.710      0.000      -2.747      -2.384\n",
       "Total Time Spent on Website                              3.9068      0.147     26.637      0.000       3.619       4.194\n",
       "Lead Origin_lead add form                                2.8927      0.219     13.236      0.000       2.464       3.321\n",
       "Lead Source_direct traffic                              -0.6760      0.081     -8.395      0.000      -0.834      -0.518\n",
       "Lead Source_organic search                              -0.4296      0.102     -4.215      0.000      -0.629      -0.230\n",
       "Lead Source_welingak website                             2.5673      1.032      2.488      0.013       0.545       4.589\n",
       "Do Not Email_yes                                        -1.3463      0.167     -8.082      0.000      -1.673      -1.020\n",
       "Last Activity_olark chat conversation                   -1.0600      0.165     -6.422      0.000      -1.384      -0.736\n",
       "Last Activity_sms sent                                   1.2733      0.073     17.505      0.000       1.131       1.416\n",
       "What is your current occupation_housewife               23.1609   1.16e+04      0.002      0.998   -2.27e+04    2.28e+04\n",
       "What is your current occupation_other                    2.3203      0.754      3.077      0.002       0.842       3.798\n",
       "What is your current occupation_student                  1.3005      0.226      5.753      0.000       0.857       1.744\n",
       "What is your current occupation_unemployed               1.1165      0.085     13.189      0.000       0.951       1.282\n",
       "What is your current occupation_working professional     3.5811      0.203     17.628      0.000       3.183       3.979\n",
       "Last Notable Activity_unreachable                        1.7195      0.612      2.809      0.005       0.520       2.919\n",
       "========================================================================================================================\n",
       "\"\"\""
      ]
     },
     "execution_count": 72,
     "metadata": {},
     "output_type": "execute_result"
    }
   ],
   "source": [
    "# Refitting the model with the new set of features\n",
    "X_train_sm = sm.add_constant(X_train)\n",
    "logm2 = sm.GLM(y_train, X_train_sm, family = sm.families.Binomial())\n",
    "res = logm2.fit()\n",
    "res.summary()"
   ]
  },
  {
   "cell_type": "code",
   "execution_count": 73,
   "id": "445b4df1",
   "metadata": {},
   "outputs": [
    {
     "data": {
      "text/html": [
       "<div>\n",
       "<style scoped>\n",
       "    .dataframe tbody tr th:only-of-type {\n",
       "        vertical-align: middle;\n",
       "    }\n",
       "\n",
       "    .dataframe tbody tr th {\n",
       "        vertical-align: top;\n",
       "    }\n",
       "\n",
       "    .dataframe thead th {\n",
       "        text-align: right;\n",
       "    }\n",
       "</style>\n",
       "<table border=\"1\" class=\"dataframe\">\n",
       "  <thead>\n",
       "    <tr style=\"text-align: right;\">\n",
       "      <th></th>\n",
       "      <th>Features</th>\n",
       "      <th>VIF</th>\n",
       "    </tr>\n",
       "  </thead>\n",
       "  <tbody>\n",
       "    <tr>\n",
       "      <th>11</th>\n",
       "      <td>What is your current occupation_unemployed</td>\n",
       "      <td>2.16</td>\n",
       "    </tr>\n",
       "    <tr>\n",
       "      <th>0</th>\n",
       "      <td>Total Time Spent on Website</td>\n",
       "      <td>1.90</td>\n",
       "    </tr>\n",
       "    <tr>\n",
       "      <th>1</th>\n",
       "      <td>Lead Origin_lead add form</td>\n",
       "      <td>1.57</td>\n",
       "    </tr>\n",
       "    <tr>\n",
       "      <th>2</th>\n",
       "      <td>Lead Source_direct traffic</td>\n",
       "      <td>1.51</td>\n",
       "    </tr>\n",
       "    <tr>\n",
       "      <th>7</th>\n",
       "      <td>Last Activity_sms sent</td>\n",
       "      <td>1.51</td>\n",
       "    </tr>\n",
       "    <tr>\n",
       "      <th>4</th>\n",
       "      <td>Lead Source_welingak website</td>\n",
       "      <td>1.31</td>\n",
       "    </tr>\n",
       "    <tr>\n",
       "      <th>12</th>\n",
       "      <td>What is your current occupation_working profes...</td>\n",
       "      <td>1.30</td>\n",
       "    </tr>\n",
       "    <tr>\n",
       "      <th>3</th>\n",
       "      <td>Lead Source_organic search</td>\n",
       "      <td>1.23</td>\n",
       "    </tr>\n",
       "    <tr>\n",
       "      <th>5</th>\n",
       "      <td>Do Not Email_yes</td>\n",
       "      <td>1.09</td>\n",
       "    </tr>\n",
       "    <tr>\n",
       "      <th>6</th>\n",
       "      <td>Last Activity_olark chat conversation</td>\n",
       "      <td>1.05</td>\n",
       "    </tr>\n",
       "    <tr>\n",
       "      <th>10</th>\n",
       "      <td>What is your current occupation_student</td>\n",
       "      <td>1.05</td>\n",
       "    </tr>\n",
       "    <tr>\n",
       "      <th>9</th>\n",
       "      <td>What is your current occupation_other</td>\n",
       "      <td>1.01</td>\n",
       "    </tr>\n",
       "    <tr>\n",
       "      <th>13</th>\n",
       "      <td>Last Notable Activity_unreachable</td>\n",
       "      <td>1.01</td>\n",
       "    </tr>\n",
       "    <tr>\n",
       "      <th>8</th>\n",
       "      <td>What is your current occupation_housewife</td>\n",
       "      <td>1.00</td>\n",
       "    </tr>\n",
       "  </tbody>\n",
       "</table>\n",
       "</div>"
      ],
      "text/plain": [
       "                                             Features   VIF\n",
       "11         What is your current occupation_unemployed  2.16\n",
       "0                         Total Time Spent on Website  1.90\n",
       "1                           Lead Origin_lead add form  1.57\n",
       "2                          Lead Source_direct traffic  1.51\n",
       "7                              Last Activity_sms sent  1.51\n",
       "4                        Lead Source_welingak website  1.31\n",
       "12  What is your current occupation_working profes...  1.30\n",
       "3                          Lead Source_organic search  1.23\n",
       "5                                    Do Not Email_yes  1.09\n",
       "6               Last Activity_olark chat conversation  1.05\n",
       "10            What is your current occupation_student  1.05\n",
       "9               What is your current occupation_other  1.01\n",
       "13                  Last Notable Activity_unreachable  1.01\n",
       "8           What is your current occupation_housewife  1.00"
      ]
     },
     "execution_count": 73,
     "metadata": {},
     "output_type": "execute_result"
    }
   ],
   "source": [
    "# Making a VIF dataframe for all the variables present\n",
    "vif = pd.DataFrame()\n",
    "vif['Features'] = X_train.columns\n",
    "vif['VIF'] = [variance_inflation_factor(X_train.values, i) for i in range(X_train.shape[1])]\n",
    "vif['VIF'] = round(vif['VIF'], 2)\n",
    "vif = vif.sort_values(by = \"VIF\", ascending = False)\n",
    "vif"
   ]
  },
  {
   "cell_type": "code",
   "execution_count": 74,
   "id": "89fa606d",
   "metadata": {},
   "outputs": [],
   "source": [
    "# The VIF values seem fine but the p-values aren't. So removing 'What is your current occupation housewife'\n",
    "\n",
    "# Dropping the column\n",
    "X_train.drop('What is your current occupation_housewife', axis = 1, inplace = True)"
   ]
  },
  {
   "cell_type": "markdown",
   "id": "eaadab9e",
   "metadata": {},
   "source": [
    "#### 8.2.c. Model - 3"
   ]
  },
  {
   "cell_type": "code",
   "execution_count": 75,
   "id": "e77de35c",
   "metadata": {},
   "outputs": [
    {
     "data": {
      "text/html": [
       "<table class=\"simpletable\">\n",
       "<caption>Generalized Linear Model Regression Results</caption>\n",
       "<tr>\n",
       "  <th>Dep. Variable:</th>       <td>Converted</td>    <th>  No. Observations:  </th>  <td>  6351</td> \n",
       "</tr>\n",
       "<tr>\n",
       "  <th>Model:</th>                  <td>GLM</td>       <th>  Df Residuals:      </th>  <td>  6337</td> \n",
       "</tr>\n",
       "<tr>\n",
       "  <th>Model Family:</th>        <td>Binomial</td>     <th>  Df Model:          </th>  <td>    13</td> \n",
       "</tr>\n",
       "<tr>\n",
       "  <th>Link Function:</th>         <td>Logit</td>      <th>  Scale:             </th> <td>  1.0000</td>\n",
       "</tr>\n",
       "<tr>\n",
       "  <th>Method:</th>                <td>IRLS</td>       <th>  Log-Likelihood:    </th> <td> -2718.9</td>\n",
       "</tr>\n",
       "<tr>\n",
       "  <th>Date:</th>            <td>Tue, 03 Jan 2023</td> <th>  Deviance:          </th> <td>  5437.8</td>\n",
       "</tr>\n",
       "<tr>\n",
       "  <th>Time:</th>                <td>22:08:12</td>     <th>  Pearson chi2:      </th> <td>6.33e+03</td>\n",
       "</tr>\n",
       "<tr>\n",
       "  <th>No. Iterations:</th>          <td>7</td>        <th>  Pseudo R-squ. (CS):</th>  <td>0.3802</td> \n",
       "</tr>\n",
       "<tr>\n",
       "  <th>Covariance Type:</th>     <td>nonrobust</td>    <th>                     </th>     <td> </td>   \n",
       "</tr>\n",
       "</table>\n",
       "<table class=\"simpletable\">\n",
       "<tr>\n",
       "                            <td></td>                              <th>coef</th>     <th>std err</th>      <th>z</th>      <th>P>|z|</th>  <th>[0.025</th>    <th>0.975]</th>  \n",
       "</tr>\n",
       "<tr>\n",
       "  <th>const</th>                                                <td>   -2.5445</td> <td>    0.092</td> <td>  -27.664</td> <td> 0.000</td> <td>   -2.725</td> <td>   -2.364</td>\n",
       "</tr>\n",
       "<tr>\n",
       "  <th>Total Time Spent on Website</th>                          <td>    3.9053</td> <td>    0.146</td> <td>   26.664</td> <td> 0.000</td> <td>    3.618</td> <td>    4.192</td>\n",
       "</tr>\n",
       "<tr>\n",
       "  <th>Lead Origin_lead add form</th>                            <td>    2.9125</td> <td>    0.219</td> <td>   13.326</td> <td> 0.000</td> <td>    2.484</td> <td>    3.341</td>\n",
       "</tr>\n",
       "<tr>\n",
       "  <th>Lead Source_direct traffic</th>                           <td>   -0.6727</td> <td>    0.080</td> <td>   -8.367</td> <td> 0.000</td> <td>   -0.830</td> <td>   -0.515</td>\n",
       "</tr>\n",
       "<tr>\n",
       "  <th>Lead Source_organic search</th>                           <td>   -0.4171</td> <td>    0.102</td> <td>   -4.104</td> <td> 0.000</td> <td>   -0.616</td> <td>   -0.218</td>\n",
       "</tr>\n",
       "<tr>\n",
       "  <th>Lead Source_welingak website</th>                         <td>    2.5512</td> <td>    1.032</td> <td>    2.473</td> <td> 0.013</td> <td>    0.529</td> <td>    4.573</td>\n",
       "</tr>\n",
       "<tr>\n",
       "  <th>Do Not Email_yes</th>                                     <td>   -1.3507</td> <td>    0.166</td> <td>   -8.113</td> <td> 0.000</td> <td>   -1.677</td> <td>   -1.024</td>\n",
       "</tr>\n",
       "<tr>\n",
       "  <th>Last Activity_olark chat conversation</th>                <td>   -1.0665</td> <td>    0.165</td> <td>   -6.466</td> <td> 0.000</td> <td>   -1.390</td> <td>   -0.743</td>\n",
       "</tr>\n",
       "<tr>\n",
       "  <th>Last Activity_sms sent</th>                               <td>    1.2655</td> <td>    0.073</td> <td>   17.424</td> <td> 0.000</td> <td>    1.123</td> <td>    1.408</td>\n",
       "</tr>\n",
       "<tr>\n",
       "  <th>What is your current occupation_other</th>                <td>    2.2958</td> <td>    0.754</td> <td>    3.045</td> <td> 0.002</td> <td>    0.818</td> <td>    3.773</td>\n",
       "</tr>\n",
       "<tr>\n",
       "  <th>What is your current occupation_student</th>              <td>    1.2781</td> <td>    0.226</td> <td>    5.658</td> <td> 0.000</td> <td>    0.835</td> <td>    1.721</td>\n",
       "</tr>\n",
       "<tr>\n",
       "  <th>What is your current occupation_unemployed</th>           <td>    1.0955</td> <td>    0.084</td> <td>   13.021</td> <td> 0.000</td> <td>    0.931</td> <td>    1.260</td>\n",
       "</tr>\n",
       "<tr>\n",
       "  <th>What is your current occupation_working professional</th> <td>    3.5593</td> <td>    0.203</td> <td>   17.541</td> <td> 0.000</td> <td>    3.162</td> <td>    3.957</td>\n",
       "</tr>\n",
       "<tr>\n",
       "  <th>Last Notable Activity_unreachable</th>                    <td>    1.7106</td> <td>    0.612</td> <td>    2.797</td> <td> 0.005</td> <td>    0.512</td> <td>    2.909</td>\n",
       "</tr>\n",
       "</table>"
      ],
      "text/plain": [
       "<class 'statsmodels.iolib.summary.Summary'>\n",
       "\"\"\"\n",
       "                 Generalized Linear Model Regression Results                  \n",
       "==============================================================================\n",
       "Dep. Variable:              Converted   No. Observations:                 6351\n",
       "Model:                            GLM   Df Residuals:                     6337\n",
       "Model Family:                Binomial   Df Model:                           13\n",
       "Link Function:                  Logit   Scale:                          1.0000\n",
       "Method:                          IRLS   Log-Likelihood:                -2718.9\n",
       "Date:                Tue, 03 Jan 2023   Deviance:                       5437.8\n",
       "Time:                        22:08:12   Pearson chi2:                 6.33e+03\n",
       "No. Iterations:                     7   Pseudo R-squ. (CS):             0.3802\n",
       "Covariance Type:            nonrobust                                         \n",
       "========================================================================================================================\n",
       "                                                           coef    std err          z      P>|z|      [0.025      0.975]\n",
       "------------------------------------------------------------------------------------------------------------------------\n",
       "const                                                   -2.5445      0.092    -27.664      0.000      -2.725      -2.364\n",
       "Total Time Spent on Website                              3.9053      0.146     26.664      0.000       3.618       4.192\n",
       "Lead Origin_lead add form                                2.9125      0.219     13.326      0.000       2.484       3.341\n",
       "Lead Source_direct traffic                              -0.6727      0.080     -8.367      0.000      -0.830      -0.515\n",
       "Lead Source_organic search                              -0.4171      0.102     -4.104      0.000      -0.616      -0.218\n",
       "Lead Source_welingak website                             2.5512      1.032      2.473      0.013       0.529       4.573\n",
       "Do Not Email_yes                                        -1.3507      0.166     -8.113      0.000      -1.677      -1.024\n",
       "Last Activity_olark chat conversation                   -1.0665      0.165     -6.466      0.000      -1.390      -0.743\n",
       "Last Activity_sms sent                                   1.2655      0.073     17.424      0.000       1.123       1.408\n",
       "What is your current occupation_other                    2.2958      0.754      3.045      0.002       0.818       3.773\n",
       "What is your current occupation_student                  1.2781      0.226      5.658      0.000       0.835       1.721\n",
       "What is your current occupation_unemployed               1.0955      0.084     13.021      0.000       0.931       1.260\n",
       "What is your current occupation_working professional     3.5593      0.203     17.541      0.000       3.162       3.957\n",
       "Last Notable Activity_unreachable                        1.7106      0.612      2.797      0.005       0.512       2.909\n",
       "========================================================================================================================\n",
       "\"\"\""
      ]
     },
     "execution_count": 75,
     "metadata": {},
     "output_type": "execute_result"
    }
   ],
   "source": [
    "# Refittng the model with the new set of features\n",
    "X_train_sm = sm.add_constant(X_train)\n",
    "logm3 = sm.GLM(y_train, X_train_sm, family = sm.families.Binomial())\n",
    "res = logm3.fit()\n",
    "res.summary()"
   ]
  },
  {
   "cell_type": "code",
   "execution_count": 76,
   "id": "67ba09e0",
   "metadata": {},
   "outputs": [
    {
     "data": {
      "text/html": [
       "<div>\n",
       "<style scoped>\n",
       "    .dataframe tbody tr th:only-of-type {\n",
       "        vertical-align: middle;\n",
       "    }\n",
       "\n",
       "    .dataframe tbody tr th {\n",
       "        vertical-align: top;\n",
       "    }\n",
       "\n",
       "    .dataframe thead th {\n",
       "        text-align: right;\n",
       "    }\n",
       "</style>\n",
       "<table border=\"1\" class=\"dataframe\">\n",
       "  <thead>\n",
       "    <tr style=\"text-align: right;\">\n",
       "      <th></th>\n",
       "      <th>Features</th>\n",
       "      <th>VIF</th>\n",
       "    </tr>\n",
       "  </thead>\n",
       "  <tbody>\n",
       "    <tr>\n",
       "      <th>10</th>\n",
       "      <td>What is your current occupation_unemployed</td>\n",
       "      <td>2.16</td>\n",
       "    </tr>\n",
       "    <tr>\n",
       "      <th>0</th>\n",
       "      <td>Total Time Spent on Website</td>\n",
       "      <td>1.90</td>\n",
       "    </tr>\n",
       "    <tr>\n",
       "      <th>1</th>\n",
       "      <td>Lead Origin_lead add form</td>\n",
       "      <td>1.57</td>\n",
       "    </tr>\n",
       "    <tr>\n",
       "      <th>2</th>\n",
       "      <td>Lead Source_direct traffic</td>\n",
       "      <td>1.51</td>\n",
       "    </tr>\n",
       "    <tr>\n",
       "      <th>7</th>\n",
       "      <td>Last Activity_sms sent</td>\n",
       "      <td>1.51</td>\n",
       "    </tr>\n",
       "    <tr>\n",
       "      <th>4</th>\n",
       "      <td>Lead Source_welingak website</td>\n",
       "      <td>1.31</td>\n",
       "    </tr>\n",
       "    <tr>\n",
       "      <th>11</th>\n",
       "      <td>What is your current occupation_working profes...</td>\n",
       "      <td>1.30</td>\n",
       "    </tr>\n",
       "    <tr>\n",
       "      <th>3</th>\n",
       "      <td>Lead Source_organic search</td>\n",
       "      <td>1.23</td>\n",
       "    </tr>\n",
       "    <tr>\n",
       "      <th>5</th>\n",
       "      <td>Do Not Email_yes</td>\n",
       "      <td>1.09</td>\n",
       "    </tr>\n",
       "    <tr>\n",
       "      <th>6</th>\n",
       "      <td>Last Activity_olark chat conversation</td>\n",
       "      <td>1.05</td>\n",
       "    </tr>\n",
       "    <tr>\n",
       "      <th>9</th>\n",
       "      <td>What is your current occupation_student</td>\n",
       "      <td>1.05</td>\n",
       "    </tr>\n",
       "    <tr>\n",
       "      <th>8</th>\n",
       "      <td>What is your current occupation_other</td>\n",
       "      <td>1.01</td>\n",
       "    </tr>\n",
       "    <tr>\n",
       "      <th>12</th>\n",
       "      <td>Last Notable Activity_unreachable</td>\n",
       "      <td>1.01</td>\n",
       "    </tr>\n",
       "  </tbody>\n",
       "</table>\n",
       "</div>"
      ],
      "text/plain": [
       "                                             Features   VIF\n",
       "10         What is your current occupation_unemployed  2.16\n",
       "0                         Total Time Spent on Website  1.90\n",
       "1                           Lead Origin_lead add form  1.57\n",
       "2                          Lead Source_direct traffic  1.51\n",
       "7                              Last Activity_sms sent  1.51\n",
       "4                        Lead Source_welingak website  1.31\n",
       "11  What is your current occupation_working profes...  1.30\n",
       "3                          Lead Source_organic search  1.23\n",
       "5                                    Do Not Email_yes  1.09\n",
       "6               Last Activity_olark chat conversation  1.05\n",
       "9             What is your current occupation_student  1.05\n",
       "8               What is your current occupation_other  1.01\n",
       "12                  Last Notable Activity_unreachable  1.01"
      ]
     },
     "execution_count": 76,
     "metadata": {},
     "output_type": "execute_result"
    }
   ],
   "source": [
    "# Making a VIF dataframe for all the variables present\n",
    "vif = pd.DataFrame()\n",
    "vif['Features'] = X_train.columns\n",
    "vif['VIF'] = [variance_inflation_factor(X_train.values, i) for i in range(X_train.shape[1])]\n",
    "vif['VIF'] = round(vif['VIF'], 2)\n",
    "vif = vif.sort_values(by = \"VIF\", ascending = False)\n",
    "vif"
   ]
  },
  {
   "cell_type": "code",
   "execution_count": 77,
   "id": "d953d023",
   "metadata": {},
   "outputs": [],
   "source": [
    "# The VIF values seem fine but the p-values aren't. So removing 'What is your current occupation other'\n",
    "\n",
    "# Dropping the column\n",
    "X_train.drop('What is your current occupation_other', axis = 1, inplace = True)"
   ]
  },
  {
   "cell_type": "markdown",
   "id": "2e310fb6",
   "metadata": {},
   "source": [
    "#### 8.2.d. Model - 4"
   ]
  },
  {
   "cell_type": "code",
   "execution_count": 78,
   "id": "e1ce4a9d",
   "metadata": {},
   "outputs": [
    {
     "data": {
      "text/html": [
       "<table class=\"simpletable\">\n",
       "<caption>Generalized Linear Model Regression Results</caption>\n",
       "<tr>\n",
       "  <th>Dep. Variable:</th>       <td>Converted</td>    <th>  No. Observations:  </th>  <td>  6351</td> \n",
       "</tr>\n",
       "<tr>\n",
       "  <th>Model:</th>                  <td>GLM</td>       <th>  Df Residuals:      </th>  <td>  6338</td> \n",
       "</tr>\n",
       "<tr>\n",
       "  <th>Model Family:</th>        <td>Binomial</td>     <th>  Df Model:          </th>  <td>    12</td> \n",
       "</tr>\n",
       "<tr>\n",
       "  <th>Link Function:</th>         <td>Logit</td>      <th>  Scale:             </th> <td>  1.0000</td>\n",
       "</tr>\n",
       "<tr>\n",
       "  <th>Method:</th>                <td>IRLS</td>       <th>  Log-Likelihood:    </th> <td> -2723.9</td>\n",
       "</tr>\n",
       "<tr>\n",
       "  <th>Date:</th>            <td>Tue, 03 Jan 2023</td> <th>  Deviance:          </th> <td>  5447.8</td>\n",
       "</tr>\n",
       "<tr>\n",
       "  <th>Time:</th>                <td>22:08:12</td>     <th>  Pearson chi2:      </th> <td>6.33e+03</td>\n",
       "</tr>\n",
       "<tr>\n",
       "  <th>No. Iterations:</th>          <td>7</td>        <th>  Pseudo R-squ. (CS):</th>  <td>0.3792</td> \n",
       "</tr>\n",
       "<tr>\n",
       "  <th>Covariance Type:</th>     <td>nonrobust</td>    <th>                     </th>     <td> </td>   \n",
       "</tr>\n",
       "</table>\n",
       "<table class=\"simpletable\">\n",
       "<tr>\n",
       "                            <td></td>                              <th>coef</th>     <th>std err</th>      <th>z</th>      <th>P>|z|</th>  <th>[0.025</th>    <th>0.975]</th>  \n",
       "</tr>\n",
       "<tr>\n",
       "  <th>const</th>                                                <td>   -2.5246</td> <td>    0.091</td> <td>  -27.637</td> <td> 0.000</td> <td>   -2.704</td> <td>   -2.346</td>\n",
       "</tr>\n",
       "<tr>\n",
       "  <th>Total Time Spent on Website</th>                          <td>    3.9169</td> <td>    0.146</td> <td>   26.763</td> <td> 0.000</td> <td>    3.630</td> <td>    4.204</td>\n",
       "</tr>\n",
       "<tr>\n",
       "  <th>Lead Origin_lead add form</th>                            <td>    2.9185</td> <td>    0.219</td> <td>   13.356</td> <td> 0.000</td> <td>    2.490</td> <td>    3.347</td>\n",
       "</tr>\n",
       "<tr>\n",
       "  <th>Lead Source_direct traffic</th>                           <td>   -0.6651</td> <td>    0.080</td> <td>   -8.286</td> <td> 0.000</td> <td>   -0.822</td> <td>   -0.508</td>\n",
       "</tr>\n",
       "<tr>\n",
       "  <th>Lead Source_organic search</th>                           <td>   -0.4115</td> <td>    0.102</td> <td>   -4.053</td> <td> 0.000</td> <td>   -0.611</td> <td>   -0.212</td>\n",
       "</tr>\n",
       "<tr>\n",
       "  <th>Lead Source_welingak website</th>                         <td>    2.5519</td> <td>    1.032</td> <td>    2.474</td> <td> 0.013</td> <td>    0.530</td> <td>    4.574</td>\n",
       "</tr>\n",
       "<tr>\n",
       "  <th>Do Not Email_yes</th>                                     <td>   -1.3558</td> <td>    0.166</td> <td>   -8.150</td> <td> 0.000</td> <td>   -1.682</td> <td>   -1.030</td>\n",
       "</tr>\n",
       "<tr>\n",
       "  <th>Last Activity_olark chat conversation</th>                <td>   -1.0627</td> <td>    0.165</td> <td>   -6.451</td> <td> 0.000</td> <td>   -1.386</td> <td>   -0.740</td>\n",
       "</tr>\n",
       "<tr>\n",
       "  <th>Last Activity_sms sent</th>                               <td>    1.2588</td> <td>    0.073</td> <td>   17.357</td> <td> 0.000</td> <td>    1.117</td> <td>    1.401</td>\n",
       "</tr>\n",
       "<tr>\n",
       "  <th>What is your current occupation_student</th>              <td>    1.2528</td> <td>    0.226</td> <td>    5.552</td> <td> 0.000</td> <td>    0.811</td> <td>    1.695</td>\n",
       "</tr>\n",
       "<tr>\n",
       "  <th>What is your current occupation_unemployed</th>           <td>    1.0719</td> <td>    0.084</td> <td>   12.836</td> <td> 0.000</td> <td>    0.908</td> <td>    1.236</td>\n",
       "</tr>\n",
       "<tr>\n",
       "  <th>What is your current occupation_working professional</th> <td>    3.5351</td> <td>    0.203</td> <td>   17.446</td> <td> 0.000</td> <td>    3.138</td> <td>    3.932</td>\n",
       "</tr>\n",
       "<tr>\n",
       "  <th>Last Notable Activity_unreachable</th>                    <td>    1.7032</td> <td>    0.611</td> <td>    2.787</td> <td> 0.005</td> <td>    0.505</td> <td>    2.901</td>\n",
       "</tr>\n",
       "</table>"
      ],
      "text/plain": [
       "<class 'statsmodels.iolib.summary.Summary'>\n",
       "\"\"\"\n",
       "                 Generalized Linear Model Regression Results                  \n",
       "==============================================================================\n",
       "Dep. Variable:              Converted   No. Observations:                 6351\n",
       "Model:                            GLM   Df Residuals:                     6338\n",
       "Model Family:                Binomial   Df Model:                           12\n",
       "Link Function:                  Logit   Scale:                          1.0000\n",
       "Method:                          IRLS   Log-Likelihood:                -2723.9\n",
       "Date:                Tue, 03 Jan 2023   Deviance:                       5447.8\n",
       "Time:                        22:08:12   Pearson chi2:                 6.33e+03\n",
       "No. Iterations:                     7   Pseudo R-squ. (CS):             0.3792\n",
       "Covariance Type:            nonrobust                                         \n",
       "========================================================================================================================\n",
       "                                                           coef    std err          z      P>|z|      [0.025      0.975]\n",
       "------------------------------------------------------------------------------------------------------------------------\n",
       "const                                                   -2.5246      0.091    -27.637      0.000      -2.704      -2.346\n",
       "Total Time Spent on Website                              3.9169      0.146     26.763      0.000       3.630       4.204\n",
       "Lead Origin_lead add form                                2.9185      0.219     13.356      0.000       2.490       3.347\n",
       "Lead Source_direct traffic                              -0.6651      0.080     -8.286      0.000      -0.822      -0.508\n",
       "Lead Source_organic search                              -0.4115      0.102     -4.053      0.000      -0.611      -0.212\n",
       "Lead Source_welingak website                             2.5519      1.032      2.474      0.013       0.530       4.574\n",
       "Do Not Email_yes                                        -1.3558      0.166     -8.150      0.000      -1.682      -1.030\n",
       "Last Activity_olark chat conversation                   -1.0627      0.165     -6.451      0.000      -1.386      -0.740\n",
       "Last Activity_sms sent                                   1.2588      0.073     17.357      0.000       1.117       1.401\n",
       "What is your current occupation_student                  1.2528      0.226      5.552      0.000       0.811       1.695\n",
       "What is your current occupation_unemployed               1.0719      0.084     12.836      0.000       0.908       1.236\n",
       "What is your current occupation_working professional     3.5351      0.203     17.446      0.000       3.138       3.932\n",
       "Last Notable Activity_unreachable                        1.7032      0.611      2.787      0.005       0.505       2.901\n",
       "========================================================================================================================\n",
       "\"\"\""
      ]
     },
     "execution_count": 78,
     "metadata": {},
     "output_type": "execute_result"
    }
   ],
   "source": [
    "# Refitting the model with the new set of features\n",
    "X_train_sm = sm.add_constant(X_train)\n",
    "logm4 = sm.GLM(y_train, X_train_sm, family = sm.families.Binomial())\n",
    "res = logm4.fit()\n",
    "res.summary()"
   ]
  },
  {
   "cell_type": "code",
   "execution_count": 79,
   "id": "977d3ba4",
   "metadata": {
    "scrolled": false
   },
   "outputs": [
    {
     "data": {
      "text/html": [
       "<div>\n",
       "<style scoped>\n",
       "    .dataframe tbody tr th:only-of-type {\n",
       "        vertical-align: middle;\n",
       "    }\n",
       "\n",
       "    .dataframe tbody tr th {\n",
       "        vertical-align: top;\n",
       "    }\n",
       "\n",
       "    .dataframe thead th {\n",
       "        text-align: right;\n",
       "    }\n",
       "</style>\n",
       "<table border=\"1\" class=\"dataframe\">\n",
       "  <thead>\n",
       "    <tr style=\"text-align: right;\">\n",
       "      <th></th>\n",
       "      <th>Features</th>\n",
       "      <th>VIF</th>\n",
       "    </tr>\n",
       "  </thead>\n",
       "  <tbody>\n",
       "    <tr>\n",
       "      <th>9</th>\n",
       "      <td>What is your current occupation_unemployed</td>\n",
       "      <td>2.16</td>\n",
       "    </tr>\n",
       "    <tr>\n",
       "      <th>0</th>\n",
       "      <td>Total Time Spent on Website</td>\n",
       "      <td>1.89</td>\n",
       "    </tr>\n",
       "    <tr>\n",
       "      <th>1</th>\n",
       "      <td>Lead Origin_lead add form</td>\n",
       "      <td>1.57</td>\n",
       "    </tr>\n",
       "    <tr>\n",
       "      <th>2</th>\n",
       "      <td>Lead Source_direct traffic</td>\n",
       "      <td>1.51</td>\n",
       "    </tr>\n",
       "    <tr>\n",
       "      <th>7</th>\n",
       "      <td>Last Activity_sms sent</td>\n",
       "      <td>1.51</td>\n",
       "    </tr>\n",
       "    <tr>\n",
       "      <th>4</th>\n",
       "      <td>Lead Source_welingak website</td>\n",
       "      <td>1.31</td>\n",
       "    </tr>\n",
       "    <tr>\n",
       "      <th>10</th>\n",
       "      <td>What is your current occupation_working profes...</td>\n",
       "      <td>1.30</td>\n",
       "    </tr>\n",
       "    <tr>\n",
       "      <th>3</th>\n",
       "      <td>Lead Source_organic search</td>\n",
       "      <td>1.23</td>\n",
       "    </tr>\n",
       "    <tr>\n",
       "      <th>5</th>\n",
       "      <td>Do Not Email_yes</td>\n",
       "      <td>1.09</td>\n",
       "    </tr>\n",
       "    <tr>\n",
       "      <th>6</th>\n",
       "      <td>Last Activity_olark chat conversation</td>\n",
       "      <td>1.05</td>\n",
       "    </tr>\n",
       "    <tr>\n",
       "      <th>8</th>\n",
       "      <td>What is your current occupation_student</td>\n",
       "      <td>1.05</td>\n",
       "    </tr>\n",
       "    <tr>\n",
       "      <th>11</th>\n",
       "      <td>Last Notable Activity_unreachable</td>\n",
       "      <td>1.01</td>\n",
       "    </tr>\n",
       "  </tbody>\n",
       "</table>\n",
       "</div>"
      ],
      "text/plain": [
       "                                             Features   VIF\n",
       "9          What is your current occupation_unemployed  2.16\n",
       "0                         Total Time Spent on Website  1.89\n",
       "1                           Lead Origin_lead add form  1.57\n",
       "2                          Lead Source_direct traffic  1.51\n",
       "7                              Last Activity_sms sent  1.51\n",
       "4                        Lead Source_welingak website  1.31\n",
       "10  What is your current occupation_working profes...  1.30\n",
       "3                          Lead Source_organic search  1.23\n",
       "5                                    Do Not Email_yes  1.09\n",
       "6               Last Activity_olark chat conversation  1.05\n",
       "8             What is your current occupation_student  1.05\n",
       "11                  Last Notable Activity_unreachable  1.01"
      ]
     },
     "execution_count": 79,
     "metadata": {},
     "output_type": "execute_result"
    }
   ],
   "source": [
    "# Making a VIF dataframe for all the variables present\n",
    "vif = pd.DataFrame()\n",
    "vif['Features'] = X_train.columns\n",
    "vif['VIF'] = [variance_inflation_factor(X_train.values, i) for i in range(X_train.shape[1])]\n",
    "vif['VIF'] = round(vif['VIF'], 2)\n",
    "vif = vif.sort_values(by = \"VIF\", ascending = False)\n",
    "vif"
   ]
  },
  {
   "cell_type": "markdown",
   "id": "143ab318",
   "metadata": {},
   "source": [
    "##### All the VIF values are good and all the p-values are below 0.05. So we can fix model"
   ]
  },
  {
   "cell_type": "markdown",
   "id": "12b929bd",
   "metadata": {},
   "source": [
    "## 9. Creating Prediction"
   ]
  },
  {
   "cell_type": "code",
   "execution_count": 80,
   "id": "d1ab247d",
   "metadata": {},
   "outputs": [
    {
     "data": {
      "text/plain": [
       "1289    0.720527\n",
       "3604    0.074148\n",
       "5584    0.206296\n",
       "7679    0.074148\n",
       "7563    0.466522\n",
       "7978    0.749544\n",
       "7780    0.152388\n",
       "7863    0.982324\n",
       "838     0.799250\n",
       "708     0.252463\n",
       "dtype: float64"
      ]
     },
     "execution_count": 80,
     "metadata": {},
     "output_type": "execute_result"
    }
   ],
   "source": [
    "# Predicting the probabilities on the train set\n",
    "y_train_pred = res.predict(X_train_sm)\n",
    "y_train_pred[:10]"
   ]
  },
  {
   "cell_type": "code",
   "execution_count": 81,
   "id": "32fdcf13",
   "metadata": {
    "scrolled": true
   },
   "outputs": [
    {
     "data": {
      "text/plain": [
       "array([0.72052745, 0.07414836, 0.20629606, 0.07414836, 0.46652152,\n",
       "       0.74954394, 0.15238791, 0.98232437, 0.79925003, 0.25246315])"
      ]
     },
     "execution_count": 81,
     "metadata": {},
     "output_type": "execute_result"
    }
   ],
   "source": [
    "# Reshaping to an array\n",
    "y_train_pred = y_train_pred.values.reshape(-1)\n",
    "y_train_pred[:10]"
   ]
  },
  {
   "cell_type": "code",
   "execution_count": 82,
   "id": "50df7f3f",
   "metadata": {},
   "outputs": [
    {
     "data": {
      "text/html": [
       "<div>\n",
       "<style scoped>\n",
       "    .dataframe tbody tr th:only-of-type {\n",
       "        vertical-align: middle;\n",
       "    }\n",
       "\n",
       "    .dataframe tbody tr th {\n",
       "        vertical-align: top;\n",
       "    }\n",
       "\n",
       "    .dataframe thead th {\n",
       "        text-align: right;\n",
       "    }\n",
       "</style>\n",
       "<table border=\"1\" class=\"dataframe\">\n",
       "  <thead>\n",
       "    <tr style=\"text-align: right;\">\n",
       "      <th></th>\n",
       "      <th>Converted</th>\n",
       "      <th>Conversion_Prob</th>\n",
       "    </tr>\n",
       "  </thead>\n",
       "  <tbody>\n",
       "    <tr>\n",
       "      <th>0</th>\n",
       "      <td>1</td>\n",
       "      <td>0.720527</td>\n",
       "    </tr>\n",
       "    <tr>\n",
       "      <th>1</th>\n",
       "      <td>0</td>\n",
       "      <td>0.074148</td>\n",
       "    </tr>\n",
       "    <tr>\n",
       "      <th>2</th>\n",
       "      <td>0</td>\n",
       "      <td>0.206296</td>\n",
       "    </tr>\n",
       "    <tr>\n",
       "      <th>3</th>\n",
       "      <td>0</td>\n",
       "      <td>0.074148</td>\n",
       "    </tr>\n",
       "    <tr>\n",
       "      <th>4</th>\n",
       "      <td>0</td>\n",
       "      <td>0.466522</td>\n",
       "    </tr>\n",
       "  </tbody>\n",
       "</table>\n",
       "</div>"
      ],
      "text/plain": [
       "   Converted  Conversion_Prob\n",
       "0          1         0.720527\n",
       "1          0         0.074148\n",
       "2          0         0.206296\n",
       "3          0         0.074148\n",
       "4          0         0.466522"
      ]
     },
     "execution_count": 82,
     "metadata": {},
     "output_type": "execute_result"
    }
   ],
   "source": [
    "# Checking the Data frame with given convertion rate and probablity of predicted ones\n",
    "y_train_pred_final = pd.DataFrame({'Converted':y_train.values, 'Conversion_Prob':y_train_pred})\n",
    "y_train_pred_final.head()"
   ]
  },
  {
   "cell_type": "code",
   "execution_count": 83,
   "id": "69f5fa07",
   "metadata": {},
   "outputs": [
    {
     "data": {
      "text/html": [
       "<div>\n",
       "<style scoped>\n",
       "    .dataframe tbody tr th:only-of-type {\n",
       "        vertical-align: middle;\n",
       "    }\n",
       "\n",
       "    .dataframe tbody tr th {\n",
       "        vertical-align: top;\n",
       "    }\n",
       "\n",
       "    .dataframe thead th {\n",
       "        text-align: right;\n",
       "    }\n",
       "</style>\n",
       "<table border=\"1\" class=\"dataframe\">\n",
       "  <thead>\n",
       "    <tr style=\"text-align: right;\">\n",
       "      <th></th>\n",
       "      <th>Converted</th>\n",
       "      <th>Conversion_Prob</th>\n",
       "      <th>Predicted</th>\n",
       "    </tr>\n",
       "  </thead>\n",
       "  <tbody>\n",
       "    <tr>\n",
       "      <th>0</th>\n",
       "      <td>1</td>\n",
       "      <td>0.720527</td>\n",
       "      <td>1</td>\n",
       "    </tr>\n",
       "    <tr>\n",
       "      <th>1</th>\n",
       "      <td>0</td>\n",
       "      <td>0.074148</td>\n",
       "      <td>0</td>\n",
       "    </tr>\n",
       "    <tr>\n",
       "      <th>2</th>\n",
       "      <td>0</td>\n",
       "      <td>0.206296</td>\n",
       "      <td>0</td>\n",
       "    </tr>\n",
       "    <tr>\n",
       "      <th>3</th>\n",
       "      <td>0</td>\n",
       "      <td>0.074148</td>\n",
       "      <td>0</td>\n",
       "    </tr>\n",
       "    <tr>\n",
       "      <th>4</th>\n",
       "      <td>0</td>\n",
       "      <td>0.466522</td>\n",
       "      <td>0</td>\n",
       "    </tr>\n",
       "  </tbody>\n",
       "</table>\n",
       "</div>"
      ],
      "text/plain": [
       "   Converted  Conversion_Prob  Predicted\n",
       "0          1         0.720527          1\n",
       "1          0         0.074148          0\n",
       "2          0         0.206296          0\n",
       "3          0         0.074148          0\n",
       "4          0         0.466522          0"
      ]
     },
     "execution_count": 83,
     "metadata": {},
     "output_type": "execute_result"
    }
   ],
   "source": [
    "# Substituting 0 or 1 with the cut off as 0.5\n",
    "y_train_pred_final['Predicted'] = y_train_pred_final.Conversion_Prob.map(lambda x: 1 if x > 0.5 else 0)\n",
    "y_train_pred_final.head()"
   ]
  },
  {
   "cell_type": "markdown",
   "id": "9597c234",
   "metadata": {},
   "source": [
    "## 10. Model Evaluation"
   ]
  },
  {
   "cell_type": "code",
   "execution_count": 84,
   "id": "bec5cb1f",
   "metadata": {},
   "outputs": [
    {
     "data": {
      "text/plain": [
       "array([[3429,  466],\n",
       "       [ 818, 1638]], dtype=int64)"
      ]
     },
     "execution_count": 84,
     "metadata": {},
     "output_type": "execute_result"
    }
   ],
   "source": [
    "# Creating confusion matrix\n",
    "confusion = metrics.confusion_matrix(y_train_pred_final.Converted, y_train_pred_final.Predicted )\n",
    "confusion"
   ]
  },
  {
   "cell_type": "code",
   "execution_count": 85,
   "id": "2a54a2fc",
   "metadata": {},
   "outputs": [
    {
     "data": {
      "text/plain": [
       "0.7978271138403401"
      ]
     },
     "execution_count": 85,
     "metadata": {},
     "output_type": "execute_result"
    }
   ],
   "source": [
    "# Checking the overall accuracy\n",
    "metrics.accuracy_score(y_train_pred_final.Converted, y_train_pred_final.Predicted)"
   ]
  },
  {
   "cell_type": "markdown",
   "id": "f3a37219",
   "metadata": {},
   "source": [
    "##### Conclusion:\n",
    "That overall accuracy is at 81% which is good and above the target. "
   ]
  },
  {
   "cell_type": "code",
   "execution_count": 86,
   "id": "3a300e2c",
   "metadata": {},
   "outputs": [],
   "source": [
    "# Substituting the value of true positive\n",
    "TP = confusion[1,1]\n",
    "# Substituting the value of true negatives\n",
    "TN = confusion[0,0]\n",
    "# Substituting the value of false positives\n",
    "FP = confusion[0,1] \n",
    "# Substituting the value of false negatives\n",
    "FN = confusion[1,0]"
   ]
  },
  {
   "cell_type": "code",
   "execution_count": 87,
   "id": "ef7109c9",
   "metadata": {},
   "outputs": [
    {
     "data": {
      "text/plain": [
       "0.6669381107491856"
      ]
     },
     "execution_count": 87,
     "metadata": {},
     "output_type": "execute_result"
    }
   ],
   "source": [
    "# Calculating the sensitivity\n",
    "TP/(TP+FN)"
   ]
  },
  {
   "cell_type": "code",
   "execution_count": 88,
   "id": "fe8eea48",
   "metadata": {},
   "outputs": [
    {
     "data": {
      "text/plain": [
       "0.8803594351732991"
      ]
     },
     "execution_count": 88,
     "metadata": {},
     "output_type": "execute_result"
    }
   ],
   "source": [
    "# Calculating the specificity\n",
    "TN/(TN+FP)"
   ]
  },
  {
   "cell_type": "markdown",
   "id": "05dd6f21",
   "metadata": {},
   "source": [
    "##### Conclusion:\n",
    "With the Cut off of 0.5, the accuracy is around 81%, sensitivity is around 70% and specificity is around 88%."
   ]
  },
  {
   "cell_type": "markdown",
   "id": "0da5330c",
   "metadata": {},
   "source": [
    "## 11. Optimise Cut Off (ROC Curve)"
   ]
  },
  {
   "cell_type": "code",
   "execution_count": 89,
   "id": "53be972f",
   "metadata": {},
   "outputs": [],
   "source": [
    "# Due to random selection of cut off, now need to find the optimum one\n",
    "\n",
    "# ROC function\n",
    "def draw_roc( actual, probs ):\n",
    "    fpr, tpr, thresholds = metrics.roc_curve( actual, probs,\n",
    "                                              drop_intermediate = False )\n",
    "    auc_score = metrics.roc_auc_score( actual, probs )\n",
    "    plt.figure(figsize=(5, 5))\n",
    "    plt.plot( fpr, tpr, label='ROC curve (area = %0.2f)' % auc_score )\n",
    "    plt.plot([0, 1], [0, 1], 'k--')\n",
    "    plt.xlim([0.0, 1.0])\n",
    "    plt.ylim([0.0, 1.05])\n",
    "    plt.xlabel('False Positive Rate or [1 - True Negative Rate]')\n",
    "    plt.ylabel('True Positive Rate')\n",
    "    plt.title('Receiver operating characteristic example')\n",
    "    plt.legend(loc=\"lower right\")\n",
    "    plt.show()\n",
    "\n",
    "    return None"
   ]
  },
  {
   "cell_type": "code",
   "execution_count": 90,
   "id": "3ffdc196",
   "metadata": {},
   "outputs": [],
   "source": [
    "fpr, tpr, thresholds = metrics.roc_curve( y_train_pred_final.Converted, y_train_pred_final.Conversion_Prob, drop_intermediate = False )"
   ]
  },
  {
   "cell_type": "code",
   "execution_count": 91,
   "id": "c07b40a2",
   "metadata": {
    "scrolled": true
   },
   "outputs": [
    {
     "data": {
      "image/png": "[encoded data removed]",
      "text/plain": [
       "<Figure size 360x360 with 1 Axes>"
      ]
     },
     "metadata": {
      "needs_background": "light"
     },
     "output_type": "display_data"
    }
   ],
   "source": [
    "# Call the ROC function\n",
    "draw_roc(y_train_pred_final.Converted, y_train_pred_final.Conversion_Prob)"
   ]
  },
  {
   "cell_type": "markdown",
   "id": "98ba29a3",
   "metadata": {},
   "source": [
    "##### Conclusion:\n",
    "The area under ROC curve is 0.88 indicating a very good value."
   ]
  },
  {
   "cell_type": "code",
   "execution_count": 92,
   "id": "2080d229",
   "metadata": {},
   "outputs": [
    {
     "data": {
      "text/html": [
       "<div>\n",
       "<style scoped>\n",
       "    .dataframe tbody tr th:only-of-type {\n",
       "        vertical-align: middle;\n",
       "    }\n",
       "\n",
       "    .dataframe tbody tr th {\n",
       "        vertical-align: top;\n",
       "    }\n",
       "\n",
       "    .dataframe thead th {\n",
       "        text-align: right;\n",
       "    }\n",
       "</style>\n",
       "<table border=\"1\" class=\"dataframe\">\n",
       "  <thead>\n",
       "    <tr style=\"text-align: right;\">\n",
       "      <th></th>\n",
       "      <th>Converted</th>\n",
       "      <th>Conversion_Prob</th>\n",
       "      <th>Predicted</th>\n",
       "      <th>0.0</th>\n",
       "      <th>0.1</th>\n",
       "      <th>0.2</th>\n",
       "      <th>0.3</th>\n",
       "      <th>0.4</th>\n",
       "      <th>0.5</th>\n",
       "      <th>0.6</th>\n",
       "      <th>0.7</th>\n",
       "      <th>0.8</th>\n",
       "      <th>0.9</th>\n",
       "    </tr>\n",
       "  </thead>\n",
       "  <tbody>\n",
       "    <tr>\n",
       "      <th>0</th>\n",
       "      <td>1</td>\n",
       "      <td>0.720527</td>\n",
       "      <td>1</td>\n",
       "      <td>1</td>\n",
       "      <td>1</td>\n",
       "      <td>1</td>\n",
       "      <td>1</td>\n",
       "      <td>1</td>\n",
       "      <td>1</td>\n",
       "      <td>1</td>\n",
       "      <td>1</td>\n",
       "      <td>0</td>\n",
       "      <td>0</td>\n",
       "    </tr>\n",
       "    <tr>\n",
       "      <th>1</th>\n",
       "      <td>0</td>\n",
       "      <td>0.074148</td>\n",
       "      <td>0</td>\n",
       "      <td>1</td>\n",
       "      <td>0</td>\n",
       "      <td>0</td>\n",
       "      <td>0</td>\n",
       "      <td>0</td>\n",
       "      <td>0</td>\n",
       "      <td>0</td>\n",
       "      <td>0</td>\n",
       "      <td>0</td>\n",
       "      <td>0</td>\n",
       "    </tr>\n",
       "    <tr>\n",
       "      <th>2</th>\n",
       "      <td>0</td>\n",
       "      <td>0.206296</td>\n",
       "      <td>0</td>\n",
       "      <td>1</td>\n",
       "      <td>1</td>\n",
       "      <td>1</td>\n",
       "      <td>0</td>\n",
       "      <td>0</td>\n",
       "      <td>0</td>\n",
       "      <td>0</td>\n",
       "      <td>0</td>\n",
       "      <td>0</td>\n",
       "      <td>0</td>\n",
       "    </tr>\n",
       "    <tr>\n",
       "      <th>3</th>\n",
       "      <td>0</td>\n",
       "      <td>0.074148</td>\n",
       "      <td>0</td>\n",
       "      <td>1</td>\n",
       "      <td>0</td>\n",
       "      <td>0</td>\n",
       "      <td>0</td>\n",
       "      <td>0</td>\n",
       "      <td>0</td>\n",
       "      <td>0</td>\n",
       "      <td>0</td>\n",
       "      <td>0</td>\n",
       "      <td>0</td>\n",
       "    </tr>\n",
       "    <tr>\n",
       "      <th>4</th>\n",
       "      <td>0</td>\n",
       "      <td>0.466522</td>\n",
       "      <td>0</td>\n",
       "      <td>1</td>\n",
       "      <td>1</td>\n",
       "      <td>1</td>\n",
       "      <td>1</td>\n",
       "      <td>1</td>\n",
       "      <td>0</td>\n",
       "      <td>0</td>\n",
       "      <td>0</td>\n",
       "      <td>0</td>\n",
       "      <td>0</td>\n",
       "    </tr>\n",
       "  </tbody>\n",
       "</table>\n",
       "</div>"
      ],
      "text/plain": [
       "   Converted  Conversion_Prob  Predicted  0.0  0.1  0.2  0.3  0.4  0.5  0.6  \\\n",
       "0          1         0.720527          1    1    1    1    1    1    1    1   \n",
       "1          0         0.074148          0    1    0    0    0    0    0    0   \n",
       "2          0         0.206296          0    1    1    1    0    0    0    0   \n",
       "3          0         0.074148          0    1    0    0    0    0    0    0   \n",
       "4          0         0.466522          0    1    1    1    1    1    0    0   \n",
       "\n",
       "   0.7  0.8  0.9  \n",
       "0    1    0    0  \n",
       "1    0    0    0  \n",
       "2    0    0    0  \n",
       "3    0    0    0  \n",
       "4    0    0    0  "
      ]
     },
     "execution_count": 92,
     "metadata": {},
     "output_type": "execute_result"
    }
   ],
   "source": [
    "# Creating columns with different probability cutoffs \n",
    "numbers = [float(x)/10 for x in range(10)]\n",
    "for i in numbers:\n",
    "    y_train_pred_final[i]= y_train_pred_final.Conversion_Prob.map(lambda x: 1 if x > i else 0)\n",
    "y_train_pred_final.head()"
   ]
  },
  {
   "cell_type": "code",
   "execution_count": 93,
   "id": "5227eda4",
   "metadata": {},
   "outputs": [
    {
     "data": {
      "text/html": [
       "<div>\n",
       "<style scoped>\n",
       "    .dataframe tbody tr th:only-of-type {\n",
       "        vertical-align: middle;\n",
       "    }\n",
       "\n",
       "    .dataframe tbody tr th {\n",
       "        vertical-align: top;\n",
       "    }\n",
       "\n",
       "    .dataframe thead th {\n",
       "        text-align: right;\n",
       "    }\n",
       "</style>\n",
       "<table border=\"1\" class=\"dataframe\">\n",
       "  <thead>\n",
       "    <tr style=\"text-align: right;\">\n",
       "      <th></th>\n",
       "      <th>prob</th>\n",
       "      <th>accuracy</th>\n",
       "      <th>sensi</th>\n",
       "      <th>speci</th>\n",
       "    </tr>\n",
       "  </thead>\n",
       "  <tbody>\n",
       "    <tr>\n",
       "      <th>0.0</th>\n",
       "      <td>0.0</td>\n",
       "      <td>0.386711</td>\n",
       "      <td>1.000000</td>\n",
       "      <td>0.000000</td>\n",
       "    </tr>\n",
       "    <tr>\n",
       "      <th>0.1</th>\n",
       "      <td>0.1</td>\n",
       "      <td>0.601952</td>\n",
       "      <td>0.978827</td>\n",
       "      <td>0.364313</td>\n",
       "    </tr>\n",
       "    <tr>\n",
       "      <th>0.2</th>\n",
       "      <td>0.2</td>\n",
       "      <td>0.720359</td>\n",
       "      <td>0.897801</td>\n",
       "      <td>0.608472</td>\n",
       "    </tr>\n",
       "    <tr>\n",
       "      <th>0.3</th>\n",
       "      <td>0.3</td>\n",
       "      <td>0.781609</td>\n",
       "      <td>0.831026</td>\n",
       "      <td>0.750449</td>\n",
       "    </tr>\n",
       "    <tr>\n",
       "      <th>0.4</th>\n",
       "      <td>0.4</td>\n",
       "      <td>0.803496</td>\n",
       "      <td>0.775651</td>\n",
       "      <td>0.821053</td>\n",
       "    </tr>\n",
       "    <tr>\n",
       "      <th>0.5</th>\n",
       "      <td>0.5</td>\n",
       "      <td>0.797827</td>\n",
       "      <td>0.666938</td>\n",
       "      <td>0.880359</td>\n",
       "    </tr>\n",
       "    <tr>\n",
       "      <th>0.6</th>\n",
       "      <td>0.6</td>\n",
       "      <td>0.789797</td>\n",
       "      <td>0.583876</td>\n",
       "      <td>0.919641</td>\n",
       "    </tr>\n",
       "    <tr>\n",
       "      <th>0.7</th>\n",
       "      <td>0.7</td>\n",
       "      <td>0.772477</td>\n",
       "      <td>0.495928</td>\n",
       "      <td>0.946855</td>\n",
       "    </tr>\n",
       "    <tr>\n",
       "      <th>0.8</th>\n",
       "      <td>0.8</td>\n",
       "      <td>0.749803</td>\n",
       "      <td>0.401059</td>\n",
       "      <td>0.969705</td>\n",
       "    </tr>\n",
       "    <tr>\n",
       "      <th>0.9</th>\n",
       "      <td>0.9</td>\n",
       "      <td>0.705558</td>\n",
       "      <td>0.253664</td>\n",
       "      <td>0.990501</td>\n",
       "    </tr>\n",
       "  </tbody>\n",
       "</table>\n",
       "</div>"
      ],
      "text/plain": [
       "     prob  accuracy     sensi     speci\n",
       "0.0   0.0  0.386711  1.000000  0.000000\n",
       "0.1   0.1  0.601952  0.978827  0.364313\n",
       "0.2   0.2  0.720359  0.897801  0.608472\n",
       "0.3   0.3  0.781609  0.831026  0.750449\n",
       "0.4   0.4  0.803496  0.775651  0.821053\n",
       "0.5   0.5  0.797827  0.666938  0.880359\n",
       "0.6   0.6  0.789797  0.583876  0.919641\n",
       "0.7   0.7  0.772477  0.495928  0.946855\n",
       "0.8   0.8  0.749803  0.401059  0.969705\n",
       "0.9   0.9  0.705558  0.253664  0.990501"
      ]
     },
     "execution_count": 93,
     "metadata": {},
     "output_type": "execute_result"
    }
   ],
   "source": [
    "# Creating a dataframe to see the values of accuracy, sensitivity, and specificity at different values of probabiity cutoffs\n",
    "cutoff_leads = pd.DataFrame( columns = ['prob','accuracy','sensi','speci'])\n",
    "# Making confusing matrix to find values of sensitivity, accurace and specificity for each level of probablity\n",
    "from sklearn.metrics import confusion_matrix\n",
    "num = [0.0,0.1,0.2,0.3,0.4,0.5,0.6,0.7,0.8,0.9]\n",
    "for i in num:\n",
    "    cm1 = metrics.confusion_matrix(y_train_pred_final.Converted, y_train_pred_final[i] )\n",
    "    total1=sum(sum(cm1))\n",
    "    accuracy = (cm1[0,0]+cm1[1,1])/total1\n",
    "    \n",
    "    speci = cm1[0,0]/(cm1[0,0]+cm1[0,1])\n",
    "    sensi = cm1[1,1]/(cm1[1,0]+cm1[1,1])\n",
    "    cutoff_leads.loc[i] =[ i ,accuracy,sensi,speci]\n",
    "cutoff_leads"
   ]
  },
  {
   "cell_type": "code",
   "execution_count": 94,
   "id": "3f9a27d7",
   "metadata": {},
   "outputs": [
    {
     "data": {
      "image/png": "[encoded data removed]",
      "text/plain": [
       "<Figure size 432x288 with 1 Axes>"
      ]
     },
     "metadata": {
      "needs_background": "light"
     },
     "output_type": "display_data"
    }
   ],
   "source": [
    "# Plotting the graph\n",
    "cutoff_leads.plot.line(x='prob', y=['accuracy','sensi','speci'])\n",
    "plt.show()"
   ]
  },
  {
   "cell_type": "code",
   "execution_count": 95,
   "id": "4bb120b7",
   "metadata": {},
   "outputs": [
    {
     "data": {
      "text/html": [
       "<div>\n",
       "<style scoped>\n",
       "    .dataframe tbody tr th:only-of-type {\n",
       "        vertical-align: middle;\n",
       "    }\n",
       "\n",
       "    .dataframe tbody tr th {\n",
       "        vertical-align: top;\n",
       "    }\n",
       "\n",
       "    .dataframe thead th {\n",
       "        text-align: right;\n",
       "    }\n",
       "</style>\n",
       "<table border=\"1\" class=\"dataframe\">\n",
       "  <thead>\n",
       "    <tr style=\"text-align: right;\">\n",
       "      <th></th>\n",
       "      <th>Converted</th>\n",
       "      <th>Conversion_Prob</th>\n",
       "      <th>Predicted</th>\n",
       "      <th>0.0</th>\n",
       "      <th>0.1</th>\n",
       "      <th>0.2</th>\n",
       "      <th>0.3</th>\n",
       "      <th>0.4</th>\n",
       "      <th>0.5</th>\n",
       "      <th>0.6</th>\n",
       "      <th>0.7</th>\n",
       "      <th>0.8</th>\n",
       "      <th>0.9</th>\n",
       "      <th>final_predicted</th>\n",
       "    </tr>\n",
       "  </thead>\n",
       "  <tbody>\n",
       "    <tr>\n",
       "      <th>0</th>\n",
       "      <td>1</td>\n",
       "      <td>0.720527</td>\n",
       "      <td>1</td>\n",
       "      <td>1</td>\n",
       "      <td>1</td>\n",
       "      <td>1</td>\n",
       "      <td>1</td>\n",
       "      <td>1</td>\n",
       "      <td>1</td>\n",
       "      <td>1</td>\n",
       "      <td>1</td>\n",
       "      <td>0</td>\n",
       "      <td>0</td>\n",
       "      <td>1</td>\n",
       "    </tr>\n",
       "    <tr>\n",
       "      <th>1</th>\n",
       "      <td>0</td>\n",
       "      <td>0.074148</td>\n",
       "      <td>0</td>\n",
       "      <td>1</td>\n",
       "      <td>0</td>\n",
       "      <td>0</td>\n",
       "      <td>0</td>\n",
       "      <td>0</td>\n",
       "      <td>0</td>\n",
       "      <td>0</td>\n",
       "      <td>0</td>\n",
       "      <td>0</td>\n",
       "      <td>0</td>\n",
       "      <td>0</td>\n",
       "    </tr>\n",
       "    <tr>\n",
       "      <th>2</th>\n",
       "      <td>0</td>\n",
       "      <td>0.206296</td>\n",
       "      <td>0</td>\n",
       "      <td>1</td>\n",
       "      <td>1</td>\n",
       "      <td>1</td>\n",
       "      <td>0</td>\n",
       "      <td>0</td>\n",
       "      <td>0</td>\n",
       "      <td>0</td>\n",
       "      <td>0</td>\n",
       "      <td>0</td>\n",
       "      <td>0</td>\n",
       "      <td>0</td>\n",
       "    </tr>\n",
       "    <tr>\n",
       "      <th>3</th>\n",
       "      <td>0</td>\n",
       "      <td>0.074148</td>\n",
       "      <td>0</td>\n",
       "      <td>1</td>\n",
       "      <td>0</td>\n",
       "      <td>0</td>\n",
       "      <td>0</td>\n",
       "      <td>0</td>\n",
       "      <td>0</td>\n",
       "      <td>0</td>\n",
       "      <td>0</td>\n",
       "      <td>0</td>\n",
       "      <td>0</td>\n",
       "      <td>0</td>\n",
       "    </tr>\n",
       "    <tr>\n",
       "      <th>4</th>\n",
       "      <td>0</td>\n",
       "      <td>0.466522</td>\n",
       "      <td>0</td>\n",
       "      <td>1</td>\n",
       "      <td>1</td>\n",
       "      <td>1</td>\n",
       "      <td>1</td>\n",
       "      <td>1</td>\n",
       "      <td>0</td>\n",
       "      <td>0</td>\n",
       "      <td>0</td>\n",
       "      <td>0</td>\n",
       "      <td>0</td>\n",
       "      <td>1</td>\n",
       "    </tr>\n",
       "  </tbody>\n",
       "</table>\n",
       "</div>"
      ],
      "text/plain": [
       "   Converted  Conversion_Prob  Predicted  0.0  0.1  0.2  0.3  0.4  0.5  0.6  \\\n",
       "0          1         0.720527          1    1    1    1    1    1    1    1   \n",
       "1          0         0.074148          0    1    0    0    0    0    0    0   \n",
       "2          0         0.206296          0    1    1    1    0    0    0    0   \n",
       "3          0         0.074148          0    1    0    0    0    0    0    0   \n",
       "4          0         0.466522          0    1    1    1    1    1    0    0   \n",
       "\n",
       "   0.7  0.8  0.9  final_predicted  \n",
       "0    1    0    0                1  \n",
       "1    0    0    0                0  \n",
       "2    0    0    0                0  \n",
       "3    0    0    0                0  \n",
       "4    0    0    0                1  "
      ]
     },
     "execution_count": 95,
     "metadata": {},
     "output_type": "execute_result"
    }
   ],
   "source": [
    "y_train_pred_final['final_predicted'] = y_train_pred_final.Conversion_Prob.map( lambda x: 1 if x > 0.35 else 0)\n",
    "y_train_pred_final.head()"
   ]
  },
  {
   "cell_type": "code",
   "execution_count": 96,
   "id": "16763da5",
   "metadata": {},
   "outputs": [
    {
     "data": {
      "text/plain": [
       "0.7953078255392851"
      ]
     },
     "execution_count": 96,
     "metadata": {},
     "output_type": "execute_result"
    }
   ],
   "source": [
    "# Check the overall accuracy\n",
    "metrics.accuracy_score(y_train_pred_final.Converted, y_train_pred_final.final_predicted)"
   ]
  },
  {
   "cell_type": "code",
   "execution_count": 97,
   "id": "8b1a181d",
   "metadata": {},
   "outputs": [
    {
     "data": {
      "text/plain": [
       "array([[3082,  813],\n",
       "       [ 487, 1969]], dtype=int64)"
      ]
     },
     "execution_count": 97,
     "metadata": {},
     "output_type": "execute_result"
    }
   ],
   "source": [
    "# Creating confusion matrix \n",
    "confusion2 = metrics.confusion_matrix(y_train_pred_final.Converted, y_train_pred_final.final_predicted )\n",
    "confusion2"
   ]
  },
  {
   "cell_type": "code",
   "execution_count": 98,
   "id": "c7c41e91",
   "metadata": {},
   "outputs": [],
   "source": [
    "# Substituting the value of true positive\n",
    "TP = confusion2[1,1]\n",
    "\n",
    "# Substituting the value of true negatives\n",
    "TN = confusion2[0,0]\n",
    "\n",
    "# Substituting the value of false positives\n",
    "FP = confusion2[0,1] \n",
    "\n",
    "# Substituting the value of false negatives\n",
    "FN = confusion2[1,0]"
   ]
  },
  {
   "cell_type": "code",
   "execution_count": 99,
   "id": "c1c5f622",
   "metadata": {},
   "outputs": [
    {
     "data": {
      "text/plain": [
       "0.8017100977198697"
      ]
     },
     "execution_count": 99,
     "metadata": {},
     "output_type": "execute_result"
    }
   ],
   "source": [
    "# Calculating the sensitivity\n",
    "TP/(TP+FN)"
   ]
  },
  {
   "cell_type": "code",
   "execution_count": 100,
   "id": "243e1d09",
   "metadata": {},
   "outputs": [
    {
     "data": {
      "text/plain": [
       "0.7912708600770219"
      ]
     },
     "execution_count": 100,
     "metadata": {},
     "output_type": "execute_result"
    }
   ],
   "source": [
    "# Calculating the specificity\n",
    "TN/(TN+FP)"
   ]
  },
  {
   "cell_type": "markdown",
   "id": "b700c789",
   "metadata": {},
   "source": [
    "##### Conclusion:\n",
    "With the cut off of 0.35, the accuracy, sensitivity and specificity is around 80%."
   ]
  },
  {
   "cell_type": "markdown",
   "id": "277fb7c4",
   "metadata": {},
   "source": [
    "## 12. Prediction on Test set"
   ]
  },
  {
   "cell_type": "code",
   "execution_count": 101,
   "id": "f174918c",
   "metadata": {},
   "outputs": [],
   "source": [
    "# Scaling the numeric values \n",
    "X_test[['TotalVisits', 'Page Views Per Visit', 'Total Time Spent on Website']] = scaler.transform(X_test[['TotalVisits', 'Page Views Per Visit', 'Total Time Spent on Website']])"
   ]
  },
  {
   "cell_type": "code",
   "execution_count": 102,
   "id": "e1baba72",
   "metadata": {},
   "outputs": [],
   "source": [
    "# Substituting all the columns in the final model\n",
    "column_test = X_train.columns"
   ]
  },
  {
   "cell_type": "code",
   "execution_count": 103,
   "id": "3923de03",
   "metadata": {},
   "outputs": [
    {
     "data": {
      "text/html": [
       "<div>\n",
       "<style scoped>\n",
       "    .dataframe tbody tr th:only-of-type {\n",
       "        vertical-align: middle;\n",
       "    }\n",
       "\n",
       "    .dataframe tbody tr th {\n",
       "        vertical-align: top;\n",
       "    }\n",
       "\n",
       "    .dataframe thead th {\n",
       "        text-align: right;\n",
       "    }\n",
       "</style>\n",
       "<table border=\"1\" class=\"dataframe\">\n",
       "  <thead>\n",
       "    <tr style=\"text-align: right;\">\n",
       "      <th></th>\n",
       "      <th>const</th>\n",
       "      <th>Total Time Spent on Website</th>\n",
       "      <th>Lead Origin_lead add form</th>\n",
       "      <th>Lead Source_direct traffic</th>\n",
       "      <th>Lead Source_organic search</th>\n",
       "      <th>Lead Source_welingak website</th>\n",
       "      <th>Do Not Email_yes</th>\n",
       "      <th>Last Activity_olark chat conversation</th>\n",
       "      <th>Last Activity_sms sent</th>\n",
       "      <th>What is your current occupation_student</th>\n",
       "      <th>What is your current occupation_unemployed</th>\n",
       "      <th>What is your current occupation_working professional</th>\n",
       "      <th>Last Notable Activity_unreachable</th>\n",
       "    </tr>\n",
       "  </thead>\n",
       "  <tbody>\n",
       "    <tr>\n",
       "      <th>8308</th>\n",
       "      <td>1.0</td>\n",
       "      <td>0.416813</td>\n",
       "      <td>0</td>\n",
       "      <td>1</td>\n",
       "      <td>0</td>\n",
       "      <td>0</td>\n",
       "      <td>0</td>\n",
       "      <td>0</td>\n",
       "      <td>0</td>\n",
       "      <td>0</td>\n",
       "      <td>1</td>\n",
       "      <td>0</td>\n",
       "      <td>0</td>\n",
       "    </tr>\n",
       "    <tr>\n",
       "      <th>7212</th>\n",
       "      <td>1.0</td>\n",
       "      <td>0.001320</td>\n",
       "      <td>0</td>\n",
       "      <td>0</td>\n",
       "      <td>1</td>\n",
       "      <td>0</td>\n",
       "      <td>0</td>\n",
       "      <td>0</td>\n",
       "      <td>1</td>\n",
       "      <td>0</td>\n",
       "      <td>0</td>\n",
       "      <td>1</td>\n",
       "      <td>0</td>\n",
       "    </tr>\n",
       "    <tr>\n",
       "      <th>2085</th>\n",
       "      <td>1.0</td>\n",
       "      <td>0.000000</td>\n",
       "      <td>1</td>\n",
       "      <td>0</td>\n",
       "      <td>0</td>\n",
       "      <td>1</td>\n",
       "      <td>0</td>\n",
       "      <td>0</td>\n",
       "      <td>0</td>\n",
       "      <td>0</td>\n",
       "      <td>1</td>\n",
       "      <td>0</td>\n",
       "      <td>0</td>\n",
       "    </tr>\n",
       "    <tr>\n",
       "      <th>4048</th>\n",
       "      <td>1.0</td>\n",
       "      <td>0.617077</td>\n",
       "      <td>0</td>\n",
       "      <td>1</td>\n",
       "      <td>0</td>\n",
       "      <td>0</td>\n",
       "      <td>0</td>\n",
       "      <td>0</td>\n",
       "      <td>1</td>\n",
       "      <td>0</td>\n",
       "      <td>1</td>\n",
       "      <td>0</td>\n",
       "      <td>0</td>\n",
       "    </tr>\n",
       "    <tr>\n",
       "      <th>4790</th>\n",
       "      <td>1.0</td>\n",
       "      <td>0.005282</td>\n",
       "      <td>0</td>\n",
       "      <td>1</td>\n",
       "      <td>0</td>\n",
       "      <td>0</td>\n",
       "      <td>0</td>\n",
       "      <td>0</td>\n",
       "      <td>0</td>\n",
       "      <td>0</td>\n",
       "      <td>1</td>\n",
       "      <td>0</td>\n",
       "      <td>0</td>\n",
       "    </tr>\n",
       "    <tr>\n",
       "      <th>...</th>\n",
       "      <td>...</td>\n",
       "      <td>...</td>\n",
       "      <td>...</td>\n",
       "      <td>...</td>\n",
       "      <td>...</td>\n",
       "      <td>...</td>\n",
       "      <td>...</td>\n",
       "      <td>...</td>\n",
       "      <td>...</td>\n",
       "      <td>...</td>\n",
       "      <td>...</td>\n",
       "      <td>...</td>\n",
       "      <td>...</td>\n",
       "    </tr>\n",
       "    <tr>\n",
       "      <th>3261</th>\n",
       "      <td>1.0</td>\n",
       "      <td>0.000000</td>\n",
       "      <td>0</td>\n",
       "      <td>0</td>\n",
       "      <td>0</td>\n",
       "      <td>0</td>\n",
       "      <td>0</td>\n",
       "      <td>1</td>\n",
       "      <td>0</td>\n",
       "      <td>0</td>\n",
       "      <td>1</td>\n",
       "      <td>0</td>\n",
       "      <td>0</td>\n",
       "    </tr>\n",
       "    <tr>\n",
       "      <th>8179</th>\n",
       "      <td>1.0</td>\n",
       "      <td>0.148768</td>\n",
       "      <td>0</td>\n",
       "      <td>0</td>\n",
       "      <td>0</td>\n",
       "      <td>0</td>\n",
       "      <td>0</td>\n",
       "      <td>0</td>\n",
       "      <td>1</td>\n",
       "      <td>0</td>\n",
       "      <td>0</td>\n",
       "      <td>0</td>\n",
       "      <td>0</td>\n",
       "    </tr>\n",
       "    <tr>\n",
       "      <th>6236</th>\n",
       "      <td>1.0</td>\n",
       "      <td>0.000000</td>\n",
       "      <td>0</td>\n",
       "      <td>0</td>\n",
       "      <td>0</td>\n",
       "      <td>0</td>\n",
       "      <td>0</td>\n",
       "      <td>0</td>\n",
       "      <td>0</td>\n",
       "      <td>0</td>\n",
       "      <td>0</td>\n",
       "      <td>0</td>\n",
       "      <td>0</td>\n",
       "    </tr>\n",
       "    <tr>\n",
       "      <th>5240</th>\n",
       "      <td>1.0</td>\n",
       "      <td>0.458627</td>\n",
       "      <td>0</td>\n",
       "      <td>0</td>\n",
       "      <td>0</td>\n",
       "      <td>0</td>\n",
       "      <td>0</td>\n",
       "      <td>0</td>\n",
       "      <td>1</td>\n",
       "      <td>0</td>\n",
       "      <td>1</td>\n",
       "      <td>0</td>\n",
       "      <td>0</td>\n",
       "    </tr>\n",
       "    <tr>\n",
       "      <th>7243</th>\n",
       "      <td>1.0</td>\n",
       "      <td>0.499560</td>\n",
       "      <td>0</td>\n",
       "      <td>0</td>\n",
       "      <td>1</td>\n",
       "      <td>0</td>\n",
       "      <td>0</td>\n",
       "      <td>0</td>\n",
       "      <td>0</td>\n",
       "      <td>0</td>\n",
       "      <td>1</td>\n",
       "      <td>0</td>\n",
       "      <td>0</td>\n",
       "    </tr>\n",
       "  </tbody>\n",
       "</table>\n",
       "<p>2723 rows × 13 columns</p>\n",
       "</div>"
      ],
      "text/plain": [
       "      const  Total Time Spent on Website  Lead Origin_lead add form  \\\n",
       "8308    1.0                     0.416813                          0   \n",
       "7212    1.0                     0.001320                          0   \n",
       "2085    1.0                     0.000000                          1   \n",
       "4048    1.0                     0.617077                          0   \n",
       "4790    1.0                     0.005282                          0   \n",
       "...     ...                          ...                        ...   \n",
       "3261    1.0                     0.000000                          0   \n",
       "8179    1.0                     0.148768                          0   \n",
       "6236    1.0                     0.000000                          0   \n",
       "5240    1.0                     0.458627                          0   \n",
       "7243    1.0                     0.499560                          0   \n",
       "\n",
       "      Lead Source_direct traffic  Lead Source_organic search  \\\n",
       "8308                           1                           0   \n",
       "7212                           0                           1   \n",
       "2085                           0                           0   \n",
       "4048                           1                           0   \n",
       "4790                           1                           0   \n",
       "...                          ...                         ...   \n",
       "3261                           0                           0   \n",
       "8179                           0                           0   \n",
       "6236                           0                           0   \n",
       "5240                           0                           0   \n",
       "7243                           0                           1   \n",
       "\n",
       "      Lead Source_welingak website  Do Not Email_yes  \\\n",
       "8308                             0                 0   \n",
       "7212                             0                 0   \n",
       "2085                             1                 0   \n",
       "4048                             0                 0   \n",
       "4790                             0                 0   \n",
       "...                            ...               ...   \n",
       "3261                             0                 0   \n",
       "8179                             0                 0   \n",
       "6236                             0                 0   \n",
       "5240                             0                 0   \n",
       "7243                             0                 0   \n",
       "\n",
       "      Last Activity_olark chat conversation  Last Activity_sms sent  \\\n",
       "8308                                      0                       0   \n",
       "7212                                      0                       1   \n",
       "2085                                      0                       0   \n",
       "4048                                      0                       1   \n",
       "4790                                      0                       0   \n",
       "...                                     ...                     ...   \n",
       "3261                                      1                       0   \n",
       "8179                                      0                       1   \n",
       "6236                                      0                       0   \n",
       "5240                                      0                       1   \n",
       "7243                                      0                       0   \n",
       "\n",
       "      What is your current occupation_student  \\\n",
       "8308                                        0   \n",
       "7212                                        0   \n",
       "2085                                        0   \n",
       "4048                                        0   \n",
       "4790                                        0   \n",
       "...                                       ...   \n",
       "3261                                        0   \n",
       "8179                                        0   \n",
       "6236                                        0   \n",
       "5240                                        0   \n",
       "7243                                        0   \n",
       "\n",
       "      What is your current occupation_unemployed  \\\n",
       "8308                                           1   \n",
       "7212                                           0   \n",
       "2085                                           1   \n",
       "4048                                           1   \n",
       "4790                                           1   \n",
       "...                                          ...   \n",
       "3261                                           1   \n",
       "8179                                           0   \n",
       "6236                                           0   \n",
       "5240                                           1   \n",
       "7243                                           1   \n",
       "\n",
       "      What is your current occupation_working professional  \\\n",
       "8308                                                  0      \n",
       "7212                                                  1      \n",
       "2085                                                  0      \n",
       "4048                                                  0      \n",
       "4790                                                  0      \n",
       "...                                                 ...      \n",
       "3261                                                  0      \n",
       "8179                                                  0      \n",
       "6236                                                  0      \n",
       "5240                                                  0      \n",
       "7243                                                  0      \n",
       "\n",
       "      Last Notable Activity_unreachable  \n",
       "8308                                  0  \n",
       "7212                                  0  \n",
       "2085                                  0  \n",
       "4048                                  0  \n",
       "4790                                  0  \n",
       "...                                 ...  \n",
       "3261                                  0  \n",
       "8179                                  0  \n",
       "6236                                  0  \n",
       "5240                                  0  \n",
       "7243                                  0  \n",
       "\n",
       "[2723 rows x 13 columns]"
      ]
     },
     "execution_count": 103,
     "metadata": {},
     "output_type": "execute_result"
    }
   ],
   "source": [
    "# Select the columns in X_train for X_test as well\n",
    "X_test = X_test[column_test]\n",
    "\n",
    "# Add a constant to X_test\n",
    "X_test_sm = sm.add_constant(X_test[column_test])\n",
    "X_test_sm\n",
    "X_test_sm"
   ]
  },
  {
   "cell_type": "code",
   "execution_count": 104,
   "id": "194d8980",
   "metadata": {},
   "outputs": [
    {
     "data": {
      "text/html": [
       "<div>\n",
       "<style scoped>\n",
       "    .dataframe tbody tr th:only-of-type {\n",
       "        vertical-align: middle;\n",
       "    }\n",
       "\n",
       "    .dataframe tbody tr th {\n",
       "        vertical-align: top;\n",
       "    }\n",
       "\n",
       "    .dataframe thead th {\n",
       "        text-align: right;\n",
       "    }\n",
       "</style>\n",
       "<table border=\"1\" class=\"dataframe\">\n",
       "  <thead>\n",
       "    <tr style=\"text-align: right;\">\n",
       "      <th></th>\n",
       "      <th>Converted</th>\n",
       "      <th>Conversion_Prob</th>\n",
       "    </tr>\n",
       "  </thead>\n",
       "  <tbody>\n",
       "    <tr>\n",
       "      <th>0</th>\n",
       "      <td>0</td>\n",
       "      <td>0.381020</td>\n",
       "    </tr>\n",
       "    <tr>\n",
       "      <th>1</th>\n",
       "      <td>1</td>\n",
       "      <td>0.865639</td>\n",
       "    </tr>\n",
       "    <tr>\n",
       "      <th>2</th>\n",
       "      <td>1</td>\n",
       "      <td>0.982324</td>\n",
       "    </tr>\n",
       "    <tr>\n",
       "      <th>3</th>\n",
       "      <td>1</td>\n",
       "      <td>0.826074</td>\n",
       "    </tr>\n",
       "    <tr>\n",
       "      <th>4</th>\n",
       "      <td>0</td>\n",
       "      <td>0.109373</td>\n",
       "    </tr>\n",
       "  </tbody>\n",
       "</table>\n",
       "</div>"
      ],
      "text/plain": [
       "   Converted  Conversion_Prob\n",
       "0          0         0.381020\n",
       "1          1         0.865639\n",
       "2          1         0.982324\n",
       "3          1         0.826074\n",
       "4          0         0.109373"
      ]
     },
     "execution_count": 104,
     "metadata": {},
     "output_type": "execute_result"
    }
   ],
   "source": [
    "# Storing prediction of test set in the variable 'y_test_pred'\n",
    "y_test_pred = res.predict(X_test_sm)\n",
    "\n",
    "# Coverting it to leads\n",
    "y_pred_leads = pd.DataFrame(y_test_pred)\n",
    "\n",
    "# Converting y_test to dataframe\n",
    "y_test_leads = pd.DataFrame(y_test)\n",
    "\n",
    "# Removing index for both dataframes to append them side by side \n",
    "y_pred_leads.reset_index(drop=True, inplace=True)\n",
    "y_test_leads.reset_index(drop=True, inplace=True)\n",
    "\n",
    "# Appending y_test_leads and y_pred_leads\n",
    "y_pred_final = pd.concat([y_test_leads, y_pred_leads],axis=1)\n",
    "\n",
    "# Renaming column \n",
    "y_pred_final= y_pred_final.rename(columns = {0 : 'Conversion_Prob'})\n",
    "y_pred_final.head()"
   ]
  },
  {
   "cell_type": "code",
   "execution_count": 105,
   "id": "54e3990f",
   "metadata": {},
   "outputs": [
    {
     "data": {
      "text/html": [
       "<div>\n",
       "<style scoped>\n",
       "    .dataframe tbody tr th:only-of-type {\n",
       "        vertical-align: middle;\n",
       "    }\n",
       "\n",
       "    .dataframe tbody tr th {\n",
       "        vertical-align: top;\n",
       "    }\n",
       "\n",
       "    .dataframe thead th {\n",
       "        text-align: right;\n",
       "    }\n",
       "</style>\n",
       "<table border=\"1\" class=\"dataframe\">\n",
       "  <thead>\n",
       "    <tr style=\"text-align: right;\">\n",
       "      <th></th>\n",
       "      <th>Converted</th>\n",
       "      <th>Conversion_Prob</th>\n",
       "      <th>final_predicted</th>\n",
       "    </tr>\n",
       "  </thead>\n",
       "  <tbody>\n",
       "    <tr>\n",
       "      <th>0</th>\n",
       "      <td>0</td>\n",
       "      <td>0.381020</td>\n",
       "      <td>1</td>\n",
       "    </tr>\n",
       "    <tr>\n",
       "      <th>1</th>\n",
       "      <td>1</td>\n",
       "      <td>0.865639</td>\n",
       "      <td>1</td>\n",
       "    </tr>\n",
       "    <tr>\n",
       "      <th>2</th>\n",
       "      <td>1</td>\n",
       "      <td>0.982324</td>\n",
       "      <td>1</td>\n",
       "    </tr>\n",
       "    <tr>\n",
       "      <th>3</th>\n",
       "      <td>1</td>\n",
       "      <td>0.826074</td>\n",
       "      <td>1</td>\n",
       "    </tr>\n",
       "    <tr>\n",
       "      <th>4</th>\n",
       "      <td>0</td>\n",
       "      <td>0.109373</td>\n",
       "      <td>0</td>\n",
       "    </tr>\n",
       "    <tr>\n",
       "      <th>...</th>\n",
       "      <td>...</td>\n",
       "      <td>...</td>\n",
       "      <td>...</td>\n",
       "    </tr>\n",
       "    <tr>\n",
       "      <th>2718</th>\n",
       "      <td>1</td>\n",
       "      <td>0.074780</td>\n",
       "      <td>0</td>\n",
       "    </tr>\n",
       "    <tr>\n",
       "      <th>2719</th>\n",
       "      <td>0</td>\n",
       "      <td>0.335573</td>\n",
       "      <td>0</td>\n",
       "    </tr>\n",
       "    <tr>\n",
       "      <th>2720</th>\n",
       "      <td>0</td>\n",
       "      <td>0.074148</td>\n",
       "      <td>0</td>\n",
       "    </tr>\n",
       "    <tr>\n",
       "      <th>2721</th>\n",
       "      <td>1</td>\n",
       "      <td>0.832372</td>\n",
       "      <td>1</td>\n",
       "    </tr>\n",
       "    <tr>\n",
       "      <th>2722</th>\n",
       "      <td>1</td>\n",
       "      <td>0.523104</td>\n",
       "      <td>1</td>\n",
       "    </tr>\n",
       "  </tbody>\n",
       "</table>\n",
       "<p>2723 rows × 3 columns</p>\n",
       "</div>"
      ],
      "text/plain": [
       "      Converted  Conversion_Prob  final_predicted\n",
       "0             0         0.381020                1\n",
       "1             1         0.865639                1\n",
       "2             1         0.982324                1\n",
       "3             1         0.826074                1\n",
       "4             0         0.109373                0\n",
       "...         ...              ...              ...\n",
       "2718          1         0.074780                0\n",
       "2719          0         0.335573                0\n",
       "2720          0         0.074148                0\n",
       "2721          1         0.832372                1\n",
       "2722          1         0.523104                1\n",
       "\n",
       "[2723 rows x 3 columns]"
      ]
     },
     "execution_count": 105,
     "metadata": {},
     "output_type": "execute_result"
    }
   ],
   "source": [
    "# Making prediction using cut off 0.35\n",
    "y_pred_final['final_predicted'] = y_pred_final.Conversion_Prob.map(lambda x: 1 if x > 0.35 else 0)\n",
    "y_pred_final"
   ]
  },
  {
   "cell_type": "code",
   "execution_count": 106,
   "id": "3d5ca96c",
   "metadata": {},
   "outputs": [
    {
     "data": {
      "text/plain": [
       "0.8053617333822989"
      ]
     },
     "execution_count": 106,
     "metadata": {},
     "output_type": "execute_result"
    }
   ],
   "source": [
    "# Checking the overall accuracy\n",
    "metrics.accuracy_score(y_pred_final['Converted'], y_pred_final.final_predicted)"
   ]
  },
  {
   "cell_type": "code",
   "execution_count": 107,
   "id": "14d378eb",
   "metadata": {},
   "outputs": [
    {
     "data": {
      "text/plain": [
       "array([[1383,  361],\n",
       "       [ 169,  810]], dtype=int64)"
      ]
     },
     "execution_count": 107,
     "metadata": {},
     "output_type": "execute_result"
    }
   ],
   "source": [
    "# Creating confusion matrix \n",
    "confusion2 = metrics.confusion_matrix(y_pred_final['Converted'], y_pred_final.final_predicted )\n",
    "confusion2"
   ]
  },
  {
   "cell_type": "code",
   "execution_count": 108,
   "id": "ddc461ad",
   "metadata": {},
   "outputs": [],
   "source": [
    "# Substituting the value of true positive\n",
    "TP = confusion2[1,1]\n",
    "\n",
    "# Substituting the value of true negatives\n",
    "TN = confusion2[0,0]\n",
    "\n",
    "# Substituting the value of false positives\n",
    "FP = confusion2[0,1] \n",
    "\n",
    "# Substituting the value of false negatives\n",
    "FN = confusion2[1,0]"
   ]
  },
  {
   "cell_type": "code",
   "execution_count": 109,
   "id": "5dd4f41e",
   "metadata": {},
   "outputs": [
    {
     "data": {
      "text/plain": [
       "0.8273748723186926"
      ]
     },
     "execution_count": 109,
     "metadata": {},
     "output_type": "execute_result"
    }
   ],
   "source": [
    "# Calculating the sensitivity\n",
    "TP/(TP+FN)"
   ]
  },
  {
   "cell_type": "code",
   "execution_count": 110,
   "id": "0a967ce2",
   "metadata": {},
   "outputs": [
    {
     "data": {
      "text/plain": [
       "0.7930045871559633"
      ]
     },
     "execution_count": 110,
     "metadata": {},
     "output_type": "execute_result"
    }
   ],
   "source": [
    "# Calculating the specificity\n",
    "TN/(TN+FP)"
   ]
  },
  {
   "cell_type": "markdown",
   "id": "c27a6fbf",
   "metadata": {},
   "source": [
    "##### Conclusion:\n",
    "With the cut off of 0.35, the accuracy, sensitivity and specifity is around 80%."
   ]
  },
  {
   "cell_type": "markdown",
   "id": "e157c0ae",
   "metadata": {},
   "source": [
    "## 13. Precision - Recall"
   ]
  },
  {
   "cell_type": "markdown",
   "id": "714e58ed",
   "metadata": {},
   "source": [
    "### 13.1. Precision - Recall "
   ]
  },
  {
   "cell_type": "code",
   "execution_count": 111,
   "id": "8d80fa31",
   "metadata": {},
   "outputs": [
    {
     "data": {
      "text/plain": [
       "array([[3429,  466],\n",
       "       [ 818, 1638]], dtype=int64)"
      ]
     },
     "execution_count": 111,
     "metadata": {},
     "output_type": "execute_result"
    }
   ],
   "source": [
    "confusion = metrics.confusion_matrix(y_train_pred_final.Converted, y_train_pred_final.Predicted )\n",
    "confusion"
   ]
  },
  {
   "cell_type": "code",
   "execution_count": 112,
   "id": "f526ddba",
   "metadata": {},
   "outputs": [
    {
     "data": {
      "text/plain": [
       "0.7785171102661597"
      ]
     },
     "execution_count": 112,
     "metadata": {},
     "output_type": "execute_result"
    }
   ],
   "source": [
    "# Precision = TP / TP + FP\n",
    "confusion[1,1]/(confusion[0,1]+confusion[1,1])"
   ]
  },
  {
   "cell_type": "code",
   "execution_count": 113,
   "id": "7f849536",
   "metadata": {},
   "outputs": [
    {
     "data": {
      "text/plain": [
       "0.6669381107491856"
      ]
     },
     "execution_count": 113,
     "metadata": {},
     "output_type": "execute_result"
    }
   ],
   "source": [
    "# Recall = TP / TP + FN\n",
    "confusion[1,1]/(confusion[1,0]+confusion[1,1])"
   ]
  },
  {
   "cell_type": "markdown",
   "id": "5f742d0b",
   "metadata": {},
   "source": [
    "##### Conclusion: \n",
    "With the cut off of 0.35, we have Precision around 79% and Recall around 70%."
   ]
  },
  {
   "cell_type": "markdown",
   "id": "20c7deea",
   "metadata": {},
   "source": [
    "### 13.2. Precision and Recall tradeoff"
   ]
  },
  {
   "cell_type": "code",
   "execution_count": 114,
   "id": "37db3980",
   "metadata": {},
   "outputs": [
    {
     "data": {
      "text/plain": [
       "(0       1\n",
       " 1       0\n",
       " 2       0\n",
       " 3       0\n",
       " 4       0\n",
       "        ..\n",
       " 6346    0\n",
       " 6347    0\n",
       " 6348    0\n",
       " 6349    0\n",
       " 6350    1\n",
       " Name: Converted, Length: 6351, dtype: int64,\n",
       " 0       1\n",
       " 1       0\n",
       " 2       0\n",
       " 3       0\n",
       " 4       0\n",
       "        ..\n",
       " 6346    0\n",
       " 6347    0\n",
       " 6348    0\n",
       " 6349    0\n",
       " 6350    0\n",
       " Name: Predicted, Length: 6351, dtype: int64)"
      ]
     },
     "execution_count": 114,
     "metadata": {},
     "output_type": "execute_result"
    }
   ],
   "source": [
    "y_train_pred_final.Converted, y_train_pred_final.Predicted"
   ]
  },
  {
   "cell_type": "code",
   "execution_count": 115,
   "id": "30fac773",
   "metadata": {},
   "outputs": [],
   "source": [
    "p, r, thresholds = precision_recall_curve(y_train_pred_final.Converted, y_train_pred_final.Conversion_Prob)"
   ]
  },
  {
   "cell_type": "code",
   "execution_count": 116,
   "id": "23eb6e18",
   "metadata": {},
   "outputs": [
    {
     "data": {
      "image/png": "[encoded data removed]",
      "text/plain": [
       "<Figure size 432x288 with 1 Axes>"
      ]
     },
     "metadata": {
      "needs_background": "light"
     },
     "output_type": "display_data"
    }
   ],
   "source": [
    "plt.plot(thresholds, p[:-1], \"g-\")\n",
    "plt.plot(thresholds, r[:-1], \"r-\")\n",
    "plt.show()"
   ]
  },
  {
   "cell_type": "code",
   "execution_count": 117,
   "id": "a8105011",
   "metadata": {},
   "outputs": [
    {
     "data": {
      "text/html": [
       "<div>\n",
       "<style scoped>\n",
       "    .dataframe tbody tr th:only-of-type {\n",
       "        vertical-align: middle;\n",
       "    }\n",
       "\n",
       "    .dataframe tbody tr th {\n",
       "        vertical-align: top;\n",
       "    }\n",
       "\n",
       "    .dataframe thead th {\n",
       "        text-align: right;\n",
       "    }\n",
       "</style>\n",
       "<table border=\"1\" class=\"dataframe\">\n",
       "  <thead>\n",
       "    <tr style=\"text-align: right;\">\n",
       "      <th></th>\n",
       "      <th>Converted</th>\n",
       "      <th>Conversion_Prob</th>\n",
       "      <th>Predicted</th>\n",
       "      <th>0.0</th>\n",
       "      <th>0.1</th>\n",
       "      <th>0.2</th>\n",
       "      <th>0.3</th>\n",
       "      <th>0.4</th>\n",
       "      <th>0.5</th>\n",
       "      <th>0.6</th>\n",
       "      <th>0.7</th>\n",
       "      <th>0.8</th>\n",
       "      <th>0.9</th>\n",
       "      <th>final_predicted</th>\n",
       "    </tr>\n",
       "  </thead>\n",
       "  <tbody>\n",
       "    <tr>\n",
       "      <th>0</th>\n",
       "      <td>1</td>\n",
       "      <td>0.720527</td>\n",
       "      <td>1</td>\n",
       "      <td>1</td>\n",
       "      <td>1</td>\n",
       "      <td>1</td>\n",
       "      <td>1</td>\n",
       "      <td>1</td>\n",
       "      <td>1</td>\n",
       "      <td>1</td>\n",
       "      <td>1</td>\n",
       "      <td>0</td>\n",
       "      <td>0</td>\n",
       "      <td>1</td>\n",
       "    </tr>\n",
       "    <tr>\n",
       "      <th>1</th>\n",
       "      <td>0</td>\n",
       "      <td>0.074148</td>\n",
       "      <td>0</td>\n",
       "      <td>1</td>\n",
       "      <td>0</td>\n",
       "      <td>0</td>\n",
       "      <td>0</td>\n",
       "      <td>0</td>\n",
       "      <td>0</td>\n",
       "      <td>0</td>\n",
       "      <td>0</td>\n",
       "      <td>0</td>\n",
       "      <td>0</td>\n",
       "      <td>0</td>\n",
       "    </tr>\n",
       "    <tr>\n",
       "      <th>2</th>\n",
       "      <td>0</td>\n",
       "      <td>0.206296</td>\n",
       "      <td>0</td>\n",
       "      <td>1</td>\n",
       "      <td>1</td>\n",
       "      <td>1</td>\n",
       "      <td>0</td>\n",
       "      <td>0</td>\n",
       "      <td>0</td>\n",
       "      <td>0</td>\n",
       "      <td>0</td>\n",
       "      <td>0</td>\n",
       "      <td>0</td>\n",
       "      <td>0</td>\n",
       "    </tr>\n",
       "    <tr>\n",
       "      <th>3</th>\n",
       "      <td>0</td>\n",
       "      <td>0.074148</td>\n",
       "      <td>0</td>\n",
       "      <td>1</td>\n",
       "      <td>0</td>\n",
       "      <td>0</td>\n",
       "      <td>0</td>\n",
       "      <td>0</td>\n",
       "      <td>0</td>\n",
       "      <td>0</td>\n",
       "      <td>0</td>\n",
       "      <td>0</td>\n",
       "      <td>0</td>\n",
       "      <td>0</td>\n",
       "    </tr>\n",
       "    <tr>\n",
       "      <th>4</th>\n",
       "      <td>0</td>\n",
       "      <td>0.466522</td>\n",
       "      <td>0</td>\n",
       "      <td>1</td>\n",
       "      <td>1</td>\n",
       "      <td>1</td>\n",
       "      <td>1</td>\n",
       "      <td>1</td>\n",
       "      <td>0</td>\n",
       "      <td>0</td>\n",
       "      <td>0</td>\n",
       "      <td>0</td>\n",
       "      <td>0</td>\n",
       "      <td>1</td>\n",
       "    </tr>\n",
       "  </tbody>\n",
       "</table>\n",
       "</div>"
      ],
      "text/plain": [
       "   Converted  Conversion_Prob  Predicted  0.0  0.1  0.2  0.3  0.4  0.5  0.6  \\\n",
       "0          1         0.720527          1    1    1    1    1    1    1    1   \n",
       "1          0         0.074148          0    1    0    0    0    0    0    0   \n",
       "2          0         0.206296          0    1    1    1    0    0    0    0   \n",
       "3          0         0.074148          0    1    0    0    0    0    0    0   \n",
       "4          0         0.466522          0    1    1    1    1    1    0    0   \n",
       "\n",
       "   0.7  0.8  0.9  final_predicted  \n",
       "0    1    0    0                1  \n",
       "1    0    0    0                0  \n",
       "2    0    0    0                0  \n",
       "3    0    0    0                0  \n",
       "4    0    0    0                1  "
      ]
     },
     "execution_count": 117,
     "metadata": {},
     "output_type": "execute_result"
    }
   ],
   "source": [
    "y_train_pred_final['final_predicted'] = y_train_pred_final.Conversion_Prob.map(lambda x: 1 if x > 0.41 else 0)\n",
    "y_train_pred_final.head()"
   ]
  },
  {
   "cell_type": "code",
   "execution_count": 118,
   "id": "ca9b1ace",
   "metadata": {},
   "outputs": [
    {
     "data": {
      "text/plain": [
       "0.8034955125177138"
      ]
     },
     "execution_count": 118,
     "metadata": {},
     "output_type": "execute_result"
    }
   ],
   "source": [
    "# Accuracy\n",
    "metrics.accuracy_score(y_train_pred_final.Converted, y_train_pred_final.final_predicted)"
   ]
  },
  {
   "cell_type": "code",
   "execution_count": 119,
   "id": "850dc714",
   "metadata": {},
   "outputs": [
    {
     "data": {
      "text/plain": [
       "array([[3212,  683],\n",
       "       [ 565, 1891]], dtype=int64)"
      ]
     },
     "execution_count": 119,
     "metadata": {},
     "output_type": "execute_result"
    }
   ],
   "source": [
    "# Creating confusion matrix again\n",
    "confusion2 = metrics.confusion_matrix(y_train_pred_final.Converted, y_train_pred_final.final_predicted )\n",
    "confusion2"
   ]
  },
  {
   "cell_type": "code",
   "execution_count": 120,
   "id": "7e4a9d82",
   "metadata": {},
   "outputs": [],
   "source": [
    "# Substituting the value of true positive\n",
    "TP = confusion2[1,1]\n",
    "\n",
    "# Substituting the value of true negatives\n",
    "TN = confusion2[0,0]\n",
    "\n",
    "# Substituting the value of false positives\n",
    "FP = confusion2[0,1] \n",
    "\n",
    "# Substituting the value of false negatives\n",
    "FN = confusion2[1,0]"
   ]
  },
  {
   "cell_type": "code",
   "execution_count": 121,
   "id": "e126414f",
   "metadata": {},
   "outputs": [
    {
     "data": {
      "text/plain": [
       "0.7346542346542346"
      ]
     },
     "execution_count": 121,
     "metadata": {},
     "output_type": "execute_result"
    }
   ],
   "source": [
    "# Precision = TP / TP + FP\n",
    "TP / (TP + FP)"
   ]
  },
  {
   "cell_type": "code",
   "execution_count": 122,
   "id": "07ca5256",
   "metadata": {
    "scrolled": true
   },
   "outputs": [
    {
     "data": {
      "text/plain": [
       "0.7699511400651465"
      ]
     },
     "execution_count": 122,
     "metadata": {},
     "output_type": "execute_result"
    }
   ],
   "source": [
    "# Recall = TP / TP + FN\n",
    "TP / (TP + FN)"
   ]
  },
  {
   "cell_type": "markdown",
   "id": "5bafa846",
   "metadata": {},
   "source": [
    "##### Conclusion:\n",
    "With the cut off of 0.41, the precision is around 74% and recall is around 76%."
   ]
  },
  {
   "cell_type": "markdown",
   "id": "11605e90",
   "metadata": {},
   "source": [
    "## 14. Prediction on Test Set"
   ]
  },
  {
   "cell_type": "code",
   "execution_count": 123,
   "id": "f9b7493a",
   "metadata": {},
   "outputs": [
    {
     "data": {
      "text/html": [
       "<div>\n",
       "<style scoped>\n",
       "    .dataframe tbody tr th:only-of-type {\n",
       "        vertical-align: middle;\n",
       "    }\n",
       "\n",
       "    .dataframe tbody tr th {\n",
       "        vertical-align: top;\n",
       "    }\n",
       "\n",
       "    .dataframe thead th {\n",
       "        text-align: right;\n",
       "    }\n",
       "</style>\n",
       "<table border=\"1\" class=\"dataframe\">\n",
       "  <thead>\n",
       "    <tr style=\"text-align: right;\">\n",
       "      <th></th>\n",
       "      <th>Converted</th>\n",
       "      <th>Conversion_Prob</th>\n",
       "    </tr>\n",
       "  </thead>\n",
       "  <tbody>\n",
       "    <tr>\n",
       "      <th>0</th>\n",
       "      <td>0</td>\n",
       "      <td>0.381020</td>\n",
       "    </tr>\n",
       "    <tr>\n",
       "      <th>1</th>\n",
       "      <td>1</td>\n",
       "      <td>0.865639</td>\n",
       "    </tr>\n",
       "    <tr>\n",
       "      <th>2</th>\n",
       "      <td>1</td>\n",
       "      <td>0.982324</td>\n",
       "    </tr>\n",
       "    <tr>\n",
       "      <th>3</th>\n",
       "      <td>1</td>\n",
       "      <td>0.826074</td>\n",
       "    </tr>\n",
       "    <tr>\n",
       "      <th>4</th>\n",
       "      <td>0</td>\n",
       "      <td>0.109373</td>\n",
       "    </tr>\n",
       "  </tbody>\n",
       "</table>\n",
       "</div>"
      ],
      "text/plain": [
       "   Converted  Conversion_Prob\n",
       "0          0         0.381020\n",
       "1          1         0.865639\n",
       "2          1         0.982324\n",
       "3          1         0.826074\n",
       "4          0         0.109373"
      ]
     },
     "execution_count": 123,
     "metadata": {},
     "output_type": "execute_result"
    }
   ],
   "source": [
    "# Storing prediction of test set in the variable 'y_test_pred'\n",
    "y_test_pred = res.predict(X_test_sm)\n",
    "\n",
    "# Coverting it to leads\n",
    "y_pred_leads = pd.DataFrame(y_test_pred)\n",
    "\n",
    "# Converting y_test to dataframe\n",
    "y_test_leads = pd.DataFrame(y_test)\n",
    "\n",
    "# Removing index for both dataframes to append them side by side \n",
    "y_pred_leads.reset_index(drop=True, inplace=True)\n",
    "y_test_leads.reset_index(drop=True, inplace=True)\n",
    "\n",
    "# Appending y_test_leads and y_pred_leads\n",
    "y_pred_final = pd.concat([y_test_leads, y_pred_leads],axis=1)\n",
    "\n",
    "# Renaming column \n",
    "y_pred_final= y_pred_final.rename(columns = {0 : 'Conversion_Prob'})\n",
    "y_pred_final.head()"
   ]
  },
  {
   "cell_type": "code",
   "execution_count": 124,
   "id": "a994d815",
   "metadata": {
    "scrolled": true
   },
   "outputs": [
    {
     "data": {
      "text/html": [
       "<div>\n",
       "<style scoped>\n",
       "    .dataframe tbody tr th:only-of-type {\n",
       "        vertical-align: middle;\n",
       "    }\n",
       "\n",
       "    .dataframe tbody tr th {\n",
       "        vertical-align: top;\n",
       "    }\n",
       "\n",
       "    .dataframe thead th {\n",
       "        text-align: right;\n",
       "    }\n",
       "</style>\n",
       "<table border=\"1\" class=\"dataframe\">\n",
       "  <thead>\n",
       "    <tr style=\"text-align: right;\">\n",
       "      <th></th>\n",
       "      <th>Converted</th>\n",
       "      <th>Conversion_Prob</th>\n",
       "      <th>final_predicted</th>\n",
       "    </tr>\n",
       "  </thead>\n",
       "  <tbody>\n",
       "    <tr>\n",
       "      <th>0</th>\n",
       "      <td>0</td>\n",
       "      <td>0.381020</td>\n",
       "      <td>0</td>\n",
       "    </tr>\n",
       "    <tr>\n",
       "      <th>1</th>\n",
       "      <td>1</td>\n",
       "      <td>0.865639</td>\n",
       "      <td>1</td>\n",
       "    </tr>\n",
       "    <tr>\n",
       "      <th>2</th>\n",
       "      <td>1</td>\n",
       "      <td>0.982324</td>\n",
       "      <td>1</td>\n",
       "    </tr>\n",
       "    <tr>\n",
       "      <th>3</th>\n",
       "      <td>1</td>\n",
       "      <td>0.826074</td>\n",
       "      <td>1</td>\n",
       "    </tr>\n",
       "    <tr>\n",
       "      <th>4</th>\n",
       "      <td>0</td>\n",
       "      <td>0.109373</td>\n",
       "      <td>0</td>\n",
       "    </tr>\n",
       "    <tr>\n",
       "      <th>...</th>\n",
       "      <td>...</td>\n",
       "      <td>...</td>\n",
       "      <td>...</td>\n",
       "    </tr>\n",
       "    <tr>\n",
       "      <th>2718</th>\n",
       "      <td>1</td>\n",
       "      <td>0.074780</td>\n",
       "      <td>0</td>\n",
       "    </tr>\n",
       "    <tr>\n",
       "      <th>2719</th>\n",
       "      <td>0</td>\n",
       "      <td>0.335573</td>\n",
       "      <td>0</td>\n",
       "    </tr>\n",
       "    <tr>\n",
       "      <th>2720</th>\n",
       "      <td>0</td>\n",
       "      <td>0.074148</td>\n",
       "      <td>0</td>\n",
       "    </tr>\n",
       "    <tr>\n",
       "      <th>2721</th>\n",
       "      <td>1</td>\n",
       "      <td>0.832372</td>\n",
       "      <td>1</td>\n",
       "    </tr>\n",
       "    <tr>\n",
       "      <th>2722</th>\n",
       "      <td>1</td>\n",
       "      <td>0.523104</td>\n",
       "      <td>1</td>\n",
       "    </tr>\n",
       "  </tbody>\n",
       "</table>\n",
       "<p>2723 rows × 3 columns</p>\n",
       "</div>"
      ],
      "text/plain": [
       "      Converted  Conversion_Prob  final_predicted\n",
       "0             0         0.381020                0\n",
       "1             1         0.865639                1\n",
       "2             1         0.982324                1\n",
       "3             1         0.826074                1\n",
       "4             0         0.109373                0\n",
       "...         ...              ...              ...\n",
       "2718          1         0.074780                0\n",
       "2719          0         0.335573                0\n",
       "2720          0         0.074148                0\n",
       "2721          1         0.832372                1\n",
       "2722          1         0.523104                1\n",
       "\n",
       "[2723 rows x 3 columns]"
      ]
     },
     "execution_count": 124,
     "metadata": {},
     "output_type": "execute_result"
    }
   ],
   "source": [
    "# Making prediction using cut off 0.41\n",
    "y_pred_final['final_predicted'] = y_pred_final.Conversion_Prob.map(lambda x: 1 if x > 0.41 else 0)\n",
    "y_pred_final"
   ]
  },
  {
   "cell_type": "code",
   "execution_count": 125,
   "id": "b619a81d",
   "metadata": {},
   "outputs": [
    {
     "data": {
      "text/plain": [
       "0.811972089607051"
      ]
     },
     "execution_count": 125,
     "metadata": {},
     "output_type": "execute_result"
    }
   ],
   "source": [
    "# Checking the overall accuracy\n",
    "metrics.accuracy_score(y_pred_final['Converted'], y_pred_final.final_predicted)"
   ]
  },
  {
   "cell_type": "code",
   "execution_count": 126,
   "id": "c44f51bf",
   "metadata": {},
   "outputs": [
    {
     "data": {
      "text/plain": [
       "array([[1439,  305],\n",
       "       [ 207,  772]], dtype=int64)"
      ]
     },
     "execution_count": 126,
     "metadata": {},
     "output_type": "execute_result"
    }
   ],
   "source": [
    "# Creating confusion matrix \n",
    "confusion2 = metrics.confusion_matrix(y_pred_final['Converted'], y_pred_final.final_predicted )\n",
    "confusion2"
   ]
  },
  {
   "cell_type": "code",
   "execution_count": 127,
   "id": "b7ef8ec3",
   "metadata": {},
   "outputs": [],
   "source": [
    "# Substituting the value of true positive\n",
    "TP = confusion2[1,1]\n",
    "\n",
    "# Substituting the value of true negatives\n",
    "TN = confusion2[0,0]\n",
    "\n",
    "# Substituting the value of false positives\n",
    "FP = confusion2[0,1] \n",
    "\n",
    "# Substituting the value of false negatives\n",
    "FN = confusion2[1,0]"
   ]
  },
  {
   "cell_type": "code",
   "execution_count": 128,
   "id": "7232edbe",
   "metadata": {},
   "outputs": [
    {
     "data": {
      "text/plain": [
       "0.7168059424326834"
      ]
     },
     "execution_count": 128,
     "metadata": {},
     "output_type": "execute_result"
    }
   ],
   "source": [
    "# Precision = TP / TP + FP\n",
    "TP / (TP + FP)"
   ]
  },
  {
   "cell_type": "code",
   "execution_count": 129,
   "id": "9994c505",
   "metadata": {},
   "outputs": [
    {
     "data": {
      "text/plain": [
       "0.7885597548518897"
      ]
     },
     "execution_count": 129,
     "metadata": {},
     "output_type": "execute_result"
    }
   ],
   "source": [
    "#Recall = TP / TP + FN\n",
    "TP / (TP + FN)"
   ]
  },
  {
   "cell_type": "markdown",
   "id": "8a1a3488",
   "metadata": {},
   "source": [
    "##### Conclusion:\n",
    "With the cut off of 0.41, the precision is around 73% and recall is around 76%."
   ]
  },
  {
   "cell_type": "markdown",
   "id": "e7aa52fe",
   "metadata": {},
   "source": [
    "## 15. Conclusion "
   ]
  },
  {
   "cell_type": "markdown",
   "id": "8d04608e",
   "metadata": {},
   "source": [
    "1.  From the analysis it was found that when the time is limited with the company, it needs to approach the hot leads i.e. those customers who are more likely to have conversion chance to achieve maximum conversion. \n",
    "2.  When the time is ample with the company along with resources and time it needs to approach all the potential leads and also approach customers who have lesser conversion rate to imporve overall conversion rate.\n",
    "3.  From the analysis, the variables that mattered the most in potential buyers were as follows:\n",
    "-  Total time spent on the website\n",
    "-  Total number of visits\n",
    "-  When their current occupation is as a working professional. </br>\n",
    "4.  To improve overall lead conversion rate, we need to focus more on improving lead converion rate of Customers originating from API and Landing Page Submission and generate more leads from Lead Add Form.\n",
    "5.  To improve overall lead conversion rate, we need to focus more on improving lead converion rate of Customers whose last activity was Email Opened and generate more leads from the ones whose last activity was SMS Sent."
   ]
  }
 ],
 "metadata": {
  "kernelspec": {
   "display_name": "Python 3 (ipykernel)",
   "language": "python",
   "name": "python3"
  },
  "language_info": {
   "codemirror_mode": {
    "name": "ipython",
    "version": 3
   },
   "file_extension": ".py",
   "mimetype": "text/x-python",
   "name": "python",
   "nbconvert_exporter": "python",
   "pygments_lexer": "ipython3",
   "version": "3.9.12"
  }
 },
 "nbformat": 4,
 "nbformat_minor": 5
}
